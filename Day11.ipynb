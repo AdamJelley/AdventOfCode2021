{
  "nbformat": 4,
  "nbformat_minor": 0,
  "metadata": {
    "colab": {
      "name": "Day11.ipynb",
      "provenance": [],
      "collapsed_sections": [],
      "authorship_tag": "ABX9TyOw/2a08X9+1rSglap/KG0r",
      "include_colab_link": true
    },
    "kernelspec": {
      "name": "python3",
      "display_name": "Python 3"
    },
    "language_info": {
      "name": "python"
    }
  },
  "cells": [
    {
      "cell_type": "markdown",
      "metadata": {
        "id": "view-in-github",
        "colab_type": "text"
      },
      "source": [
        "<a href=\"https://colab.research.google.com/github/AdamJelley/AdventOfCode2021/blob/main/Day11.ipynb\" target=\"_parent\"><img src=\"https://colab.research.google.com/assets/colab-badge.svg\" alt=\"Open In Colab\"/></a>"
      ]
    },
    {
      "cell_type": "markdown",
      "source": [
        "# Day 11"
      ],
      "metadata": {
        "id": "VbERFRFEJ_sd"
      }
    },
    {
      "cell_type": "code",
      "metadata": {
        "id": "IA-aL8oC0Q-f"
      },
      "source": [
        "import requests\n",
        "import csv\n",
        "import numpy as np"
      ],
      "execution_count": null,
      "outputs": []
    },
    {
      "cell_type": "code",
      "source": [
        "#Variables to set\n",
        "day = 11\n",
        "cookie = ''"
      ],
      "metadata": {
        "id": "6uJf_8geTXIs"
      },
      "execution_count": null,
      "outputs": []
    },
    {
      "cell_type": "code",
      "metadata": {
        "id": "jrpajyrthNv8"
      },
      "source": [
        "input_link = f'https://adventofcode.com/2021/day/{day}/input'\n",
        "user_cookie = {'session':cookie} # Retrieve session cookie corresponding to user login (by inspecting cookies on data page)"
      ],
      "execution_count": null,
      "outputs": []
    },
    {
      "cell_type": "code",
      "metadata": {
        "id": "mDRLEgtgmXod"
      },
      "source": [
        "raw_input = requests.get(input_link, cookies=user_cookie).text[:-1]\n",
        "initial_grid = np.array([[int(c) for c in line] for line in raw_input.split('\\n')])\n",
        "(grid_width, grid_height) = initial_grid.shape"
      ],
      "execution_count": null,
      "outputs": []
    },
    {
      "cell_type": "markdown",
      "source": [
        "## Part 1"
      ],
      "metadata": {
        "id": "Wv9hwnM_RNDv"
      }
    },
    {
      "cell_type": "code",
      "source": [
        "def take_step(current_grid, total_flashes):\n",
        "  current_grid+=1\n",
        "  octopuses_to_flash_tuple = np.where(current_grid>9)\n",
        "  octopuses_to_flash = list(zip(octopuses_to_flash_tuple[0], octopuses_to_flash_tuple[1]))\n",
        "\n",
        "  flashes = 0\n",
        "  flashed_octopuses = set()\n",
        "  while len(octopuses_to_flash)!=0:\n",
        "    (i,j) = octopuses_to_flash[0]\n",
        "    flashes+=1\n",
        "    flashed_octopuses.add((i,j))\n",
        "    current_grid[max(i-1,0):min(i+2,grid_width+1),max(j-1,0):min(j+2,grid_height+1)]+=1\n",
        "    octopuses_to_flash_tuple = np.where(current_grid>9)\n",
        "    octopuses_to_flash_set = set(zip(octopuses_to_flash_tuple[0], octopuses_to_flash_tuple[1]))\n",
        "    octopuses_to_flash = list(octopuses_to_flash_set-flashed_octopuses)\n",
        "  current_grid[current_grid>9]=0\n",
        "  total_flashes+=flashes\n",
        "\n",
        "  return current_grid, total_flashes"
      ],
      "metadata": {
        "id": "PfFpr2OdviAr"
      },
      "execution_count": 101,
      "outputs": []
    },
    {
      "cell_type": "code",
      "source": [
        "steps = 100\n",
        "total_flashes = 0\n",
        "current_grid = initial_grid.copy()\n",
        "\n",
        "for step in range(steps):\n",
        "  current_grid, total_flashes = take_step(current_grid, total_flashes)\n",
        "\n",
        "print(f'Total flashes after 100 steps: {total_flashes}')"
      ],
      "metadata": {
        "colab": {
          "base_uri": "https://localhost:8080/"
        },
        "id": "3QyuDNlxOIh_",
        "outputId": "ea02e40f-4723-4e41-96cc-d585f312813e"
      },
      "execution_count": 102,
      "outputs": [
        {
          "output_type": "stream",
          "name": "stdout",
          "text": [
            "Total flashes after 100 steps: 1613\n"
          ]
        }
      ]
    },
    {
      "cell_type": "markdown",
      "source": [
        "## Part 2"
      ],
      "metadata": {
        "id": "RJj2qYYJudM2"
      }
    },
    {
      "cell_type": "code",
      "source": [
        "all_flashed = False\n",
        "total_flashes = 0\n",
        "num_steps = 0\n",
        "current_grid = initial_grid.copy()\n",
        "\n",
        "while not all_flashed:\n",
        "  current_grid, total_flashes = take_step(current_grid, total_flashes)\n",
        "  num_steps += 1\n",
        "  if np.all(current_grid == np.zeros_like(current_grid)):\n",
        "    break\n",
        "\n",
        "print(f'Number of steps before octopuses synchronise: {num_steps}')"
      ],
      "metadata": {
        "colab": {
          "base_uri": "https://localhost:8080/"
        },
        "id": "g-lGU-Zbuelj",
        "outputId": "1fbea279-88dc-40e9-dfc1-73e8cecd1ff2"
      },
      "execution_count": null,
      "outputs": [
        {
          "output_type": "stream",
          "name": "stdout",
          "text": [
            "Number of steps before octopuses synchronise: 510\n"
          ]
        }
      ]
    }
  ]
}