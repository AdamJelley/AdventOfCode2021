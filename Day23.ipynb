{
  "nbformat": 4,
  "nbformat_minor": 0,
  "metadata": {
    "colab": {
      "name": "Day23.ipynb",
      "provenance": [],
      "collapsed_sections": [],
      "authorship_tag": "ABX9TyN04N78VjcDwxaOjMWbpU9g",
      "include_colab_link": true
    },
    "kernelspec": {
      "name": "python3",
      "display_name": "Python 3"
    },
    "language_info": {
      "name": "python"
    }
  },
  "cells": [
    {
      "cell_type": "markdown",
      "metadata": {
        "id": "view-in-github",
        "colab_type": "text"
      },
      "source": [
        "<a href=\"https://colab.research.google.com/github/AdamJelley/AdventOfCode2021/blob/main/Day23.ipynb\" target=\"_parent\"><img src=\"https://colab.research.google.com/assets/colab-badge.svg\" alt=\"Open In Colab\"/></a>"
      ]
    },
    {
      "cell_type": "markdown",
      "source": [
        "## Day 23"
      ],
      "metadata": {
        "id": "51phViP61lc6"
      }
    },
    {
      "cell_type": "code",
      "execution_count": 1,
      "metadata": {
        "id": "IA-aL8oC0Q-f"
      },
      "outputs": [],
      "source": [
        "import requests\n",
        "import numpy as np"
      ]
    },
    {
      "cell_type": "code",
      "execution_count": 2,
      "metadata": {
        "id": "6uJf_8geTXIs"
      },
      "outputs": [],
      "source": [
        "#Variables to set\n",
        "day = 23\n",
        "cookie = ''"
      ]
    },
    {
      "cell_type": "code",
      "execution_count": 3,
      "metadata": {
        "id": "jrpajyrthNv8"
      },
      "outputs": [],
      "source": [
        "input_link = f'https://adventofcode.com/2021/day/{day}/input'\n",
        "user_cookie = {'session':cookie} # Retrieve session cookie corresponding to user login (by inspecting cookies on data page)\n",
        "raw_input = requests.get(input_link, cookies=user_cookie).text[:-1]"
      ]
    },
    {
      "cell_type": "code",
      "source": [
        "processed_input = [[space for space in line] for line in raw_input.split('\\n')]\n",
        "for line in processed_input[3:]:\n",
        "  line[0] = '#'\n",
        "  line[1] = '#'\n",
        "  line.append('#')\n",
        "  line.append('#')\n",
        "initial_array = np.array(processed_input)\n",
        "assert(initial_array.shape == (5, 13))"
      ],
      "metadata": {
        "id": "6rbZ2jsosyuM"
      },
      "execution_count": 4,
      "outputs": []
    },
    {
      "cell_type": "code",
      "source": [
        "step_energies = {'A':1,\n",
        "                 'B':10,\n",
        "                 'C':100,\n",
        "                 'D':1000}"
      ],
      "metadata": {
        "id": "jL8NKQbhjHqH"
      },
      "execution_count": 5,
      "outputs": []
    },
    {
      "cell_type": "markdown",
      "source": [
        "## Part 1"
      ],
      "metadata": {
        "id": "ojZBWYZou2Wc"
      }
    },
    {
      "cell_type": "code",
      "source": [
        "def move_pod(array, start, end, step_energies, total_energy):\n",
        "  pod = array[start]\n",
        "  assert(pod in ['A', 'B', 'C', 'D'])\n",
        "  array[end] = pod\n",
        "  array[start] = '.'\n",
        "  if start[0]==1 or end[0]==1:\n",
        "    manhatten_distance = abs(end[0]-start[0])+abs(end[1]-start[1])\n",
        "  else:\n",
        "    manhatten_distance = abs(end[1]-start[1])+abs(start[0]-1)+abs(end[0]-1)\n",
        "  energy = manhatten_distance*step_energies[pod]\n",
        "  total_energy += energy\n",
        "  print(array)\n",
        "  print(f'Energy: {energy}, Total Energy: {total_energy}')\n",
        "  return array, energy, total_energy"
      ],
      "metadata": {
        "id": "cX_-uq3OnmdX"
      },
      "execution_count": 10,
      "outputs": []
    },
    {
      "cell_type": "code",
      "source": [
        "array=initial_array.copy()\n",
        "total_energy = 0\n",
        "print(initial_array)"
      ],
      "metadata": {
        "colab": {
          "base_uri": "https://localhost:8080/"
        },
        "id": "vmOlh4W16LxD",
        "outputId": "efd4fc9e-f9b0-4cbf-84f3-fc1576b1a639"
      },
      "execution_count": 169,
      "outputs": [
        {
          "output_type": "stream",
          "name": "stdout",
          "text": [
            "[['#' '#' '#' '#' '#' '#' '#' '#' '#' '#' '#' '#' '#']\n",
            " ['#' '.' '.' '.' '.' '.' '.' '.' '.' '.' '.' '.' '#']\n",
            " ['#' '#' '#' 'D' '#' 'D' '#' 'B' '#' 'A' '#' '#' '#']\n",
            " ['#' '#' '#' 'C' '#' 'A' '#' 'B' '#' 'C' '#' '#' '#']\n",
            " ['#' '#' '#' '#' '#' '#' '#' '#' '#' '#' '#' '#' '#']]\n"
          ]
        }
      ]
    },
    {
      "cell_type": "code",
      "source": [
        "array, energy, total_energy = move_pod(array, (2,9), (1,1), step_energies, total_energy)"
      ],
      "metadata": {
        "colab": {
          "base_uri": "https://localhost:8080/"
        },
        "id": "gCfGn2Wz6MY6",
        "outputId": "e53528c8-8af9-427e-b84a-b7057fd8a1d3"
      },
      "execution_count": 170,
      "outputs": [
        {
          "output_type": "stream",
          "name": "stdout",
          "text": [
            "[['#' '#' '#' '#' '#' '#' '#' '#' '#' '#' '#' '#' '#']\n",
            " ['#' 'A' '.' '.' '.' '.' '.' '.' '.' '.' '.' '.' '#']\n",
            " ['#' '#' '#' 'D' '#' 'D' '#' 'B' '#' '.' '#' '#' '#']\n",
            " ['#' '#' '#' 'C' '#' 'A' '#' 'B' '#' 'C' '#' '#' '#']\n",
            " ['#' '#' '#' '#' '#' '#' '#' '#' '#' '#' '#' '#' '#']]\n",
            "Energy: 9, Total Energy: 9\n"
          ]
        }
      ]
    },
    {
      "cell_type": "code",
      "source": [
        "array, energy, total_energy = move_pod(array, (2,7), (1,2), step_energies, total_energy)"
      ],
      "metadata": {
        "colab": {
          "base_uri": "https://localhost:8080/"
        },
        "id": "4FpnO5pp6dKe",
        "outputId": "2362fc29-c2e5-4210-9b18-dfc70334dcb7"
      },
      "execution_count": 171,
      "outputs": [
        {
          "output_type": "stream",
          "name": "stdout",
          "text": [
            "[['#' '#' '#' '#' '#' '#' '#' '#' '#' '#' '#' '#' '#']\n",
            " ['#' 'A' 'B' '.' '.' '.' '.' '.' '.' '.' '.' '.' '#']\n",
            " ['#' '#' '#' 'D' '#' 'D' '#' '.' '#' '.' '#' '#' '#']\n",
            " ['#' '#' '#' 'C' '#' 'A' '#' 'B' '#' 'C' '#' '#' '#']\n",
            " ['#' '#' '#' '#' '#' '#' '#' '#' '#' '#' '#' '#' '#']]\n",
            "Energy: 60, Total Energy: 69\n"
          ]
        }
      ]
    },
    {
      "cell_type": "code",
      "source": [
        "array, energy, total_energy = move_pod(array, (3,7), (1,4), step_energies, total_energy)"
      ],
      "metadata": {
        "colab": {
          "base_uri": "https://localhost:8080/"
        },
        "id": "uMRFZdyh6pvA",
        "outputId": "48236305-25f7-46d9-b205-f6f2ffecd7a1"
      },
      "execution_count": 172,
      "outputs": [
        {
          "output_type": "stream",
          "name": "stdout",
          "text": [
            "[['#' '#' '#' '#' '#' '#' '#' '#' '#' '#' '#' '#' '#']\n",
            " ['#' 'A' 'B' '.' 'B' '.' '.' '.' '.' '.' '.' '.' '#']\n",
            " ['#' '#' '#' 'D' '#' 'D' '#' '.' '#' '.' '#' '#' '#']\n",
            " ['#' '#' '#' 'C' '#' 'A' '#' '.' '#' 'C' '#' '#' '#']\n",
            " ['#' '#' '#' '#' '#' '#' '#' '#' '#' '#' '#' '#' '#']]\n",
            "Energy: 50, Total Energy: 119\n"
          ]
        }
      ]
    },
    {
      "cell_type": "code",
      "source": [
        "array, energy, total_energy = move_pod(array, (3,9), (3,7), step_energies, total_energy)"
      ],
      "metadata": {
        "colab": {
          "base_uri": "https://localhost:8080/"
        },
        "id": "rcpp3Zm56wwB",
        "outputId": "c4c25cdd-2429-4097-9a8d-33f1012b1822"
      },
      "execution_count": 173,
      "outputs": [
        {
          "output_type": "stream",
          "name": "stdout",
          "text": [
            "[['#' '#' '#' '#' '#' '#' '#' '#' '#' '#' '#' '#' '#']\n",
            " ['#' 'A' 'B' '.' 'B' '.' '.' '.' '.' '.' '.' '.' '#']\n",
            " ['#' '#' '#' 'D' '#' 'D' '#' '.' '#' '.' '#' '#' '#']\n",
            " ['#' '#' '#' 'C' '#' 'A' '#' 'C' '#' '.' '#' '#' '#']\n",
            " ['#' '#' '#' '#' '#' '#' '#' '#' '#' '#' '#' '#' '#']]\n",
            "Energy: 600, Total Energy: 719\n"
          ]
        }
      ]
    },
    {
      "cell_type": "code",
      "source": [
        "array, energy, total_energy = move_pod(array, (2,5), (3,9), step_energies, total_energy)"
      ],
      "metadata": {
        "colab": {
          "base_uri": "https://localhost:8080/"
        },
        "id": "9kpLFC8T66pq",
        "outputId": "099828ff-4b22-4406-ad2d-e31fb23163f0"
      },
      "execution_count": 174,
      "outputs": [
        {
          "output_type": "stream",
          "name": "stdout",
          "text": [
            "[['#' '#' '#' '#' '#' '#' '#' '#' '#' '#' '#' '#' '#']\n",
            " ['#' 'A' 'B' '.' 'B' '.' '.' '.' '.' '.' '.' '.' '#']\n",
            " ['#' '#' '#' 'D' '#' '.' '#' '.' '#' '.' '#' '#' '#']\n",
            " ['#' '#' '#' 'C' '#' 'A' '#' 'C' '#' 'D' '#' '#' '#']\n",
            " ['#' '#' '#' '#' '#' '#' '#' '#' '#' '#' '#' '#' '#']]\n",
            "Energy: 7000, Total Energy: 7719\n"
          ]
        }
      ]
    },
    {
      "cell_type": "code",
      "source": [
        "array, energy, total_energy = move_pod(array, (3,5), (1,10), step_energies, total_energy)"
      ],
      "metadata": {
        "colab": {
          "base_uri": "https://localhost:8080/"
        },
        "id": "1fi02JsJ7AXP",
        "outputId": "4dc8c37d-d3a0-4202-91d9-0fa42513a4cc"
      },
      "execution_count": 175,
      "outputs": [
        {
          "output_type": "stream",
          "name": "stdout",
          "text": [
            "[['#' '#' '#' '#' '#' '#' '#' '#' '#' '#' '#' '#' '#']\n",
            " ['#' 'A' 'B' '.' 'B' '.' '.' '.' '.' '.' 'A' '.' '#']\n",
            " ['#' '#' '#' 'D' '#' '.' '#' '.' '#' '.' '#' '#' '#']\n",
            " ['#' '#' '#' 'C' '#' '.' '#' 'C' '#' 'D' '#' '#' '#']\n",
            " ['#' '#' '#' '#' '#' '#' '#' '#' '#' '#' '#' '#' '#']]\n",
            "Energy: 7, Total Energy: 7726\n"
          ]
        }
      ]
    },
    {
      "cell_type": "code",
      "source": [
        "array, energy, total_energy = move_pod(array, (1,4), (3,5), step_energies, total_energy)"
      ],
      "metadata": {
        "colab": {
          "base_uri": "https://localhost:8080/"
        },
        "id": "yADqjRt07Gjm",
        "outputId": "603276f2-0da1-4597-9706-e10e8561a6bf"
      },
      "execution_count": 176,
      "outputs": [
        {
          "output_type": "stream",
          "name": "stdout",
          "text": [
            "[['#' '#' '#' '#' '#' '#' '#' '#' '#' '#' '#' '#' '#']\n",
            " ['#' 'A' 'B' '.' '.' '.' '.' '.' '.' '.' 'A' '.' '#']\n",
            " ['#' '#' '#' 'D' '#' '.' '#' '.' '#' '.' '#' '#' '#']\n",
            " ['#' '#' '#' 'C' '#' 'B' '#' 'C' '#' 'D' '#' '#' '#']\n",
            " ['#' '#' '#' '#' '#' '#' '#' '#' '#' '#' '#' '#' '#']]\n",
            "Energy: 30, Total Energy: 7756\n"
          ]
        }
      ]
    },
    {
      "cell_type": "code",
      "source": [
        "array, energy, total_energy = move_pod(array, (1,2), (2,5), step_energies, total_energy)"
      ],
      "metadata": {
        "colab": {
          "base_uri": "https://localhost:8080/"
        },
        "id": "fJ9q2Gwu7Kc4",
        "outputId": "fef058d5-32ba-43ed-a919-40c983aef83f"
      },
      "execution_count": 177,
      "outputs": [
        {
          "output_type": "stream",
          "name": "stdout",
          "text": [
            "[['#' '#' '#' '#' '#' '#' '#' '#' '#' '#' '#' '#' '#']\n",
            " ['#' 'A' '.' '.' '.' '.' '.' '.' '.' '.' 'A' '.' '#']\n",
            " ['#' '#' '#' 'D' '#' 'B' '#' '.' '#' '.' '#' '#' '#']\n",
            " ['#' '#' '#' 'C' '#' 'B' '#' 'C' '#' 'D' '#' '#' '#']\n",
            " ['#' '#' '#' '#' '#' '#' '#' '#' '#' '#' '#' '#' '#']]\n",
            "Energy: 40, Total Energy: 7796\n"
          ]
        }
      ]
    },
    {
      "cell_type": "code",
      "source": [
        "array, energy, total_energy = move_pod(array, (2,3), (2,9), step_energies, total_energy)"
      ],
      "metadata": {
        "colab": {
          "base_uri": "https://localhost:8080/"
        },
        "id": "9MbadPMQ7O91",
        "outputId": "a32dc716-9595-49cf-e729-758f5f526332"
      },
      "execution_count": 178,
      "outputs": [
        {
          "output_type": "stream",
          "name": "stdout",
          "text": [
            "[['#' '#' '#' '#' '#' '#' '#' '#' '#' '#' '#' '#' '#']\n",
            " ['#' 'A' '.' '.' '.' '.' '.' '.' '.' '.' 'A' '.' '#']\n",
            " ['#' '#' '#' '.' '#' 'B' '#' '.' '#' 'D' '#' '#' '#']\n",
            " ['#' '#' '#' 'C' '#' 'B' '#' 'C' '#' 'D' '#' '#' '#']\n",
            " ['#' '#' '#' '#' '#' '#' '#' '#' '#' '#' '#' '#' '#']]\n",
            "Energy: 8000, Total Energy: 15796\n"
          ]
        }
      ]
    },
    {
      "cell_type": "code",
      "source": [
        "array, energy, total_energy = move_pod(array, (3,3), (2,7), step_energies, total_energy)"
      ],
      "metadata": {
        "colab": {
          "base_uri": "https://localhost:8080/"
        },
        "id": "fNUr9X_e8Wws",
        "outputId": "92bbfa55-7e37-4499-c275-d77e20602bd1"
      },
      "execution_count": 179,
      "outputs": [
        {
          "output_type": "stream",
          "name": "stdout",
          "text": [
            "[['#' '#' '#' '#' '#' '#' '#' '#' '#' '#' '#' '#' '#']\n",
            " ['#' 'A' '.' '.' '.' '.' '.' '.' '.' '.' 'A' '.' '#']\n",
            " ['#' '#' '#' '.' '#' 'B' '#' 'C' '#' 'D' '#' '#' '#']\n",
            " ['#' '#' '#' '.' '#' 'B' '#' 'C' '#' 'D' '#' '#' '#']\n",
            " ['#' '#' '#' '#' '#' '#' '#' '#' '#' '#' '#' '#' '#']]\n",
            "Energy: 700, Total Energy: 16496\n"
          ]
        }
      ]
    },
    {
      "cell_type": "code",
      "source": [
        "array, energy, total_energy = move_pod(array, (1,1), (3,3), step_energies, total_energy)"
      ],
      "metadata": {
        "colab": {
          "base_uri": "https://localhost:8080/"
        },
        "id": "yjxVPA6I8buB",
        "outputId": "792bf17b-ff7e-487c-9b2f-452357586451"
      },
      "execution_count": 180,
      "outputs": [
        {
          "output_type": "stream",
          "name": "stdout",
          "text": [
            "[['#' '#' '#' '#' '#' '#' '#' '#' '#' '#' '#' '#' '#']\n",
            " ['#' '.' '.' '.' '.' '.' '.' '.' '.' '.' 'A' '.' '#']\n",
            " ['#' '#' '#' '.' '#' 'B' '#' 'C' '#' 'D' '#' '#' '#']\n",
            " ['#' '#' '#' 'A' '#' 'B' '#' 'C' '#' 'D' '#' '#' '#']\n",
            " ['#' '#' '#' '#' '#' '#' '#' '#' '#' '#' '#' '#' '#']]\n",
            "Energy: 4, Total Energy: 16500\n"
          ]
        }
      ]
    },
    {
      "cell_type": "code",
      "source": [
        "array, energy, total_energy = move_pod(array, (1,10), (2,3), step_energies, total_energy)"
      ],
      "metadata": {
        "colab": {
          "base_uri": "https://localhost:8080/"
        },
        "id": "mwY8ESJl8hmV",
        "outputId": "993ab9b7-9bbb-4213-b849-43fa90f64aa6"
      },
      "execution_count": 181,
      "outputs": [
        {
          "output_type": "stream",
          "name": "stdout",
          "text": [
            "[['#' '#' '#' '#' '#' '#' '#' '#' '#' '#' '#' '#' '#']\n",
            " ['#' '.' '.' '.' '.' '.' '.' '.' '.' '.' '.' '.' '#']\n",
            " ['#' '#' '#' 'A' '#' 'B' '#' 'C' '#' 'D' '#' '#' '#']\n",
            " ['#' '#' '#' 'A' '#' 'B' '#' 'C' '#' 'D' '#' '#' '#']\n",
            " ['#' '#' '#' '#' '#' '#' '#' '#' '#' '#' '#' '#' '#']]\n",
            "Energy: 8, Total Energy: 16508\n"
          ]
        }
      ]
    },
    {
      "cell_type": "markdown",
      "source": [
        "## Part 2"
      ],
      "metadata": {
        "id": "YGeDD31s-bv3"
      }
    },
    {
      "cell_type": "code",
      "source": [
        "array = initial_array.copy()\n",
        "new_row2 = list('###D#C#B#A###')\n",
        "new_row3 = list('###D#B#A#C###')\n",
        "full_array = np.insert(array, 3, new_row2, axis=0)\n",
        "full_array = np.insert(full_array, 4, new_row3, axis=0)"
      ],
      "metadata": {
        "id": "PYKsc3bm-clg"
      },
      "execution_count": 6,
      "outputs": []
    },
    {
      "cell_type": "code",
      "source": [
        "array=full_array.copy()\n",
        "total_energy = 0\n",
        "print(full_array)"
      ],
      "metadata": {
        "colab": {
          "base_uri": "https://localhost:8080/"
        },
        "outputId": "47b2eff3-7990-4ecc-d7dc-ae7af116760d",
        "id": "sDSQ5lHSfvvj"
      },
      "execution_count": 100,
      "outputs": [
        {
          "output_type": "stream",
          "name": "stdout",
          "text": [
            "[['#' '#' '#' '#' '#' '#' '#' '#' '#' '#' '#' '#' '#']\n",
            " ['#' '.' '.' '.' '.' '.' '.' '.' '.' '.' '.' '.' '#']\n",
            " ['#' '#' '#' 'D' '#' 'D' '#' 'B' '#' 'A' '#' '#' '#']\n",
            " ['#' '#' '#' 'D' '#' 'C' '#' 'B' '#' 'A' '#' '#' '#']\n",
            " ['#' '#' '#' 'D' '#' 'B' '#' 'A' '#' 'C' '#' '#' '#']\n",
            " ['#' '#' '#' 'C' '#' 'A' '#' 'B' '#' 'C' '#' '#' '#']\n",
            " ['#' '#' '#' '#' '#' '#' '#' '#' '#' '#' '#' '#' '#']]\n"
          ]
        }
      ]
    },
    {
      "cell_type": "code",
      "source": [
        "array, energy, total_energy = move_pod(array, (2,9), (1,1), step_energies, total_energy)"
      ],
      "metadata": {
        "colab": {
          "base_uri": "https://localhost:8080/"
        },
        "outputId": "4cf6d008-a883-4f52-97db-1ddfc9c1121a",
        "id": "R0O4vGl7fvvl"
      },
      "execution_count": 101,
      "outputs": [
        {
          "output_type": "stream",
          "name": "stdout",
          "text": [
            "[['#' '#' '#' '#' '#' '#' '#' '#' '#' '#' '#' '#' '#']\n",
            " ['#' 'A' '.' '.' '.' '.' '.' '.' '.' '.' '.' '.' '#']\n",
            " ['#' '#' '#' 'D' '#' 'D' '#' 'B' '#' '.' '#' '#' '#']\n",
            " ['#' '#' '#' 'D' '#' 'C' '#' 'B' '#' 'A' '#' '#' '#']\n",
            " ['#' '#' '#' 'D' '#' 'B' '#' 'A' '#' 'C' '#' '#' '#']\n",
            " ['#' '#' '#' 'C' '#' 'A' '#' 'B' '#' 'C' '#' '#' '#']\n",
            " ['#' '#' '#' '#' '#' '#' '#' '#' '#' '#' '#' '#' '#']]\n",
            "Energy: 9, Total Energy: 9\n"
          ]
        }
      ]
    },
    {
      "cell_type": "code",
      "source": [
        "array, energy, total_energy = move_pod(array, (3,9), (1,2), step_energies, total_energy)"
      ],
      "metadata": {
        "colab": {
          "base_uri": "https://localhost:8080/"
        },
        "outputId": "27442deb-0327-44f2-948f-558c54a7a071",
        "id": "JAulFiNlfvvm"
      },
      "execution_count": 102,
      "outputs": [
        {
          "output_type": "stream",
          "name": "stdout",
          "text": [
            "[['#' '#' '#' '#' '#' '#' '#' '#' '#' '#' '#' '#' '#']\n",
            " ['#' 'A' 'A' '.' '.' '.' '.' '.' '.' '.' '.' '.' '#']\n",
            " ['#' '#' '#' 'D' '#' 'D' '#' 'B' '#' '.' '#' '#' '#']\n",
            " ['#' '#' '#' 'D' '#' 'C' '#' 'B' '#' '.' '#' '#' '#']\n",
            " ['#' '#' '#' 'D' '#' 'B' '#' 'A' '#' 'C' '#' '#' '#']\n",
            " ['#' '#' '#' 'C' '#' 'A' '#' 'B' '#' 'C' '#' '#' '#']\n",
            " ['#' '#' '#' '#' '#' '#' '#' '#' '#' '#' '#' '#' '#']]\n",
            "Energy: 9, Total Energy: 18\n"
          ]
        }
      ]
    },
    {
      "cell_type": "code",
      "source": [
        "array, energy, total_energy = move_pod(array, (4,9), (1,11), step_energies, total_energy)"
      ],
      "metadata": {
        "colab": {
          "base_uri": "https://localhost:8080/"
        },
        "outputId": "94101510-1099-4743-92a2-b3cff379e580",
        "id": "mXYqUyFufvvm"
      },
      "execution_count": 103,
      "outputs": [
        {
          "output_type": "stream",
          "name": "stdout",
          "text": [
            "[['#' '#' '#' '#' '#' '#' '#' '#' '#' '#' '#' '#' '#']\n",
            " ['#' 'A' 'A' '.' '.' '.' '.' '.' '.' '.' '.' 'C' '#']\n",
            " ['#' '#' '#' 'D' '#' 'D' '#' 'B' '#' '.' '#' '#' '#']\n",
            " ['#' '#' '#' 'D' '#' 'C' '#' 'B' '#' '.' '#' '#' '#']\n",
            " ['#' '#' '#' 'D' '#' 'B' '#' 'A' '#' '.' '#' '#' '#']\n",
            " ['#' '#' '#' 'C' '#' 'A' '#' 'B' '#' 'C' '#' '#' '#']\n",
            " ['#' '#' '#' '#' '#' '#' '#' '#' '#' '#' '#' '#' '#']]\n",
            "Energy: 500, Total Energy: 518\n"
          ]
        }
      ]
    },
    {
      "cell_type": "code",
      "source": [
        "array, energy, total_energy = move_pod(array, (5,9), (1,10), step_energies, total_energy)"
      ],
      "metadata": {
        "colab": {
          "base_uri": "https://localhost:8080/"
        },
        "outputId": "e49171bf-bd10-48c1-8213-b474f269e39d",
        "id": "SrGRa1idfvvn"
      },
      "execution_count": 104,
      "outputs": [
        {
          "output_type": "stream",
          "name": "stdout",
          "text": [
            "[['#' '#' '#' '#' '#' '#' '#' '#' '#' '#' '#' '#' '#']\n",
            " ['#' 'A' 'A' '.' '.' '.' '.' '.' '.' '.' 'C' 'C' '#']\n",
            " ['#' '#' '#' 'D' '#' 'D' '#' 'B' '#' '.' '#' '#' '#']\n",
            " ['#' '#' '#' 'D' '#' 'C' '#' 'B' '#' '.' '#' '#' '#']\n",
            " ['#' '#' '#' 'D' '#' 'B' '#' 'A' '#' '.' '#' '#' '#']\n",
            " ['#' '#' '#' 'C' '#' 'A' '#' 'B' '#' '.' '#' '#' '#']\n",
            " ['#' '#' '#' '#' '#' '#' '#' '#' '#' '#' '#' '#' '#']]\n",
            "Energy: 500, Total Energy: 1018\n"
          ]
        }
      ]
    },
    {
      "cell_type": "code",
      "source": [
        "array, energy, total_energy = move_pod(array, (2,5), (5,9), step_energies, total_energy)"
      ],
      "metadata": {
        "colab": {
          "base_uri": "https://localhost:8080/"
        },
        "outputId": "2b606b79-e08b-4fb3-bbbc-57edefcbbbdc",
        "id": "5EzSSVXRfvvn"
      },
      "execution_count": 105,
      "outputs": [
        {
          "output_type": "stream",
          "name": "stdout",
          "text": [
            "[['#' '#' '#' '#' '#' '#' '#' '#' '#' '#' '#' '#' '#']\n",
            " ['#' 'A' 'A' '.' '.' '.' '.' '.' '.' '.' 'C' 'C' '#']\n",
            " ['#' '#' '#' 'D' '#' '.' '#' 'B' '#' '.' '#' '#' '#']\n",
            " ['#' '#' '#' 'D' '#' 'C' '#' 'B' '#' '.' '#' '#' '#']\n",
            " ['#' '#' '#' 'D' '#' 'B' '#' 'A' '#' '.' '#' '#' '#']\n",
            " ['#' '#' '#' 'C' '#' 'A' '#' 'B' '#' 'D' '#' '#' '#']\n",
            " ['#' '#' '#' '#' '#' '#' '#' '#' '#' '#' '#' '#' '#']]\n",
            "Energy: 9000, Total Energy: 10018\n"
          ]
        }
      ]
    },
    {
      "cell_type": "code",
      "source": [
        "array, energy, total_energy = move_pod(array, (2,3), (4,9), step_energies, total_energy)"
      ],
      "metadata": {
        "colab": {
          "base_uri": "https://localhost:8080/"
        },
        "outputId": "3bff56c8-ef46-4ef2-88b5-9d95fcc9e5fe",
        "id": "2QR0CZwCfvvn"
      },
      "execution_count": 106,
      "outputs": [
        {
          "output_type": "stream",
          "name": "stdout",
          "text": [
            "[['#' '#' '#' '#' '#' '#' '#' '#' '#' '#' '#' '#' '#']\n",
            " ['#' 'A' 'A' '.' '.' '.' '.' '.' '.' '.' 'C' 'C' '#']\n",
            " ['#' '#' '#' '.' '#' '.' '#' 'B' '#' '.' '#' '#' '#']\n",
            " ['#' '#' '#' 'D' '#' 'C' '#' 'B' '#' '.' '#' '#' '#']\n",
            " ['#' '#' '#' 'D' '#' 'B' '#' 'A' '#' 'D' '#' '#' '#']\n",
            " ['#' '#' '#' 'C' '#' 'A' '#' 'B' '#' 'D' '#' '#' '#']\n",
            " ['#' '#' '#' '#' '#' '#' '#' '#' '#' '#' '#' '#' '#']]\n",
            "Energy: 10000, Total Energy: 20018\n"
          ]
        }
      ]
    },
    {
      "cell_type": "code",
      "source": [
        "array, energy, total_energy = move_pod(array, (3,3), (3,9), step_energies, total_energy)"
      ],
      "metadata": {
        "colab": {
          "base_uri": "https://localhost:8080/"
        },
        "outputId": "43b6998c-cebc-480c-c824-c8905ea945ad",
        "id": "kJq4GeC5fvvo"
      },
      "execution_count": 107,
      "outputs": [
        {
          "output_type": "stream",
          "name": "stdout",
          "text": [
            "[['#' '#' '#' '#' '#' '#' '#' '#' '#' '#' '#' '#' '#']\n",
            " ['#' 'A' 'A' '.' '.' '.' '.' '.' '.' '.' 'C' 'C' '#']\n",
            " ['#' '#' '#' '.' '#' '.' '#' 'B' '#' '.' '#' '#' '#']\n",
            " ['#' '#' '#' '.' '#' 'C' '#' 'B' '#' 'D' '#' '#' '#']\n",
            " ['#' '#' '#' 'D' '#' 'B' '#' 'A' '#' 'D' '#' '#' '#']\n",
            " ['#' '#' '#' 'C' '#' 'A' '#' 'B' '#' 'D' '#' '#' '#']\n",
            " ['#' '#' '#' '#' '#' '#' '#' '#' '#' '#' '#' '#' '#']]\n",
            "Energy: 10000, Total Energy: 30018\n"
          ]
        }
      ]
    },
    {
      "cell_type": "code",
      "source": [
        "array, energy, total_energy = move_pod(array, (4,3), (2,9), step_energies, total_energy)"
      ],
      "metadata": {
        "colab": {
          "base_uri": "https://localhost:8080/"
        },
        "outputId": "bc5b527e-57cf-4969-90c1-3cb51c854e98",
        "id": "5RUCMiw2fvvo"
      },
      "execution_count": 108,
      "outputs": [
        {
          "output_type": "stream",
          "name": "stdout",
          "text": [
            "[['#' '#' '#' '#' '#' '#' '#' '#' '#' '#' '#' '#' '#']\n",
            " ['#' 'A' 'A' '.' '.' '.' '.' '.' '.' '.' 'C' 'C' '#']\n",
            " ['#' '#' '#' '.' '#' '.' '#' 'B' '#' 'D' '#' '#' '#']\n",
            " ['#' '#' '#' '.' '#' 'C' '#' 'B' '#' 'D' '#' '#' '#']\n",
            " ['#' '#' '#' '.' '#' 'B' '#' 'A' '#' 'D' '#' '#' '#']\n",
            " ['#' '#' '#' 'C' '#' 'A' '#' 'B' '#' 'D' '#' '#' '#']\n",
            " ['#' '#' '#' '#' '#' '#' '#' '#' '#' '#' '#' '#' '#']]\n",
            "Energy: 10000, Total Energy: 40018\n"
          ]
        }
      ]
    },
    {
      "cell_type": "code",
      "source": [
        "array, energy, total_energy = move_pod(array, (5,3), (1,8), step_energies, total_energy)"
      ],
      "metadata": {
        "colab": {
          "base_uri": "https://localhost:8080/"
        },
        "outputId": "6296e677-4045-460d-ddaa-2b65ae1ddd37",
        "id": "6LQzN-rgfvvo"
      },
      "execution_count": 109,
      "outputs": [
        {
          "output_type": "stream",
          "name": "stdout",
          "text": [
            "[['#' '#' '#' '#' '#' '#' '#' '#' '#' '#' '#' '#' '#']\n",
            " ['#' 'A' 'A' '.' '.' '.' '.' '.' 'C' '.' 'C' 'C' '#']\n",
            " ['#' '#' '#' '.' '#' '.' '#' 'B' '#' 'D' '#' '#' '#']\n",
            " ['#' '#' '#' '.' '#' 'C' '#' 'B' '#' 'D' '#' '#' '#']\n",
            " ['#' '#' '#' '.' '#' 'B' '#' 'A' '#' 'D' '#' '#' '#']\n",
            " ['#' '#' '#' '.' '#' 'A' '#' 'B' '#' 'D' '#' '#' '#']\n",
            " ['#' '#' '#' '#' '#' '#' '#' '#' '#' '#' '#' '#' '#']]\n",
            "Energy: 900, Total Energy: 40918\n"
          ]
        }
      ]
    },
    {
      "cell_type": "code",
      "source": [
        "array, energy, total_energy = move_pod(array, (1,2), (5,3), step_energies, total_energy)"
      ],
      "metadata": {
        "colab": {
          "base_uri": "https://localhost:8080/"
        },
        "outputId": "15d8328e-ae5d-4593-dc10-affee6681c0d",
        "id": "ysQI1roefvvp"
      },
      "execution_count": 110,
      "outputs": [
        {
          "output_type": "stream",
          "name": "stdout",
          "text": [
            "[['#' '#' '#' '#' '#' '#' '#' '#' '#' '#' '#' '#' '#']\n",
            " ['#' 'A' '.' '.' '.' '.' '.' '.' 'C' '.' 'C' 'C' '#']\n",
            " ['#' '#' '#' '.' '#' '.' '#' 'B' '#' 'D' '#' '#' '#']\n",
            " ['#' '#' '#' '.' '#' 'C' '#' 'B' '#' 'D' '#' '#' '#']\n",
            " ['#' '#' '#' '.' '#' 'B' '#' 'A' '#' 'D' '#' '#' '#']\n",
            " ['#' '#' '#' 'A' '#' 'A' '#' 'B' '#' 'D' '#' '#' '#']\n",
            " ['#' '#' '#' '#' '#' '#' '#' '#' '#' '#' '#' '#' '#']]\n",
            "Energy: 5, Total Energy: 40923\n"
          ]
        }
      ]
    },
    {
      "cell_type": "code",
      "source": [
        "array, energy, total_energy = move_pod(array, (1,1), (4,3), step_energies, total_energy)"
      ],
      "metadata": {
        "colab": {
          "base_uri": "https://localhost:8080/"
        },
        "outputId": "0e1d69d9-d592-4f47-a8c4-bdc61abf7392",
        "id": "NrbT-_GEfvvp"
      },
      "execution_count": 111,
      "outputs": [
        {
          "output_type": "stream",
          "name": "stdout",
          "text": [
            "[['#' '#' '#' '#' '#' '#' '#' '#' '#' '#' '#' '#' '#']\n",
            " ['#' '.' '.' '.' '.' '.' '.' '.' 'C' '.' 'C' 'C' '#']\n",
            " ['#' '#' '#' '.' '#' '.' '#' 'B' '#' 'D' '#' '#' '#']\n",
            " ['#' '#' '#' '.' '#' 'C' '#' 'B' '#' 'D' '#' '#' '#']\n",
            " ['#' '#' '#' 'A' '#' 'B' '#' 'A' '#' 'D' '#' '#' '#']\n",
            " ['#' '#' '#' 'A' '#' 'A' '#' 'B' '#' 'D' '#' '#' '#']\n",
            " ['#' '#' '#' '#' '#' '#' '#' '#' '#' '#' '#' '#' '#']]\n",
            "Energy: 5, Total Energy: 40928\n"
          ]
        }
      ]
    },
    {
      "cell_type": "code",
      "source": [
        "array, energy, total_energy = move_pod(array, (2,7), (1,1), step_energies, total_energy)"
      ],
      "metadata": {
        "colab": {
          "base_uri": "https://localhost:8080/"
        },
        "id": "30JHvE-Ef0gd",
        "outputId": "93782f77-5573-4bc0-e436-5448e88e435d"
      },
      "execution_count": 112,
      "outputs": [
        {
          "output_type": "stream",
          "name": "stdout",
          "text": [
            "[['#' '#' '#' '#' '#' '#' '#' '#' '#' '#' '#' '#' '#']\n",
            " ['#' 'B' '.' '.' '.' '.' '.' '.' 'C' '.' 'C' 'C' '#']\n",
            " ['#' '#' '#' '.' '#' '.' '#' '.' '#' 'D' '#' '#' '#']\n",
            " ['#' '#' '#' '.' '#' 'C' '#' 'B' '#' 'D' '#' '#' '#']\n",
            " ['#' '#' '#' 'A' '#' 'B' '#' 'A' '#' 'D' '#' '#' '#']\n",
            " ['#' '#' '#' 'A' '#' 'A' '#' 'B' '#' 'D' '#' '#' '#']\n",
            " ['#' '#' '#' '#' '#' '#' '#' '#' '#' '#' '#' '#' '#']]\n",
            "Energy: 70, Total Energy: 40998\n"
          ]
        }
      ]
    },
    {
      "cell_type": "code",
      "source": [
        "array, energy, total_energy = move_pod(array, (3,7), (1,2), step_energies, total_energy)"
      ],
      "metadata": {
        "colab": {
          "base_uri": "https://localhost:8080/"
        },
        "id": "YMLRfTrsgSJX",
        "outputId": "95ed96c5-5571-4db7-ee6e-985872249816"
      },
      "execution_count": 113,
      "outputs": [
        {
          "output_type": "stream",
          "name": "stdout",
          "text": [
            "[['#' '#' '#' '#' '#' '#' '#' '#' '#' '#' '#' '#' '#']\n",
            " ['#' 'B' 'B' '.' '.' '.' '.' '.' 'C' '.' 'C' 'C' '#']\n",
            " ['#' '#' '#' '.' '#' '.' '#' '.' '#' 'D' '#' '#' '#']\n",
            " ['#' '#' '#' '.' '#' 'C' '#' '.' '#' 'D' '#' '#' '#']\n",
            " ['#' '#' '#' 'A' '#' 'B' '#' 'A' '#' 'D' '#' '#' '#']\n",
            " ['#' '#' '#' 'A' '#' 'A' '#' 'B' '#' 'D' '#' '#' '#']\n",
            " ['#' '#' '#' '#' '#' '#' '#' '#' '#' '#' '#' '#' '#']]\n",
            "Energy: 70, Total Energy: 41068\n"
          ]
        }
      ]
    },
    {
      "cell_type": "code",
      "source": [
        "array, energy, total_energy = move_pod(array, (4,7), (3,3), step_energies, total_energy)"
      ],
      "metadata": {
        "colab": {
          "base_uri": "https://localhost:8080/"
        },
        "id": "J-phIj6qgWcF",
        "outputId": "b37568c5-0f8f-49fc-f367-b1f79796595d"
      },
      "execution_count": 114,
      "outputs": [
        {
          "output_type": "stream",
          "name": "stdout",
          "text": [
            "[['#' '#' '#' '#' '#' '#' '#' '#' '#' '#' '#' '#' '#']\n",
            " ['#' 'B' 'B' '.' '.' '.' '.' '.' 'C' '.' 'C' 'C' '#']\n",
            " ['#' '#' '#' '.' '#' '.' '#' '.' '#' 'D' '#' '#' '#']\n",
            " ['#' '#' '#' 'A' '#' 'C' '#' '.' '#' 'D' '#' '#' '#']\n",
            " ['#' '#' '#' 'A' '#' 'B' '#' '.' '#' 'D' '#' '#' '#']\n",
            " ['#' '#' '#' 'A' '#' 'A' '#' 'B' '#' 'D' '#' '#' '#']\n",
            " ['#' '#' '#' '#' '#' '#' '#' '#' '#' '#' '#' '#' '#']]\n",
            "Energy: 9, Total Energy: 41077\n"
          ]
        }
      ]
    },
    {
      "cell_type": "code",
      "source": [
        "array, energy, total_energy = move_pod(array, (5,7), (1,4), step_energies, total_energy)"
      ],
      "metadata": {
        "colab": {
          "base_uri": "https://localhost:8080/"
        },
        "id": "kcAN_W0agc-F",
        "outputId": "4534fd98-7cb8-4853-ac43-a8b13e5e5a93"
      },
      "execution_count": 115,
      "outputs": [
        {
          "output_type": "stream",
          "name": "stdout",
          "text": [
            "[['#' '#' '#' '#' '#' '#' '#' '#' '#' '#' '#' '#' '#']\n",
            " ['#' 'B' 'B' '.' 'B' '.' '.' '.' 'C' '.' 'C' 'C' '#']\n",
            " ['#' '#' '#' '.' '#' '.' '#' '.' '#' 'D' '#' '#' '#']\n",
            " ['#' '#' '#' 'A' '#' 'C' '#' '.' '#' 'D' '#' '#' '#']\n",
            " ['#' '#' '#' 'A' '#' 'B' '#' '.' '#' 'D' '#' '#' '#']\n",
            " ['#' '#' '#' 'A' '#' 'A' '#' '.' '#' 'D' '#' '#' '#']\n",
            " ['#' '#' '#' '#' '#' '#' '#' '#' '#' '#' '#' '#' '#']]\n",
            "Energy: 70, Total Energy: 41147\n"
          ]
        }
      ]
    },
    {
      "cell_type": "code",
      "source": [
        "array, energy, total_energy = move_pod(array, (3,5), (5,7), step_energies, total_energy)"
      ],
      "metadata": {
        "colab": {
          "base_uri": "https://localhost:8080/"
        },
        "id": "0tyaQf_igmZa",
        "outputId": "f1b9793e-a2c2-4ed5-f00b-735c2b20b36a"
      },
      "execution_count": 116,
      "outputs": [
        {
          "output_type": "stream",
          "name": "stdout",
          "text": [
            "[['#' '#' '#' '#' '#' '#' '#' '#' '#' '#' '#' '#' '#']\n",
            " ['#' 'B' 'B' '.' 'B' '.' '.' '.' 'C' '.' 'C' 'C' '#']\n",
            " ['#' '#' '#' '.' '#' '.' '#' '.' '#' 'D' '#' '#' '#']\n",
            " ['#' '#' '#' 'A' '#' '.' '#' '.' '#' 'D' '#' '#' '#']\n",
            " ['#' '#' '#' 'A' '#' 'B' '#' '.' '#' 'D' '#' '#' '#']\n",
            " ['#' '#' '#' 'A' '#' 'A' '#' 'C' '#' 'D' '#' '#' '#']\n",
            " ['#' '#' '#' '#' '#' '#' '#' '#' '#' '#' '#' '#' '#']]\n",
            "Energy: 800, Total Energy: 41947\n"
          ]
        }
      ]
    },
    {
      "cell_type": "code",
      "source": [
        "array, energy, total_energy = move_pod(array, (1,8), (4,7), step_energies, total_energy)"
      ],
      "metadata": {
        "colab": {
          "base_uri": "https://localhost:8080/"
        },
        "id": "vltJpjrIg21u",
        "outputId": "26a6b819-51c4-4b3d-c430-a9c95908039e"
      },
      "execution_count": 117,
      "outputs": [
        {
          "output_type": "stream",
          "name": "stdout",
          "text": [
            "[['#' '#' '#' '#' '#' '#' '#' '#' '#' '#' '#' '#' '#']\n",
            " ['#' 'B' 'B' '.' 'B' '.' '.' '.' '.' '.' 'C' 'C' '#']\n",
            " ['#' '#' '#' '.' '#' '.' '#' '.' '#' 'D' '#' '#' '#']\n",
            " ['#' '#' '#' 'A' '#' '.' '#' '.' '#' 'D' '#' '#' '#']\n",
            " ['#' '#' '#' 'A' '#' 'B' '#' 'C' '#' 'D' '#' '#' '#']\n",
            " ['#' '#' '#' 'A' '#' 'A' '#' 'C' '#' 'D' '#' '#' '#']\n",
            " ['#' '#' '#' '#' '#' '#' '#' '#' '#' '#' '#' '#' '#']]\n",
            "Energy: 400, Total Energy: 42347\n"
          ]
        }
      ]
    },
    {
      "cell_type": "code",
      "source": [
        "array, energy, total_energy = move_pod(array, (1,10), (3,7), step_energies, total_energy)"
      ],
      "metadata": {
        "colab": {
          "base_uri": "https://localhost:8080/"
        },
        "id": "mOtrtSRpg6DL",
        "outputId": "bce774bd-e376-46fc-c0ea-dc23e9b470ce"
      },
      "execution_count": 118,
      "outputs": [
        {
          "output_type": "stream",
          "name": "stdout",
          "text": [
            "[['#' '#' '#' '#' '#' '#' '#' '#' '#' '#' '#' '#' '#']\n",
            " ['#' 'B' 'B' '.' 'B' '.' '.' '.' '.' '.' '.' 'C' '#']\n",
            " ['#' '#' '#' '.' '#' '.' '#' '.' '#' 'D' '#' '#' '#']\n",
            " ['#' '#' '#' 'A' '#' '.' '#' 'C' '#' 'D' '#' '#' '#']\n",
            " ['#' '#' '#' 'A' '#' 'B' '#' 'C' '#' 'D' '#' '#' '#']\n",
            " ['#' '#' '#' 'A' '#' 'A' '#' 'C' '#' 'D' '#' '#' '#']\n",
            " ['#' '#' '#' '#' '#' '#' '#' '#' '#' '#' '#' '#' '#']]\n",
            "Energy: 500, Total Energy: 42847\n"
          ]
        }
      ]
    },
    {
      "cell_type": "code",
      "source": [
        "array, energy, total_energy = move_pod(array, (1,11), (2,7), step_energies, total_energy)"
      ],
      "metadata": {
        "colab": {
          "base_uri": "https://localhost:8080/"
        },
        "id": "grH-NCIFg8pz",
        "outputId": "c453856e-7f48-4f37-9ab6-b481506f9a4d"
      },
      "execution_count": 119,
      "outputs": [
        {
          "output_type": "stream",
          "name": "stdout",
          "text": [
            "[['#' '#' '#' '#' '#' '#' '#' '#' '#' '#' '#' '#' '#']\n",
            " ['#' 'B' 'B' '.' 'B' '.' '.' '.' '.' '.' '.' '.' '#']\n",
            " ['#' '#' '#' '.' '#' '.' '#' 'C' '#' 'D' '#' '#' '#']\n",
            " ['#' '#' '#' 'A' '#' '.' '#' 'C' '#' 'D' '#' '#' '#']\n",
            " ['#' '#' '#' 'A' '#' 'B' '#' 'C' '#' 'D' '#' '#' '#']\n",
            " ['#' '#' '#' 'A' '#' 'A' '#' 'C' '#' 'D' '#' '#' '#']\n",
            " ['#' '#' '#' '#' '#' '#' '#' '#' '#' '#' '#' '#' '#']]\n",
            "Energy: 500, Total Energy: 43347\n"
          ]
        }
      ]
    },
    {
      "cell_type": "code",
      "source": [
        "array, energy, total_energy = move_pod(array, (4,5), (1,8), step_energies, total_energy)"
      ],
      "metadata": {
        "colab": {
          "base_uri": "https://localhost:8080/"
        },
        "id": "T6Cj6RG-hAWY",
        "outputId": "67fa66a9-8cb4-41e0-ec7a-ac164ffdba42"
      },
      "execution_count": 120,
      "outputs": [
        {
          "output_type": "stream",
          "name": "stdout",
          "text": [
            "[['#' '#' '#' '#' '#' '#' '#' '#' '#' '#' '#' '#' '#']\n",
            " ['#' 'B' 'B' '.' 'B' '.' '.' '.' 'B' '.' '.' '.' '#']\n",
            " ['#' '#' '#' '.' '#' '.' '#' 'C' '#' 'D' '#' '#' '#']\n",
            " ['#' '#' '#' 'A' '#' '.' '#' 'C' '#' 'D' '#' '#' '#']\n",
            " ['#' '#' '#' 'A' '#' '.' '#' 'C' '#' 'D' '#' '#' '#']\n",
            " ['#' '#' '#' 'A' '#' 'A' '#' 'C' '#' 'D' '#' '#' '#']\n",
            " ['#' '#' '#' '#' '#' '#' '#' '#' '#' '#' '#' '#' '#']]\n",
            "Energy: 60, Total Energy: 43407\n"
          ]
        }
      ]
    },
    {
      "cell_type": "code",
      "source": [
        "array, energy, total_energy = move_pod(array, (5,5), (1,6), step_energies, total_energy)"
      ],
      "metadata": {
        "colab": {
          "base_uri": "https://localhost:8080/"
        },
        "id": "toWi9iUahHY1",
        "outputId": "a8a5b412-f667-4c31-9bfc-e690725f53cd"
      },
      "execution_count": 121,
      "outputs": [
        {
          "output_type": "stream",
          "name": "stdout",
          "text": [
            "[['#' '#' '#' '#' '#' '#' '#' '#' '#' '#' '#' '#' '#']\n",
            " ['#' 'B' 'B' '.' 'B' '.' 'A' '.' 'B' '.' '.' '.' '#']\n",
            " ['#' '#' '#' '.' '#' '.' '#' 'C' '#' 'D' '#' '#' '#']\n",
            " ['#' '#' '#' 'A' '#' '.' '#' 'C' '#' 'D' '#' '#' '#']\n",
            " ['#' '#' '#' 'A' '#' '.' '#' 'C' '#' 'D' '#' '#' '#']\n",
            " ['#' '#' '#' 'A' '#' '.' '#' 'C' '#' 'D' '#' '#' '#']\n",
            " ['#' '#' '#' '#' '#' '#' '#' '#' '#' '#' '#' '#' '#']]\n",
            "Energy: 5, Total Energy: 43412\n"
          ]
        }
      ]
    },
    {
      "cell_type": "code",
      "source": [
        "array, energy, total_energy = move_pod(array, (1,4), (5,5), step_energies, total_energy)"
      ],
      "metadata": {
        "colab": {
          "base_uri": "https://localhost:8080/"
        },
        "id": "6W1EHHHfhLxa",
        "outputId": "33ed40a8-943a-4583-93b0-971e2e2f94fb"
      },
      "execution_count": 122,
      "outputs": [
        {
          "output_type": "stream",
          "name": "stdout",
          "text": [
            "[['#' '#' '#' '#' '#' '#' '#' '#' '#' '#' '#' '#' '#']\n",
            " ['#' 'B' 'B' '.' '.' '.' 'A' '.' 'B' '.' '.' '.' '#']\n",
            " ['#' '#' '#' '.' '#' '.' '#' 'C' '#' 'D' '#' '#' '#']\n",
            " ['#' '#' '#' 'A' '#' '.' '#' 'C' '#' 'D' '#' '#' '#']\n",
            " ['#' '#' '#' 'A' '#' '.' '#' 'C' '#' 'D' '#' '#' '#']\n",
            " ['#' '#' '#' 'A' '#' 'B' '#' 'C' '#' 'D' '#' '#' '#']\n",
            " ['#' '#' '#' '#' '#' '#' '#' '#' '#' '#' '#' '#' '#']]\n",
            "Energy: 50, Total Energy: 43462\n"
          ]
        }
      ]
    },
    {
      "cell_type": "code",
      "source": [
        "array, energy, total_energy = move_pod(array, (1,2), (4,5), step_energies, total_energy)"
      ],
      "metadata": {
        "colab": {
          "base_uri": "https://localhost:8080/"
        },
        "id": "O7QXrHkihOt0",
        "outputId": "1a0ff4c8-dd58-446f-8055-57084869da54"
      },
      "execution_count": 123,
      "outputs": [
        {
          "output_type": "stream",
          "name": "stdout",
          "text": [
            "[['#' '#' '#' '#' '#' '#' '#' '#' '#' '#' '#' '#' '#']\n",
            " ['#' 'B' '.' '.' '.' '.' 'A' '.' 'B' '.' '.' '.' '#']\n",
            " ['#' '#' '#' '.' '#' '.' '#' 'C' '#' 'D' '#' '#' '#']\n",
            " ['#' '#' '#' 'A' '#' '.' '#' 'C' '#' 'D' '#' '#' '#']\n",
            " ['#' '#' '#' 'A' '#' 'B' '#' 'C' '#' 'D' '#' '#' '#']\n",
            " ['#' '#' '#' 'A' '#' 'B' '#' 'C' '#' 'D' '#' '#' '#']\n",
            " ['#' '#' '#' '#' '#' '#' '#' '#' '#' '#' '#' '#' '#']]\n",
            "Energy: 60, Total Energy: 43522\n"
          ]
        }
      ]
    },
    {
      "cell_type": "code",
      "source": [
        "array, energy, total_energy = move_pod(array, (1,1), (3,5), step_energies, total_energy)"
      ],
      "metadata": {
        "colab": {
          "base_uri": "https://localhost:8080/"
        },
        "id": "V3S3TN6XhQ74",
        "outputId": "8b53a81e-0c38-42d2-e1f9-c2de064089f7"
      },
      "execution_count": 124,
      "outputs": [
        {
          "output_type": "stream",
          "name": "stdout",
          "text": [
            "[['#' '#' '#' '#' '#' '#' '#' '#' '#' '#' '#' '#' '#']\n",
            " ['#' '.' '.' '.' '.' '.' 'A' '.' 'B' '.' '.' '.' '#']\n",
            " ['#' '#' '#' '.' '#' '.' '#' 'C' '#' 'D' '#' '#' '#']\n",
            " ['#' '#' '#' 'A' '#' 'B' '#' 'C' '#' 'D' '#' '#' '#']\n",
            " ['#' '#' '#' 'A' '#' 'B' '#' 'C' '#' 'D' '#' '#' '#']\n",
            " ['#' '#' '#' 'A' '#' 'B' '#' 'C' '#' 'D' '#' '#' '#']\n",
            " ['#' '#' '#' '#' '#' '#' '#' '#' '#' '#' '#' '#' '#']]\n",
            "Energy: 60, Total Energy: 43582\n"
          ]
        }
      ]
    },
    {
      "cell_type": "code",
      "source": [
        "array, energy, total_energy = move_pod(array, (1,6), (2,3), step_energies, total_energy)"
      ],
      "metadata": {
        "colab": {
          "base_uri": "https://localhost:8080/"
        },
        "id": "z_ZQnU3whT9Z",
        "outputId": "edfde228-b9da-4fa4-cdf3-1d6a8d13d87a"
      },
      "execution_count": 125,
      "outputs": [
        {
          "output_type": "stream",
          "name": "stdout",
          "text": [
            "[['#' '#' '#' '#' '#' '#' '#' '#' '#' '#' '#' '#' '#']\n",
            " ['#' '.' '.' '.' '.' '.' '.' '.' 'B' '.' '.' '.' '#']\n",
            " ['#' '#' '#' 'A' '#' '.' '#' 'C' '#' 'D' '#' '#' '#']\n",
            " ['#' '#' '#' 'A' '#' 'B' '#' 'C' '#' 'D' '#' '#' '#']\n",
            " ['#' '#' '#' 'A' '#' 'B' '#' 'C' '#' 'D' '#' '#' '#']\n",
            " ['#' '#' '#' 'A' '#' 'B' '#' 'C' '#' 'D' '#' '#' '#']\n",
            " ['#' '#' '#' '#' '#' '#' '#' '#' '#' '#' '#' '#' '#']]\n",
            "Energy: 4, Total Energy: 43586\n"
          ]
        }
      ]
    },
    {
      "cell_type": "code",
      "source": [
        "array, energy, total_energy = move_pod(array, (1,8), (2,5), step_energies, total_energy)"
      ],
      "metadata": {
        "colab": {
          "base_uri": "https://localhost:8080/"
        },
        "id": "yXJZ-61UhW8M",
        "outputId": "50a60c65-6d9c-4fc3-e805-7595df982760"
      },
      "execution_count": 126,
      "outputs": [
        {
          "output_type": "stream",
          "name": "stdout",
          "text": [
            "[['#' '#' '#' '#' '#' '#' '#' '#' '#' '#' '#' '#' '#']\n",
            " ['#' '.' '.' '.' '.' '.' '.' '.' '.' '.' '.' '.' '#']\n",
            " ['#' '#' '#' 'A' '#' 'B' '#' 'C' '#' 'D' '#' '#' '#']\n",
            " ['#' '#' '#' 'A' '#' 'B' '#' 'C' '#' 'D' '#' '#' '#']\n",
            " ['#' '#' '#' 'A' '#' 'B' '#' 'C' '#' 'D' '#' '#' '#']\n",
            " ['#' '#' '#' 'A' '#' 'B' '#' 'C' '#' 'D' '#' '#' '#']\n",
            " ['#' '#' '#' '#' '#' '#' '#' '#' '#' '#' '#' '#' '#']]\n",
            "Energy: 40, Total Energy: 43626\n"
          ]
        }
      ]
    }
  ]
}