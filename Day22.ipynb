{
  "nbformat": 4,
  "nbformat_minor": 0,
  "metadata": {
    "colab": {
      "name": "Day22.ipynb",
      "provenance": [],
      "collapsed_sections": [],
      "authorship_tag": "ABX9TyOhFfjxj08AO35z7O5ORthp",
      "include_colab_link": true
    },
    "kernelspec": {
      "name": "python3",
      "display_name": "Python 3"
    },
    "language_info": {
      "name": "python"
    }
  },
  "cells": [
    {
      "cell_type": "markdown",
      "metadata": {
        "id": "view-in-github",
        "colab_type": "text"
      },
      "source": [
        "<a href=\"https://colab.research.google.com/github/AdamJelley/AdventOfCode2021/blob/main/Day22.ipynb\" target=\"_parent\"><img src=\"https://colab.research.google.com/assets/colab-badge.svg\" alt=\"Open In Colab\"/></a>"
      ]
    },
    {
      "cell_type": "markdown",
      "source": [
        "## Day 22"
      ],
      "metadata": {
        "id": "51phViP61lc6"
      }
    },
    {
      "cell_type": "code",
      "execution_count": 138,
      "metadata": {
        "id": "IA-aL8oC0Q-f"
      },
      "outputs": [],
      "source": [
        "import requests\n",
        "import numpy as np\n",
        "from tqdm import tqdm"
      ]
    },
    {
      "cell_type": "code",
      "execution_count": 139,
      "metadata": {
        "id": "6uJf_8geTXIs"
      },
      "outputs": [],
      "source": [
        "#Variables to set\n",
        "day = 22\n",
        "cookie = ''"
      ]
    },
    {
      "cell_type": "code",
      "execution_count": 140,
      "metadata": {
        "id": "jrpajyrthNv8"
      },
      "outputs": [],
      "source": [
        "input_link = f'https://adventofcode.com/2021/day/{day}/input'\n",
        "user_cookie = {'session':cookie} # Retrieve session cookie corresponding to user login (by inspecting cookies on data page)\n",
        "raw_input = requests.get(input_link, cookies=user_cookie).text[:-1]"
      ]
    },
    {
      "cell_type": "code",
      "source": [
        "processed_input = raw_input.split('\\n')"
      ],
      "metadata": {
        "id": "6rbZ2jsosyuM"
      },
      "execution_count": 141,
      "outputs": []
    },
    {
      "cell_type": "code",
      "source": [
        "switch = [int(instruction.split(' ')[0].replace('on','1').replace('off','0')) for instruction in processed_input]\n",
        "cuboids = np.array([[list(map(int, coordinate.replace('x=','').replace('y=','').replace('z=','').split('..'))) for coordinate in instruction.split(' ')[1].split(',')] for instruction in processed_input])"
      ],
      "metadata": {
        "id": "OMbr-YOnrjc5"
      },
      "execution_count": 147,
      "outputs": []
    },
    {
      "cell_type": "markdown",
      "source": [
        "## Part 1"
      ],
      "metadata": {
        "id": "ojZBWYZou2Wc"
      }
    },
    {
      "cell_type": "code",
      "source": [
        "initialisation_reactor = np.zeros((101, 101, 101), dtype=int)\n",
        "\n",
        "for i, coordinates in enumerate(cuboids):\n",
        "  if np.all(coordinates<50) and np.all(-50<coordinates):\n",
        "    [[x1, x2], [y1,y2], [z1, z2]] = coordinates+50\n",
        "    initialisation_reactor[x1:x2+1, y1:y2+1, z1:z2+1] = switch[i]"
      ],
      "metadata": {
        "id": "FDO_5dkUrkSl"
      },
      "execution_count": 7,
      "outputs": []
    },
    {
      "cell_type": "code",
      "source": [
        "print(f'Number of lit cubes = {initialisation_reactor.sum()}')"
      ],
      "metadata": {
        "colab": {
          "base_uri": "https://localhost:8080/"
        },
        "id": "7SF-JyFMwG_C",
        "outputId": "d0707d2c-98f7-469a-8a63-9661c5951ced"
      },
      "execution_count": 8,
      "outputs": [
        {
          "output_type": "stream",
          "name": "stdout",
          "text": [
            "Number of lit cubes = 577205\n"
          ]
        }
      ]
    },
    {
      "cell_type": "markdown",
      "source": [
        "## Part 2"
      ],
      "metadata": {
        "id": "5kH-tf-EohXZ"
      }
    },
    {
      "cell_type": "code",
      "source": [
        "cuboids[:,:,1]+=1"
      ],
      "metadata": {
        "id": "Yk1MRO3Nqg4E"
      },
      "execution_count": 53,
      "outputs": []
    },
    {
      "cell_type": "code",
      "source": [
        "volume=np.uint(0)\n",
        "x_sorted = np.sort(cuboids[:,0,:].flatten())\n",
        "y_sorted = np.sort(cuboids[:,1,:].flatten())\n",
        "z_sorted = np.sort(cuboids[:,2,:].flatten())\n",
        "cuboids_reversed = cuboids[:][::-1]\n",
        "switch_reversed = switch[:][::-1]\n",
        "reversed_cuboids_switches = list(zip(cuboids_reversed, switch_reversed))\n",
        "\n",
        "for (x, x_next, y, y_next, z, z_next) in tqdm(((x, x_next, y, y_next, z, z_next) for x, x_next in zip(x_sorted[:-1], x_sorted[1:]) for y, y_next in zip(y_sorted[:-1], y_sorted[1:]) for z, z_next in zip(z_sorted[:-1], z_sorted[1:]))):\n",
        "  for cuboid, state in reversed_cuboids_switches:\n",
        "    if cuboid[0][0] <= x < cuboid[0][1] and cuboid[1][0] <= y < cuboid[1][1] and cuboid[2][0] <= z < cuboid[2][1]:\n",
        "      if state==1:\n",
        "        volume+=(x_next-x)*(y_next-y)*(z_next-z)\n",
        "      break\n",
        "          \n",
        "print('\\n')\n",
        "print(f'Total number of lit cubes: {int(volume)}')"
      ],
      "metadata": {
        "id": "PMPo4B9Ouq3-"
      },
      "execution_count": null,
      "outputs": []
    },
    {
      "cell_type": "markdown",
      "source": [
        "Total number of lit cubes: 1197308251666843"
      ],
      "metadata": {
        "id": "1vt-9oee1Pxa"
      }
    },
    {
      "cell_type": "markdown",
      "source": [
        "## Part 2 Original Attempt"
      ],
      "metadata": {
        "id": "AAwrDjAoZBCQ"
      }
    },
    {
      "cell_type": "code",
      "source": [
        "assert np.max(cuboids)<100000\n",
        "assert np.min(cuboids)>-100000"
      ],
      "metadata": {
        "id": "rfbLAytuZxtm"
      },
      "execution_count": 10,
      "outputs": []
    },
    {
      "cell_type": "code",
      "source": [
        "def calculate_volume(cubes):\n",
        "  total_volume = 0\n",
        "  for cube in cubes:\n",
        "    [[x1, x2], [y1, y2], [z1, z2]] = cube\n",
        "    volume = (x2+1-x1)*(y2+1-y1)*(z2+1-z1)\n",
        "    total_volume+=volume\n",
        "  return total_volume"
      ],
      "metadata": {
        "id": "e4af3VY9Sd-9"
      },
      "execution_count": 35,
      "outputs": []
    },
    {
      "cell_type": "code",
      "source": [
        "def calculate_overlap(cube1, cube2):\n",
        "\n",
        "  [[x1, x2], [y1, y2], [z1, z2]] = cube1\n",
        "  [[fut_x1, fut_x2], [fut_y1, fut_y2], [fut_z1, fut_z2]] = cube2\n",
        "\n",
        "  if (fut_x1 <= x1 <= fut_x2 or fut_x1 <= x2 <= fut_x2) \\\n",
        "  and (fut_y1 <= y1 <= fut_y2 or fut_y1 <= y2 <= fut_y2) \\\n",
        "  and (fut_z1 <= z1 <= fut_z2 or fut_z1 <= z2 <= fut_z2):\n",
        "    overlap = (min(x2+1, fut_x2+1) - max(x1, fut_x1))*(min(y2+1, fut_y2+1) - max(y1, fut_y1))*(min(z2+1, fut_z2+1) - max(z1, fut_z1))\n",
        "    overlap_cube = [[max(x1, fut_x1), min(x2, fut_x2)],[max(y1, fut_y1), min(y2, fut_y2)],[max(z1, fut_z1), min(z2, fut_z2)]]\n",
        "    new_cubes = [[[x1+1, x2-1], [y1+1, y2-1], [z1, overlap_cube[2][0]-1]], \n",
        "                 [[x1+1, x2-1], [y1+1, y2-1], [overlap_cube[2][1]+1, z2]], \n",
        "                 [[overlap_cube[0][0]+1, x2-1], [y1, overlap_cube[1][0]-1], [overlap_cube[2][0]+1, overlap_cube[2][1]-1]], \n",
        "                 [[overlap_cube[0][1]+1, x2-1], [overlap_cube[1][0]+1, y2-1], [overlap_cube[2][0]+1, overlap_cube[2][1]-1]], \n",
        "                 [[x1, overlap_cube[0][1]-1], [overlap_cube[1][1]+1, y2-1], [overlap_cube[2][0]+1, overlap_cube[2][1]-1]], \n",
        "                 [[x1, overlap_cube[0][0]-1], [y1, overlap_cube[1][1]-1], [overlap_cube[2][0]+1, overlap_cube[2][1]-1]]]\n",
        "    return overlap, overlap_cube, new_cubes\n",
        "  else:\n",
        "    overlap = 0\n",
        "    return overlap, None, None                                                                                 "
      ],
      "metadata": {
        "id": "r9Mni0Z6as8K"
      },
      "execution_count": 78,
      "outputs": []
    },
    {
      "cell_type": "code",
      "source": [
        "overlap, overlap_cube, new_cubes = calculate_overlap([[1,2],[1,2],[1,2]], [[2,3],[2,3],[2,3]])\n",
        "new_cubes"
      ],
      "metadata": {
        "colab": {
          "base_uri": "https://localhost:8080/"
        },
        "id": "_ZsXGZucP6Kr",
        "outputId": "e02dd707-4e0c-454b-dd45-a14d6e1aea10"
      },
      "execution_count": 79,
      "outputs": [
        {
          "output_type": "execute_result",
          "data": {
            "text/plain": [
              "[[[2, 1], [2, 1], [1, 1]],\n",
              " [[2, 1], [2, 1], [3, 2]],\n",
              " [[3, 1], [1, 1], [3, 1]],\n",
              " [[3, 1], [3, 1], [3, 1]],\n",
              " [[1, 1], [3, 1], [3, 1]],\n",
              " [[1, 1], [1, 1], [3, 1]]]"
            ]
          },
          "metadata": {},
          "execution_count": 79
        }
      ]
    },
    {
      "cell_type": "markdown",
      "source": [
        "Allowing for overlap of multiple cubes is getting complex. Approach would be to split all cubes into non-overlapping cubes and sum volumes, but would take time to implement. Instead enjoy break and leave more brute force coordinate compression approach running!"
      ],
      "metadata": {
        "id": "SmYIHzcStrPb"
      }
    }
  ]
}