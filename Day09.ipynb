{
  "nbformat": 4,
  "nbformat_minor": 0,
  "metadata": {
    "colab": {
      "name": "Day9.ipynb",
      "provenance": [],
      "collapsed_sections": [],
      "authorship_tag": "ABX9TyPC6afcyIn8wl7hsLkltUwL",
      "include_colab_link": true
    },
    "kernelspec": {
      "name": "python3",
      "display_name": "Python 3"
    },
    "language_info": {
      "name": "python"
    }
  },
  "cells": [
    {
      "cell_type": "markdown",
      "metadata": {
        "id": "view-in-github",
        "colab_type": "text"
      },
      "source": [
        "<a href=\"https://colab.research.google.com/github/AdamJelley/AdventOfCode2021/blob/main/Day9.ipynb\" target=\"_parent\"><img src=\"https://colab.research.google.com/assets/colab-badge.svg\" alt=\"Open In Colab\"/></a>"
      ]
    },
    {
      "cell_type": "markdown",
      "source": [
        "# Day 9"
      ],
      "metadata": {
        "id": "Uj0vgAo3Bjd0"
      }
    },
    {
      "cell_type": "code",
      "metadata": {
        "id": "IA-aL8oC0Q-f"
      },
      "source": [
        "import requests\n",
        "import csv\n",
        "import numpy as np"
      ],
      "execution_count": 48,
      "outputs": []
    },
    {
      "cell_type": "code",
      "source": [
        "#Variables to set\n",
        "day = 9\n",
        "cookie = ''"
      ],
      "metadata": {
        "id": "6uJf_8geTXIs"
      },
      "execution_count": 49,
      "outputs": []
    },
    {
      "cell_type": "code",
      "metadata": {
        "id": "jrpajyrthNv8"
      },
      "source": [
        "input_link = f'https://adventofcode.com/2021/day/{day}/input'\n",
        "user_cookie = {'session':cookie} # Retrieve session cookie corresponding to user login (by inspecting cookies on data page)"
      ],
      "execution_count": 50,
      "outputs": []
    },
    {
      "cell_type": "code",
      "metadata": {
        "id": "mDRLEgtgmXod"
      },
      "source": [
        "raw_input = requests.get(input_link, cookies=user_cookie).text[:-1]\n",
        "heightmap = np.array([[int(height) for height in row] for row in raw_input.split('\\n')])"
      ],
      "execution_count": 51,
      "outputs": []
    },
    {
      "cell_type": "markdown",
      "source": [
        "## Part 1"
      ],
      "metadata": {
        "id": "eJ53SZxiHsRw"
      }
    },
    {
      "cell_type": "code",
      "source": [
        "length=heightmap.shape[0]\n",
        "width=heightmap.shape[1]\n",
        "\n",
        "low_points = []\n",
        "\n",
        "for i, row in enumerate(heightmap):\n",
        "  for j, height in enumerate(row):\n",
        "\n",
        "    assert(height==heightmap[i,j])\n",
        "\n",
        "    if (i==0 or height < heightmap[i-1,j]) and (i==length-1 or height < heightmap[(i+1)%length,j]) \\\n",
        "    and (j==0 or height < heightmap[i,j-1]) and (j==width-1 or height < heightmap[i,(j+1)%width]):\n",
        "      low_points.append((i,j))\n",
        "\n",
        "risk_level = sum([heightmap[low_point]+1 for low_point in low_points])\n",
        "print(f'There are {len(low_points)} low points with total risk level {risk_level}')"
      ],
      "metadata": {
        "colab": {
          "base_uri": "https://localhost:8080/"
        },
        "id": "E2ukTXyRBiAh",
        "outputId": "77ae0fcc-c648-4b8a-8f97-142c5623e649"
      },
      "execution_count": 52,
      "outputs": [
        {
          "output_type": "stream",
          "name": "stdout",
          "text": [
            "There are 253 low points with total risk level 633\n"
          ]
        }
      ]
    },
    {
      "cell_type": "markdown",
      "source": [
        "## Part 2"
      ],
      "metadata": {
        "id": "n5bRcVY5HuKH"
      }
    },
    {
      "cell_type": "markdown",
      "source": [
        "Initially attempted to descend from each point to low point and assign point, but method was too slow. Instead take dynamic programming approach and work outwards from each low point:"
      ],
      "metadata": {
        "id": "kr8W_zirS7xt"
      }
    },
    {
      "cell_type": "code",
      "source": [
        "basin_sizes = dict.fromkeys(low_points, 0)\n",
        "visited_points = set()\n",
        "\n",
        "for low_point in low_points:\n",
        "  basin = [low_point]\n",
        "  while len(basin)!=0:\n",
        "    (i,j) = basin[0]\n",
        "    if (i!=0 and heightmap[i-1,j] > heightmap[i,j] and heightmap[i-1,j]!=9 and (i-1,j) not in visited_points):\n",
        "      basin.append((i-1,j))\n",
        "    if (i!=length-1 and heightmap[i+1,j] > heightmap[i,j] and heightmap[i+1,j] !=9 and (i+1,j) not in visited_points):\n",
        "      basin.append((i+1,j))\n",
        "    if (j!=0 and heightmap[i,j-1] > heightmap[i,j] and heightmap[i,j-1] !=9 and (i,j-1) not in visited_points):\n",
        "      basin.append((i,j-1))\n",
        "    if (j!=width-1 and heightmap[i,j+1] > heightmap[i,j] and heightmap[i,j+1] !=9 and (i,j+1) not in visited_points):\n",
        "      basin.append((i,j+1))\n",
        "    visited_points.update(basin)\n",
        "    basin.pop(0)\n",
        "    basin_sizes[low_point]+=1\n",
        "\n",
        "assert sum(basin_sizes.values())+(heightmap==9).sum()==length*width"
      ],
      "metadata": {
        "id": "9X1aBrHxLfqR"
      },
      "execution_count": 46,
      "outputs": []
    },
    {
      "cell_type": "code",
      "source": [
        "largest_basins = sorted(basin_sizes.values())[-3:]\n",
        "print(f'The three largest basins have sizes {largest_basins} with product {np.prod(largest_basins)}')"
      ],
      "metadata": {
        "colab": {
          "base_uri": "https://localhost:8080/"
        },
        "id": "MnS1BuS1jvCT",
        "outputId": "37a3611a-3900-45dd-eaa7-8946729e7946"
      },
      "execution_count": 47,
      "outputs": [
        {
          "output_type": "stream",
          "name": "stdout",
          "text": [
            "The three largest basins have sizes [99, 102, 104] with product 1050192\n"
          ]
        }
      ]
    }
  ]
}
