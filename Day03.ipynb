{
  "nbformat": 4,
  "nbformat_minor": 0,
  "metadata": {
    "colab": {
      "name": "Day3.ipynb",
      "provenance": [],
      "collapsed_sections": [],
      "authorship_tag": "ABX9TyNFydlAN+4pYv6FE5Sjx5B1",
      "include_colab_link": true
    },
    "kernelspec": {
      "name": "python3",
      "display_name": "Python 3"
    },
    "language_info": {
      "name": "python"
    }
  },
  "cells": [
    {
      "cell_type": "markdown",
      "metadata": {
        "id": "view-in-github",
        "colab_type": "text"
      },
      "source": [
        "<a href=\"https://colab.research.google.com/github/AdamJelley/AdventOfCode2021/blob/main/Day3.ipynb\" target=\"_parent\"><img src=\"https://colab.research.google.com/assets/colab-badge.svg\" alt=\"Open In Colab\"/></a>"
      ]
    },
    {
      "cell_type": "markdown",
      "metadata": {
        "id": "lDX5ZnchrIqg"
      },
      "source": [
        "# Day 3"
      ]
    },
    {
      "cell_type": "code",
      "metadata": {
        "id": "IA-aL8oC0Q-f"
      },
      "source": [
        "import requests\n",
        "import csv"
      ],
      "execution_count": 1,
      "outputs": []
    },
    {
      "cell_type": "code",
      "metadata": {
        "id": "jrpajyrthNv8"
      },
      "source": [
        "input_link = 'https://adventofcode.com/2021/day/3/input'\n",
        "user_cookie = {'session':'{ENTER COOKIE}'} # Retrieve session cookie corresponding to user login (by inspecting cookies on data page)"
      ],
      "execution_count": 2,
      "outputs": []
    },
    {
      "cell_type": "code",
      "metadata": {
        "id": "mDRLEgtgmXod"
      },
      "source": [
        "raw_input = requests.get(input_link, cookies=user_cookie).text\n",
        "list_input = raw_input.splitlines()"
      ],
      "execution_count": 11,
      "outputs": []
    },
    {
      "cell_type": "markdown",
      "metadata": {
        "id": "oHx72XZ1qvyu"
      },
      "source": [
        "## Part 1"
      ]
    },
    {
      "cell_type": "code",
      "metadata": {
        "id": "38sexB6FqyWi"
      },
      "source": [
        "processed_input = [[i[j] for i in list_input] for j in range(len(list_input[0]))]\n",
        "assert len(processed_input)==len(list_input[0])"
      ],
      "execution_count": 41,
      "outputs": []
    },
    {
      "cell_type": "code",
      "metadata": {
        "id": "1dZgGWYMrJcJ"
      },
      "source": [
        "modal_bits = ''\n",
        "for bit in processed_input:\n",
        "  modal_bit = max(bit, key=bit.count)\n",
        "  modal_bits += modal_bit\n",
        "\n",
        "antimodal_bits = ''.join(['1' if x=='0' else '0' for x in modal_bits])\n",
        "\n",
        "gamma_rate = int(modal_bits, base=2)\n",
        "epsilon_rate = int(antimodal_bits, base=2)\n",
        "\n",
        "power_consumption = gamma_rate*epsilon_rate"
      ],
      "execution_count": 47,
      "outputs": []
    },
    {
      "cell_type": "code",
      "metadata": {
        "colab": {
          "base_uri": "https://localhost:8080/"
        },
        "id": "Er97sLspsTQp",
        "outputId": "a34fb5ca-14d7-48fa-a191-4af484588b63"
      },
      "source": [
        "print(f'Power consumption = {power_consumption}')"
      ],
      "execution_count": 48,
      "outputs": [
        {
          "output_type": "stream",
          "name": "stdout",
          "text": [
            "Power consumption = 3320834\n"
          ]
        }
      ]
    },
    {
      "cell_type": "markdown",
      "metadata": {
        "id": "NofdMyg8wL_P"
      },
      "source": [
        "## Part 2"
      ]
    },
    {
      "cell_type": "code",
      "metadata": {
        "id": "PgbdAdkcwOAM"
      },
      "source": [
        "import numpy as np"
      ],
      "execution_count": 49,
      "outputs": []
    },
    {
      "cell_type": "code",
      "metadata": {
        "id": "p3zsTV_0y2mz"
      },
      "source": [
        "np_input = np.array(processed_input).T\n",
        "assert np_input.shape == (len(list_input), len(list_input[0]))"
      ],
      "execution_count": 54,
      "outputs": []
    },
    {
      "cell_type": "code",
      "metadata": {
        "colab": {
          "base_uri": "https://localhost:8080/"
        },
        "id": "qt9wIbyLy8mJ",
        "outputId": "2661ebe1-677d-45c1-f7f2-8c1d177dd888"
      },
      "source": [
        "# Oxygen Rating\n",
        "filtered_input = np_input.astype(int)\n",
        "\n",
        "for i in range(np_input.shape[1]):\n",
        "  if filtered_input.shape[0]==1:\n",
        "    break\n",
        "  num_ones = sum(filtered_input[:,i]==1)\n",
        "  num_zeros = sum(filtered_input[:,i]==0)\n",
        "  if num_ones>=num_zeros:\n",
        "    filtered_input = filtered_input[filtered_input[:,i]==1]\n",
        "  else:\n",
        "    filtered_input = filtered_input[filtered_input[:,i]==0]\n",
        "\n",
        "oxygen_rating_binary = ''.join([str(b) for b in filtered_input[0]])\n",
        "oxygen_rating = int(oxygen_rating_binary, base=2)\n",
        "print(f'Oxygen generator rating: {oxygen_rating}')"
      ],
      "execution_count": 87,
      "outputs": [
        {
          "output_type": "stream",
          "name": "stdout",
          "text": [
            "Oxygen generator rating: 2799\n"
          ]
        }
      ]
    },
    {
      "cell_type": "code",
      "metadata": {
        "colab": {
          "base_uri": "https://localhost:8080/"
        },
        "id": "qTxfITbg1MW7",
        "outputId": "4cf5b233-4eec-4537-c3dd-d1e139d6f008"
      },
      "source": [
        "# C02 Rating\n",
        "# Equivalent but reverse comparison operator (better to convert to function)\n",
        "\n",
        "filtered_input = np_input.astype(int)\n",
        "\n",
        "for i in range(np_input.shape[1]):\n",
        "  if filtered_input.shape[0]==1:\n",
        "    break\n",
        "  num_ones = sum(filtered_input[:,i]==1)\n",
        "  num_zeros = sum(filtered_input[:,i]==0)\n",
        "  if num_zeros>num_ones:\n",
        "    filtered_input = filtered_input[filtered_input[:,i]==1]\n",
        "  else:\n",
        "    filtered_input = filtered_input[filtered_input[:,i]==0]\n",
        "\n",
        "CO2_rating_binary = ''.join([str(b) for b in filtered_input[0]])\n",
        "CO2_rating = int(CO2_rating_binary, base=2)\n",
        "print(f'C02 scrubber rating: {CO2_rating}')"
      ],
      "execution_count": 88,
      "outputs": [
        {
          "output_type": "stream",
          "name": "stdout",
          "text": [
            "C02 scrubber rating: 1601\n"
          ]
        }
      ]
    },
    {
      "cell_type": "code",
      "metadata": {
        "colab": {
          "base_uri": "https://localhost:8080/"
        },
        "id": "vOXQuXF-31Ps",
        "outputId": "fa4842de-ba1f-4e04-8683-8a361606fb88"
      },
      "source": [
        "life_rating = oxygen_rating*CO2_rating\n",
        "print(f'Life support rating: {life_rating}')"
      ],
      "execution_count": 89,
      "outputs": [
        {
          "output_type": "stream",
          "name": "stdout",
          "text": [
            "Life support rating: 4481199\n"
          ]
        }
      ]
    },
    {
      "cell_type": "code",
      "metadata": {
        "id": "yqv-OZvm6qtt"
      },
      "source": [
        ""
      ],
      "execution_count": null,
      "outputs": []
    }
  ]
}
