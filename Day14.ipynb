{
  "nbformat": 4,
  "nbformat_minor": 0,
  "metadata": {
    "colab": {
      "name": "Day14.ipynb",
      "provenance": [],
      "collapsed_sections": [],
      "authorship_tag": "ABX9TyPCUZTmzVUWL26YANdw/9E6",
      "include_colab_link": true
    },
    "kernelspec": {
      "name": "python3",
      "display_name": "Python 3"
    },
    "language_info": {
      "name": "python"
    }
  },
  "cells": [
    {
      "cell_type": "markdown",
      "metadata": {
        "id": "view-in-github",
        "colab_type": "text"
      },
      "source": [
        "<a href=\"https://colab.research.google.com/github/AdamJelley/AdventOfCode2021/blob/main/Day14.ipynb\" target=\"_parent\"><img src=\"https://colab.research.google.com/assets/colab-badge.svg\" alt=\"Open In Colab\"/></a>"
      ]
    },
    {
      "cell_type": "markdown",
      "source": [
        "# Day 14"
      ],
      "metadata": {
        "id": "5x_J7tEqkC1H"
      }
    },
    {
      "cell_type": "code",
      "execution_count": 1,
      "metadata": {
        "id": "IA-aL8oC0Q-f"
      },
      "outputs": [],
      "source": [
        "import requests\n",
        "import numpy as np\n",
        "from collections import Counter, OrderedDict"
      ]
    },
    {
      "cell_type": "code",
      "execution_count": 2,
      "metadata": {
        "id": "6uJf_8geTXIs"
      },
      "outputs": [],
      "source": [
        "#Variables to set\n",
        "day = 14\n",
        "cookie = ''"
      ]
    },
    {
      "cell_type": "code",
      "execution_count": 3,
      "metadata": {
        "id": "jrpajyrthNv8"
      },
      "outputs": [],
      "source": [
        "input_link = f'https://adventofcode.com/2021/day/{day}/input'\n",
        "user_cookie = {'session':cookie} # Retrieve session cookie corresponding to user login (by inspecting cookies on data page)"
      ]
    },
    {
      "cell_type": "code",
      "execution_count": 4,
      "metadata": {
        "id": "mDRLEgtgmXod"
      },
      "outputs": [],
      "source": [
        "raw_input = requests.get(input_link, cookies=user_cookie).text[:-1]\n",
        "[raw_template, raw_pair_insertions] = raw_input.split('\\n\\n')\n",
        "template = raw_template\n",
        "pair_insertions_list = [raw_pair_insertion.split(' -> ') for raw_pair_insertion in raw_pair_insertions.split('\\n')]\n",
        "pair_insertions = {k:v for [k,v] in pair_insertions_list}"
      ]
    },
    {
      "cell_type": "markdown",
      "source": [
        "## Part 1"
      ],
      "metadata": {
        "id": "9J6dnjcbPY95"
      }
    },
    {
      "cell_type": "code",
      "source": [
        "def insertion_step(polymer, pair_insertions):\n",
        "  pairs = [polymer[i:i+2] for i in range(len(polymer)-1)]\n",
        "  new_polymer = ''\n",
        "  for pair in pairs:\n",
        "    new_element = pair[0]+pair_insertions[pair]\n",
        "    new_polymer+=new_element\n",
        "  new_polymer+=pair[1]\n",
        "  return new_polymer"
      ],
      "metadata": {
        "id": "t7PtJAH_PBOi"
      },
      "execution_count": 5,
      "outputs": []
    },
    {
      "cell_type": "code",
      "source": [
        "num_steps = 10\n",
        "new_polymer = template\n",
        "for step in range(num_steps):\n",
        "  new_polymer = insertion_step(new_polymer, pair_insertions)\n",
        "element_counts = OrderedDict(sorted(Counter(new_polymer).items(), key=lambda t: t[1]))\n",
        "greatest_frequency = list(element_counts.values())[-1]\n",
        "least_frequency = list(element_counts.values())[0]\n",
        "print(f'Difference in frequency between most frequent and least frequent elements = {greatest_frequency-least_frequency}')"
      ],
      "metadata": {
        "colab": {
          "base_uri": "https://localhost:8080/"
        },
        "id": "Gc7vlp4CQFRH",
        "outputId": "0d6f4e53-6f5a-4171-e4ab-05459ae18a7a"
      },
      "execution_count": 7,
      "outputs": [
        {
          "output_type": "stream",
          "name": "stdout",
          "text": [
            "Difference in frequency between most frequent and least frequent elements = 2345\n"
          ]
        }
      ]
    },
    {
      "cell_type": "markdown",
      "source": [
        "## Part 2"
      ],
      "metadata": {
        "id": "4Dbroa0qJwLN"
      }
    },
    {
      "cell_type": "markdown",
      "source": [
        "Method above takes too much RAM for 40 steps! Note that order of pairs is not important, so instead use counter."
      ],
      "metadata": {
        "id": "QmBO7q1d7vzb"
      }
    },
    {
      "cell_type": "code",
      "source": [
        "initial_pairs = Counter([template[i:i+2] for i in range(len(template)-1)])"
      ],
      "metadata": {
        "id": "r7c2buXSbqsh"
      },
      "execution_count": 8,
      "outputs": []
    },
    {
      "cell_type": "code",
      "source": [
        "# Update pair counter for 40 steps\n",
        "current_pairs = Counter(initial_pairs)\n",
        "num_steps = 40\n",
        "\n",
        "for step in range(num_steps):\n",
        "  new_pairs = Counter()\n",
        "  for pair in current_pairs:\n",
        "    new_element = pair_insertions[pair]\n",
        "    new_pairs[pair[0]+new_element] += current_pairs[pair]\n",
        "    new_pairs[new_element+pair[1]] += current_pairs[pair]\n",
        "  current_pairs = new_pairs"
      ],
      "metadata": {
        "id": "UYiE4v5YcOtd"
      },
      "execution_count": 9,
      "outputs": []
    },
    {
      "cell_type": "code",
      "source": [
        "# Convert to single element counter\n",
        "element_counter = Counter()\n",
        "for pair in current_pairs:\n",
        "  element_counter[pair[0]]+=current_pairs[pair]\n",
        "element_counter[template[-1]]+=1\n",
        "# assert element_counter == element_counts # For 10 steps"
      ],
      "metadata": {
        "id": "ayr63-TcJ2Fl"
      },
      "execution_count": 10,
      "outputs": []
    },
    {
      "cell_type": "code",
      "source": [
        "# Convert to ordered counter to get solution\n",
        "ordered_element_counter = OrderedDict(sorted(element_counter.items(), key=lambda t: t[1]))\n",
        "new_greatest_frequency = list(ordered_element_counter.values())[-1]\n",
        "new_least_frequency = list(ordered_element_counter.values())[0]\n",
        "print(f'Difference in frequency between most frequent and least frequent elements = {new_greatest_frequency-new_least_frequency}')"
      ],
      "metadata": {
        "colab": {
          "base_uri": "https://localhost:8080/"
        },
        "id": "43GijqxWSd49",
        "outputId": "a3584603-c241-40ff-ff04-1b93d4c3309f"
      },
      "execution_count": 14,
      "outputs": [
        {
          "output_type": "stream",
          "name": "stdout",
          "text": [
            "Difference in frequency between most frequent and least frequent elements = 2432786807053\n"
          ]
        }
      ]
    },
    {
      "cell_type": "code",
      "source": [
        ""
      ],
      "metadata": {
        "id": "FHUSg9nhSnEo"
      },
      "execution_count": null,
      "outputs": []
    }
  ]
}