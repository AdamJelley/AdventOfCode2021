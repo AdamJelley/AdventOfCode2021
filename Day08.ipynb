{
  "nbformat": 4,
  "nbformat_minor": 0,
  "metadata": {
    "colab": {
      "name": "Day8.ipynb",
      "provenance": [],
      "collapsed_sections": [],
      "authorship_tag": "ABX9TyPtCtRvDxijfmCdVPxU0jGt",
      "include_colab_link": true
    },
    "kernelspec": {
      "name": "python3",
      "display_name": "Python 3"
    },
    "language_info": {
      "name": "python"
    }
  },
  "cells": [
    {
      "cell_type": "markdown",
      "metadata": {
        "id": "view-in-github",
        "colab_type": "text"
      },
      "source": [
        "<a href=\"https://colab.research.google.com/github/AdamJelley/AdventOfCode2021/blob/main/Day8.ipynb\" target=\"_parent\"><img src=\"https://colab.research.google.com/assets/colab-badge.svg\" alt=\"Open In Colab\"/></a>"
      ]
    },
    {
      "cell_type": "code",
      "metadata": {
        "id": "IA-aL8oC0Q-f"
      },
      "source": [
        "import requests\n",
        "import csv\n",
        "import numpy as np"
      ],
      "execution_count": 2,
      "outputs": []
    },
    {
      "cell_type": "code",
      "metadata": {
        "id": "jrpajyrthNv8"
      },
      "source": [
        "input_link = 'https://adventofcode.com/2021/day/8/input'\n",
        "user_cookie = {'session':''} # Retrieve session cookie corresponding to user login (by inspecting cookies on data page)"
      ],
      "execution_count": 3,
      "outputs": []
    },
    {
      "cell_type": "code",
      "metadata": {
        "id": "mDRLEgtgmXod"
      },
      "source": [
        "raw_input = requests.get(input_link, cookies=user_cookie).text[:-1]\n",
        "processed_input = [line.split(' | ') for line in raw_input.split('\\n')]\n",
        "segments_by_digit = {0:6,1:2,2:5,3:5,4:4,5:5,6:6,7:3,8:7,9:6} # From digit diagram"
      ],
      "execution_count": 4,
      "outputs": []
    },
    {
      "cell_type": "markdown",
      "source": [
        "## Part 1"
      ],
      "metadata": {
        "id": "PkahAwEPw0V1"
      }
    },
    {
      "cell_type": "code",
      "source": [
        "# Invert segments by digit\n",
        "digits_by_segment = {v:[] for v in segments_by_digit.values()}\n",
        "for k, v in segments_by_digit.items():\n",
        "  digits_by_segment[v].append(k)\n",
        "digits_by_segment"
      ],
      "metadata": {
        "colab": {
          "base_uri": "https://localhost:8080/"
        },
        "id": "v5m5Jue_x6st",
        "outputId": "1954368e-a765-44a7-d282-0c9bf9ab495a"
      },
      "execution_count": 5,
      "outputs": [
        {
          "output_type": "execute_result",
          "data": {
            "text/plain": [
              "{2: [1], 3: [7], 4: [4], 5: [2, 3, 5], 6: [0, 6, 9], 7: [8]}"
            ]
          },
          "metadata": {},
          "execution_count": 5
        }
      ]
    },
    {
      "cell_type": "markdown",
      "source": [
        "So digits 1, 4, 7, 8 have a unique number of segments with 2, 4, 3 and 7 respectively."
      ],
      "metadata": {
        "id": "-O1XJXKKxigt"
      }
    },
    {
      "cell_type": "code",
      "source": [
        "unsorted_processed_codes = [[line[i].split(' ') for i in range(2)] for line in processed_input]\n",
        "processed_codes = [[[''.join(sorted(code)) for code in codes] for codes in line] for line in unsorted_processed_codes]"
      ],
      "metadata": {
        "id": "SC0BSaC5wx9x"
      },
      "execution_count": 22,
      "outputs": []
    },
    {
      "cell_type": "code",
      "source": [
        "num_unique_segment_digits = 0\n",
        "\n",
        "for line in processed_codes:\n",
        "  for digit in line[1]:\n",
        "    if len(digit) in set((2,4,3,7)):\n",
        "      num_unique_segment_digits+=1\n",
        "print(f'Num unique segment digits (1,4,7,8) in output: {num_unique_segment_digits}')"
      ],
      "metadata": {
        "colab": {
          "base_uri": "https://localhost:8080/"
        },
        "id": "EfxcSCpIwWP5",
        "outputId": "443ce658-813b-4c3e-ef04-8a996759e89e"
      },
      "execution_count": 23,
      "outputs": [
        {
          "output_type": "stream",
          "name": "stdout",
          "text": [
            "Num unique segment digits (1,4,7,8) in output: 278\n"
          ]
        }
      ]
    },
    {
      "cell_type": "markdown",
      "source": [
        "## Part 2"
      ],
      "metadata": {
        "id": "LmGiT-BK2_Vw"
      }
    },
    {
      "cell_type": "code",
      "source": [
        "def compute_code_mapping(line):\n",
        "  mapping = {} \n",
        "  inverse_mapping = {}\n",
        "  for code in line[0]: #First find mappings for digits with unique segments\n",
        "    if len(code)==2:\n",
        "      mapping[code]=1\n",
        "      inverse_mapping[1]=code\n",
        "    elif len(code)==4:\n",
        "      mapping[code]=4\n",
        "      inverse_mapping[4]=code\n",
        "    elif len(code)==3:\n",
        "      mapping[code]=7\n",
        "      inverse_mapping[7]=code\n",
        "    elif len(code)==7:\n",
        "      mapping[code]=8\n",
        "      inverse_mapping[8]=code\n",
        "  for code in line[0]: # Then use these mappings to compute mappings for other digits\n",
        "    if len(code)==6:\n",
        "      if sum([letter in code for letter in inverse_mapping[1]])==1: #Using segment overlap with digit 1\n",
        "        mapping[code]=6\n",
        "        inverse_mapping[6]=code\n",
        "      elif sum([letter in code for letter in inverse_mapping[4]])==4: #Using segment overlap with digit 4\n",
        "        mapping[code]=9\n",
        "        inverse_mapping[9]=code\n",
        "      else:\n",
        "        mapping[code]=0\n",
        "        inverse_mapping[0]=code\n",
        "    elif len(code)==5:\n",
        "      if sum([letter in code for letter in inverse_mapping[1]])==2: #Using segment overlap with digit 1\n",
        "        mapping[code]=3\n",
        "        inverse_mapping[3]=code\n",
        "      elif sum([letter in code for letter in inverse_mapping[4]])==2: #Using segment overlap with digit 4\n",
        "        mapping[code]=2\n",
        "        inverse_mapping[2]=code\n",
        "      elif sum([letter in code for letter in inverse_mapping[4]])==3: #Using segment overlap with digit 4\n",
        "        mapping[code]=5\n",
        "        inverse_mapping[5]=code\n",
        "\n",
        "  assert set(mapping.values())==set(range(10))\n",
        "\n",
        "  return mapping"
      ],
      "metadata": {
        "id": "Jr4x_ebh3NLH"
      },
      "execution_count": 83,
      "outputs": []
    },
    {
      "cell_type": "code",
      "source": [
        "# Test mapping function\n",
        "test_line = processed_codes[0]\n",
        "\n",
        "mapping = compute_code_mapping(test_line)\n",
        "\n",
        "for code in test_line[0]:\n",
        "  try:\n",
        "    print(code, mapping[code])\n",
        "  except:\n",
        "    (print(code, 'No key'))"
      ],
      "metadata": {
        "colab": {
          "base_uri": "https://localhost:8080/"
        },
        "id": "NDLz6dG61SZY",
        "outputId": "91fb38a2-b86e-4967-e2a3-73dd8adfd1ca"
      },
      "execution_count": 79,
      "outputs": [
        {
          "output_type": "stream",
          "name": "stdout",
          "text": [
            "acefg 3\n",
            "abcef 5\n",
            "abcdef 6\n",
            "eg 1\n",
            "abcefg 9\n",
            "abdefg 0\n",
            "efg 7\n",
            "acdfg 2\n",
            "bceg 4\n",
            "abcdefg 8\n"
          ]
        }
      ]
    },
    {
      "cell_type": "code",
      "source": [
        "def decode_output(line, mapping):\n",
        "  output = ''\n",
        "  for code in line[1]:\n",
        "    output+=(str(mapping[code]))\n",
        "  return int(output)"
      ],
      "metadata": {
        "id": "HY1fcHGs5UGC"
      },
      "execution_count": 80,
      "outputs": []
    },
    {
      "cell_type": "code",
      "source": [
        "# Test decoder\n",
        "test_output = decode_output(test_line, mapping)\n",
        "print(test_output)"
      ],
      "metadata": {
        "colab": {
          "base_uri": "https://localhost:8080/"
        },
        "id": "VuITyrzpvgNg",
        "outputId": "189fe984-2b88-498b-eaa2-0901f277ff2a"
      },
      "execution_count": 81,
      "outputs": [
        {
          "output_type": "stream",
          "name": "stdout",
          "text": [
            "8324\n"
          ]
        }
      ]
    },
    {
      "cell_type": "code",
      "source": [
        "# Compute result\n",
        "sum_outputs = 0\n",
        "for line in processed_codes:\n",
        "  mapping = compute_code_mapping(line)\n",
        "  output = decode_output(line, mapping)\n",
        "  sum_outputs+=output\n",
        "\n",
        "print(f'Sum of all decoded outputs: {sum_outputs}')"
      ],
      "metadata": {
        "colab": {
          "base_uri": "https://localhost:8080/"
        },
        "id": "plfC98Apmk5M",
        "outputId": "a4e6f084-0eb4-4022-9723-66b95a33eb8a"
      },
      "execution_count": 82,
      "outputs": [
        {
          "output_type": "stream",
          "name": "stdout",
          "text": [
            "Sum of all decoded outputs: 986179\n"
          ]
        }
      ]
    },
    {
      "cell_type": "code",
      "source": [
        ""
      ],
      "metadata": {
        "id": "blu9K4E0r7N6"
      },
      "execution_count": null,
      "outputs": []
    }
  ]
}
