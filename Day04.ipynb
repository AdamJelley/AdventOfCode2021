{
  "nbformat": 4,
  "nbformat_minor": 0,
  "metadata": {
    "colab": {
      "name": "Day4.ipynb",
      "provenance": [],
      "collapsed_sections": [],
      "authorship_tag": "ABX9TyPJyhytW+o6hmOrHumsHqcU",
      "include_colab_link": true
    },
    "kernelspec": {
      "name": "python3",
      "display_name": "Python 3"
    },
    "language_info": {
      "name": "python"
    }
  },
  "cells": [
    {
      "cell_type": "markdown",
      "metadata": {
        "id": "view-in-github",
        "colab_type": "text"
      },
      "source": [
        "<a href=\"https://colab.research.google.com/github/AdamJelley/AdventOfCode2021/blob/main/Day4.ipynb\" target=\"_parent\"><img src=\"https://colab.research.google.com/assets/colab-badge.svg\" alt=\"Open In Colab\"/></a>"
      ]
    },
    {
      "cell_type": "markdown",
      "metadata": {
        "id": "lDX5ZnchrIqg"
      },
      "source": [
        "# Day 4"
      ]
    },
    {
      "cell_type": "code",
      "metadata": {
        "id": "IA-aL8oC0Q-f"
      },
      "source": [
        "import requests\n",
        "import csv\n",
        "import numpy as np"
      ],
      "execution_count": 44,
      "outputs": []
    },
    {
      "cell_type": "code",
      "metadata": {
        "id": "jrpajyrthNv8"
      },
      "source": [
        "input_link = 'https://adventofcode.com/2021/day/4/input'\n",
        "user_cookie = {'session':''} # Retrieve session cookie corresponding to user login (by inspecting cookies on data page)"
      ],
      "execution_count": 2,
      "outputs": []
    },
    {
      "cell_type": "code",
      "metadata": {
        "id": "mDRLEgtgmXod"
      },
      "source": [
        "raw_input = requests.get(input_link, cookies=user_cookie).text[:-1]\n",
        "draws = [int(x) for x in raw_input.split('\\n\\n')[0].split(',')]\n",
        "boards = [line.split('\\n') for line in raw_input.split('\\n\\n')[1:]]\n",
        "initial_boards_array = np.array([[[int(element) for element in line.strip().replace('  ', ' ').split(' ')] for line in board] for board in boards])"
      ],
      "execution_count": 284,
      "outputs": []
    },
    {
      "cell_type": "markdown",
      "metadata": {
        "id": "DerkOBEHr42l"
      },
      "source": [
        "## Part 1"
      ]
    },
    {
      "cell_type": "code",
      "metadata": {
        "colab": {
          "base_uri": "https://localhost:8080/"
        },
        "id": "B0HRuuUpi-hY",
        "outputId": "f7dffef4-3a10-4f21-8f11-48792b39d203"
      },
      "source": [
        "done=False\n",
        "boards_array = np.copy(initial_boards_array)\n",
        "for draw in draws:\n",
        "  if not done:\n",
        "    boards_array[boards_array==draw]=-1\n",
        "    for i, board in enumerate(boards_array[:,...]):\n",
        "      if np.any(board.sum(0)==boards_array.shape[1]*-1) or np.any(board.sum(1)==boards_array.shape[2]*-1):\n",
        "        remaining_board_sum = board[board[:,:]!=-1].sum()\n",
        "        final_score = draw*remaining_board_sum\n",
        "        print(f'Winning board: {i} \\nBoard State: \\n{board} \\nFinal Score: {final_score}')\n",
        "        done=True"
      ],
      "execution_count": 291,
      "outputs": [
        {
          "output_type": "stream",
          "name": "stdout",
          "text": [
            "Winning board: 41 \n",
            "Board State: \n",
            "[[17  6 -1 27 64]\n",
            " [14 34 -1 -1 40]\n",
            " [-1 97 -1 57 88]\n",
            " [-1 79 -1 31  2]\n",
            " [15 99 -1 62 50]] \n",
            "Final Score: 46920\n"
          ]
        }
      ]
    },
    {
      "cell_type": "markdown",
      "metadata": {
        "id": "47YvzWJ4r7Pb"
      },
      "source": [
        "## Part 2"
      ]
    },
    {
      "cell_type": "code",
      "metadata": {
        "colab": {
          "base_uri": "https://localhost:8080/"
        },
        "id": "3JboZEtZoz5U",
        "outputId": "e71d8c4f-0608-47d8-b471-aafb7665261a"
      },
      "source": [
        "dones=np.zeros(boards_array.shape[0], dtype=int)\n",
        "boards_array = np.copy(initial_boards_array)\n",
        "\n",
        "for draw in draws:\n",
        "  boards_array[boards_array==draw]=-1\n",
        "  for i, done in enumerate(dones):\n",
        "    if done==0:\n",
        "      board = boards_array[i,:,:]\n",
        "      if np.any(board.sum(0)==boards_shape[0]*-1) or np.any(board.sum(1)==boards_shape[1]*-1):\n",
        "        dones[i]=1\n",
        "      if dones.sum()==boards_array.shape[0]:\n",
        "        losing_board_index = i\n",
        "        losing_board = boards_array[losing_board_index,:,:]\n",
        "        losing_board_sum = losing_board[board[:,:]!=-1].sum()\n",
        "        losing_board_final_score = draw*losing_board_sum\n",
        "        print(f'Losing board: {losing_board_index} \\nLosing Board State: \\n{losing_board} \\nLosing Final Score: {losing_board_final_score}')"
      ],
      "execution_count": 293,
      "outputs": [
        {
          "output_type": "stream",
          "name": "stdout",
          "text": [
            "Losing board: 29 \n",
            "Losing Board State: \n",
            "[[-1 -1 -1 -1 18]\n",
            " [-1 97 -1 73 64]\n",
            " [-1 99 -1 -1 -1]\n",
            " [-1 -1 10 -1 -1]\n",
            " [-1 -1 -1 -1 -1]] \n",
            "Losing Final Score: 12635\n"
          ]
        }
      ]
    },
    {
      "cell_type": "code",
      "metadata": {
        "id": "u_XP6GaH2APg"
      },
      "source": [
        ""
      ],
      "execution_count": null,
      "outputs": []
    }
  ]
}
