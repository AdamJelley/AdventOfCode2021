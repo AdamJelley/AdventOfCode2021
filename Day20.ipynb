{
  "nbformat": 4,
  "nbformat_minor": 0,
  "metadata": {
    "colab": {
      "name": "Day20.ipynb",
      "provenance": [],
      "collapsed_sections": [],
      "authorship_tag": "ABX9TyPI6n6nmmNoLiGQzpVqZ9oC",
      "include_colab_link": true
    },
    "kernelspec": {
      "name": "python3",
      "display_name": "Python 3"
    },
    "language_info": {
      "name": "python"
    }
  },
  "cells": [
    {
      "cell_type": "markdown",
      "metadata": {
        "id": "view-in-github",
        "colab_type": "text"
      },
      "source": [
        "<a href=\"https://colab.research.google.com/github/AdamJelley/AdventOfCode2021/blob/main/Day20.ipynb\" target=\"_parent\"><img src=\"https://colab.research.google.com/assets/colab-badge.svg\" alt=\"Open In Colab\"/></a>"
      ]
    },
    {
      "cell_type": "markdown",
      "source": [
        "## Day 20"
      ],
      "metadata": {
        "id": "51phViP61lc6"
      }
    },
    {
      "cell_type": "code",
      "execution_count": 5,
      "metadata": {
        "id": "IA-aL8oC0Q-f"
      },
      "outputs": [],
      "source": [
        "import requests\n",
        "import numpy as np"
      ]
    },
    {
      "cell_type": "code",
      "execution_count": 6,
      "metadata": {
        "id": "6uJf_8geTXIs"
      },
      "outputs": [],
      "source": [
        "#Variables to set\n",
        "day = 20\n",
        "cookie = ''"
      ]
    },
    {
      "cell_type": "code",
      "execution_count": 11,
      "metadata": {
        "id": "jrpajyrthNv8"
      },
      "outputs": [],
      "source": [
        "input_link = f'https://adventofcode.com/2021/day/{day}/input'\n",
        "user_cookie = {'session':cookie} # Retrieve session cookie corresponding to user login (by inspecting cookies on data page)\n",
        "raw_input = requests.get(input_link, cookies=user_cookie).text[:-1]"
      ]
    },
    {
      "cell_type": "code",
      "source": [
        "raw_enhancement_algorithm, raw_image = raw_input.split('\\n\\n')"
      ],
      "metadata": {
        "id": "w-gGBFxX1zOG"
      },
      "execution_count": 20,
      "outputs": []
    },
    {
      "cell_type": "code",
      "source": [
        "enhancement_algorithm = [int(element) for element in raw_enhancement_algorithm.replace('.','0').replace('#','1')]"
      ],
      "metadata": {
        "id": "m-4ybwc6D2bI"
      },
      "execution_count": 37,
      "outputs": []
    },
    {
      "cell_type": "code",
      "source": [
        "image = np.array([list(row) for row in raw_image.replace('.','0').replace('#','1').split('\\n')], dtype=int)"
      ],
      "metadata": {
        "id": "eUQsw_c012D9"
      },
      "execution_count": 82,
      "outputs": []
    },
    {
      "cell_type": "markdown",
      "source": [
        "## Part 1"
      ],
      "metadata": {
        "id": "M-M0-J6UG27B"
      }
    },
    {
      "cell_type": "code",
      "source": [
        "def pad_image(image, padding):\n",
        "  padded_image = np.zeros((image.shape[0]+2*padding, image.shape[1]+2*padding))\n",
        "  padded_image[padding:-padding,padding:-padding] += image\n",
        "  padded_image = padded_image.astype(int)\n",
        "  return padded_image"
      ],
      "metadata": {
        "id": "qMUip8KqFCM_"
      },
      "execution_count": 87,
      "outputs": []
    },
    {
      "cell_type": "code",
      "source": [
        "def enhance_image(padded_image, enhancement_alogorithm):\n",
        "  enhanced_image = np.zeros((padded_image.shape[0]-2, padded_image.shape[1]-2))\n",
        "  for i in range(1,padded_image.shape[0]-1):\n",
        "    for j in range(1,padded_image.shape[1]-1):\n",
        "      image_patch = padded_image[i-1:i+2,j-1:j+2]\n",
        "      binary_enhancement = ''.join([str(pixel) for pixel in list(image_patch.flatten())])\n",
        "      int_enhancement = int(binary_enhancement, 2)\n",
        "      enhanced_image[i-1,j-1] = enhancement_algorithm[int_enhancement]\n",
        "  enhanced_image = enhanced_image.astype(int)\n",
        "  return enhanced_image"
      ],
      "metadata": {
        "id": "HVo9qlR6HkBd"
      },
      "execution_count": 147,
      "outputs": []
    },
    {
      "cell_type": "code",
      "source": [
        "padded_image = pad_image(image, 10)"
      ],
      "metadata": {
        "id": "mrsWW1O6Gxd4"
      },
      "execution_count": 143,
      "outputs": []
    },
    {
      "cell_type": "code",
      "source": [
        "enhanced_image = enhance_image(padded_image, enhancement_algorithm)\n",
        "double_enhanced_image = enhance_image(enhanced_image, enhancement_algorithm)"
      ],
      "metadata": {
        "id": "oTTL0XCNKQkS"
      },
      "execution_count": 148,
      "outputs": []
    },
    {
      "cell_type": "code",
      "source": [
        "print(f'Number of lit pixels after 2 enhancements = {double_enhanced_image.sum()}')"
      ],
      "metadata": {
        "colab": {
          "base_uri": "https://localhost:8080/"
        },
        "id": "DQS9-EkNLIwm",
        "outputId": "c81841b9-19b1-48ac-eff5-078aad71085e"
      },
      "execution_count": 152,
      "outputs": [
        {
          "output_type": "stream",
          "name": "stdout",
          "text": [
            "Number of lit pixels after 2 enhancements = 5225\n"
          ]
        }
      ]
    },
    {
      "cell_type": "markdown",
      "source": [
        "## Part 2"
      ],
      "metadata": {
        "id": "1u_o22hzRyvE"
      }
    },
    {
      "cell_type": "markdown",
      "source": [
        "Each enhancement requires a padding of 2 either side of the image. For 50 enhancements therefore need a padding of 100."
      ],
      "metadata": {
        "id": "sorqmko8R-U8"
      }
    },
    {
      "cell_type": "code",
      "source": [
        "num_enhancements = 50\n",
        "enhanced_image = pad_image(image, 2*num_enhancements)\n",
        "\n",
        "for i in range(num_enhancements):\n",
        "  enhanced_image = enhance_image(enhanced_image, enhancement_algorithm)"
      ],
      "metadata": {
        "id": "hTKSu-3NOOAM"
      },
      "execution_count": 157,
      "outputs": []
    },
    {
      "cell_type": "code",
      "source": [
        "print(f'Number of lit pixels after 50 enhancements = {enhanced_image.sum()}')"
      ],
      "metadata": {
        "colab": {
          "base_uri": "https://localhost:8080/"
        },
        "id": "KmrAiHNmObYA",
        "outputId": "96256f14-4848-47c2-d83f-5e07069ffac9"
      },
      "execution_count": 158,
      "outputs": [
        {
          "output_type": "stream",
          "name": "stdout",
          "text": [
            "Number of lit pixels after 50 enhancements = 18131\n"
          ]
        }
      ]
    }
  ]
}