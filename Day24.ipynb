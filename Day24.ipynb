{
  "nbformat": 4,
  "nbformat_minor": 0,
  "metadata": {
    "colab": {
      "name": "Day24.ipynb",
      "provenance": [],
      "collapsed_sections": [],
      "authorship_tag": "ABX9TyPB3y2aCvS1jicdthZGx1kA",
      "include_colab_link": true
    },
    "kernelspec": {
      "name": "python3",
      "display_name": "Python 3"
    },
    "language_info": {
      "name": "python"
    }
  },
  "cells": [
    {
      "cell_type": "markdown",
      "metadata": {
        "id": "view-in-github",
        "colab_type": "text"
      },
      "source": [
        "<a href=\"https://colab.research.google.com/github/AdamJelley/AdventOfCode2021/blob/main/Day24.ipynb\" target=\"_parent\"><img src=\"https://colab.research.google.com/assets/colab-badge.svg\" alt=\"Open In Colab\"/></a>"
      ]
    },
    {
      "cell_type": "markdown",
      "source": [
        "## Day 24"
      ],
      "metadata": {
        "id": "51phViP61lc6"
      }
    },
    {
      "cell_type": "code",
      "execution_count": 123,
      "metadata": {
        "id": "IA-aL8oC0Q-f"
      },
      "outputs": [],
      "source": [
        "import requests\n",
        "import numpy as np"
      ]
    },
    {
      "cell_type": "code",
      "execution_count": 124,
      "metadata": {
        "id": "6uJf_8geTXIs"
      },
      "outputs": [],
      "source": [
        "#Variables to set\n",
        "day = 24\n",
        "cookie = ''"
      ]
    },
    {
      "cell_type": "code",
      "execution_count": 125,
      "metadata": {
        "id": "jrpajyrthNv8"
      },
      "outputs": [],
      "source": [
        "input_link = f'https://adventofcode.com/2021/day/{day}/input'\n",
        "user_cookie = {'session':cookie} # Retrieve session cookie corresponding to user login (by inspecting cookies on data page)\n",
        "raw_input = requests.get(input_link, cookies=user_cookie).text[:-1]"
      ]
    },
    {
      "cell_type": "code",
      "source": [
        "class ALU:\n",
        "  def __init__(self):\n",
        "    self.w=0\n",
        "    self.x=0\n",
        "    self.y=0\n",
        "    self.z=0\n",
        "\n",
        "  def process_instruction(self, instruction):\n",
        "    if instruction[:3]=='inp':\n",
        "      setattr(self, instruction[4], int(self.input_num[0]))\n",
        "      self.input_num = self.input_num[1:]\n",
        "    else:\n",
        "      first_num = getattr(self, instruction[4])\n",
        "      second_num = int(instruction[6:]) if instruction[6].isnumeric() or instruction[6]=='-' else getattr(self, instruction[6])\n",
        "      if instruction[:3]=='add':\n",
        "        setattr(self, instruction[4], first_num+second_num)\n",
        "      elif instruction[:3]=='mul':\n",
        "        setattr(self, instruction[4], first_num*second_num)\n",
        "      elif instruction[:3]=='div':\n",
        "        setattr(self, instruction[4], first_num//second_num)\n",
        "      elif instruction[:3]=='mod':\n",
        "        setattr(self, instruction[4], first_num%second_num)\n",
        "      elif instruction[:3]=='eql':\n",
        "        setattr(self, instruction[4], first_num==second_num)\n",
        "      else:\n",
        "        raise TypeError(f\"Instruction {instruction[:3]} not recognised.\")\n",
        "    \n",
        "  def run_program(self, raw_instructions, input_num):\n",
        "    self.instructions=raw_instructions.split('\\n')\n",
        "    self.input_num = str(input_num)\n",
        "    for instruction in self.instructions:\n",
        "      self.process_instruction(instruction)\n",
        "\n",
        "  def check_model_num(self, MONAD_instructions, model_num):\n",
        "    assert len(str(model_num))==14, \"Sub model num is not 14 digits\"\n",
        "    for char in str(model_num):\n",
        "      assert char.isnumeric() and char!='0', \"Sub model num contains 0 or non-numeric characters\"\n",
        "    self.run_program(MONAD_instructions, model_num)\n",
        "    valid = 'valid' if self.z==0 else 'invalid'\n",
        "    print(f'Final z: {self.z} so model number is {valid}')\n",
        "    self.reset()\n",
        "\n",
        "  def reset(self):\n",
        "    self.w=0\n",
        "    self.x=0\n",
        "    self.y=0\n",
        "    self.z=0"
      ],
      "metadata": {
        "id": "RR6fGoxJaWMt"
      },
      "execution_count": 144,
      "outputs": []
    },
    {
      "cell_type": "code",
      "source": [
        "subALU = ALU()"
      ],
      "metadata": {
        "id": "2IDZBaw_i6xd"
      },
      "execution_count": 145,
      "outputs": []
    },
    {
      "cell_type": "markdown",
      "source": [
        "Test example model sub num and verify that it is invalid:"
      ],
      "metadata": {
        "id": "YyAIX4nwUJhN"
      }
    },
    {
      "cell_type": "code",
      "source": [
        "subALU.check_model_num(raw_input, 13579246899999) "
      ],
      "metadata": {
        "colab": {
          "base_uri": "https://localhost:8080/"
        },
        "id": "5nMv1n0rjYH2",
        "outputId": "b21d4bac-848b-4544-e5f1-6e49455dd401"
      },
      "execution_count": 146,
      "outputs": [
        {
          "output_type": "stream",
          "name": "stdout",
          "text": [
            "Final z: 3626344325 so model number is invalid\n"
          ]
        }
      ]
    },
    {
      "cell_type": "markdown",
      "source": [
        "There are 14^9 posibilities for sub model nums so too large to brute force search. From reviewing MONAD instructions, find that final z can only be zero if certain conditions are met:\n",
        "\n",
        "```\n",
        "1.   inp[4]=inp[3]-1\n",
        "2.   inp[5]=inp[2]-4\n",
        "3.   inp[7]=inp[6]+8\n",
        "4.   inp[9]=inp[8]+4\n",
        "5.   inp[11]=inp[10]+3\n",
        "6.   inp[12]=inp[1]+1\n",
        "7.   inp[13]=inp[0]-2\n",
        "\n",
        "```\n",
        "Therefore less than 6^9 possibilities are valid. As an example, try: 31521119151421"
      ],
      "metadata": {
        "id": "5T42R3UBE746"
      }
    },
    {
      "cell_type": "code",
      "source": [
        "subALU.check_model_num(raw_input, 31521119151421)"
      ],
      "metadata": {
        "colab": {
          "base_uri": "https://localhost:8080/"
        },
        "id": "QF3-4vfJpHDF",
        "outputId": "342533cc-de34-4769-cdbb-675d03f9448e"
      },
      "execution_count": 147,
      "outputs": [
        {
          "output_type": "stream",
          "name": "stdout",
          "text": [
            "Final z: 0 so model number is valid\n"
          ]
        }
      ]
    },
    {
      "cell_type": "markdown",
      "source": [
        "Following the conditions above and selecting the largest number possible for each digit, largest model number accepted by MONAD is 98998519596997"
      ],
      "metadata": {
        "id": "Iw3hlMOdH_-3"
      }
    },
    {
      "cell_type": "code",
      "source": [
        "subALU.check_model_num(raw_input, 98998519596997)"
      ],
      "metadata": {
        "colab": {
          "base_uri": "https://localhost:8080/"
        },
        "id": "Spn0OvuDG_WQ",
        "outputId": "65b02f00-05d4-4c6f-cc9d-50b2eeb391b7"
      },
      "execution_count": 148,
      "outputs": [
        {
          "output_type": "stream",
          "name": "stdout",
          "text": [
            "Final z: 0 so model number is valid\n"
          ]
        }
      ]
    },
    {
      "cell_type": "markdown",
      "source": [
        "And smallest model number accepted by MONAD is 31521119151421"
      ],
      "metadata": {
        "id": "gHiGgYVcIjdk"
      }
    },
    {
      "cell_type": "code",
      "source": [
        "subALU.check_model_num(raw_input, 31521119151421)"
      ],
      "metadata": {
        "colab": {
          "base_uri": "https://localhost:8080/"
        },
        "id": "rG6xOxYiIdL3",
        "outputId": "778000b1-094c-4932-af84-770d3d31ac44"
      },
      "execution_count": 142,
      "outputs": [
        {
          "output_type": "stream",
          "name": "stdout",
          "text": [
            "Final z: 0 so model number is valid\n"
          ]
        }
      ]
    }
  ]
}