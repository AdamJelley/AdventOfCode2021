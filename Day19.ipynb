{
  "nbformat": 4,
  "nbformat_minor": 0,
  "metadata": {
    "colab": {
      "name": "Day19.ipynb",
      "provenance": [],
      "authorship_tag": "ABX9TyPT8pZ0ApTmX5FkrHWCBQlK",
      "include_colab_link": true
    },
    "kernelspec": {
      "name": "python3",
      "display_name": "Python 3"
    },
    "language_info": {
      "name": "python"
    }
  },
  "cells": [
    {
      "cell_type": "markdown",
      "metadata": {
        "id": "view-in-github",
        "colab_type": "text"
      },
      "source": [
        "<a href=\"https://colab.research.google.com/github/AdamJelley/AdventOfCode2021/blob/main/Day19.ipynb\" target=\"_parent\"><img src=\"https://colab.research.google.com/assets/colab-badge.svg\" alt=\"Open In Colab\"/></a>"
      ]
    },
    {
      "cell_type": "markdown",
      "source": [
        "# Day 19"
      ],
      "metadata": {
        "id": "nmAUAqUt4P1F"
      }
    },
    {
      "cell_type": "code",
      "execution_count": 95,
      "metadata": {
        "id": "IA-aL8oC0Q-f"
      },
      "outputs": [],
      "source": [
        "import requests\n",
        "import numpy as np\n",
        "import itertools"
      ]
    },
    {
      "cell_type": "code",
      "execution_count": 122,
      "metadata": {
        "id": "6uJf_8geTXIs"
      },
      "outputs": [],
      "source": [
        "#Variables to set\n",
        "day = 19\n",
        "cookie = ''"
      ]
    },
    {
      "cell_type": "code",
      "execution_count": 3,
      "metadata": {
        "id": "jrpajyrthNv8"
      },
      "outputs": [],
      "source": [
        "input_link = f'https://adventofcode.com/2021/day/{day}/input'\n",
        "user_cookie = {'session':cookie} # Retrieve session cookie corresponding to user login (by inspecting cookies on data page)"
      ]
    },
    {
      "cell_type": "code",
      "source": [
        "test_input = \"\"\"--- scanner 0 ---\n",
        "404,-588,-901\n",
        "528,-643,409\n",
        "-838,591,734\n",
        "390,-675,-793\n",
        "-537,-823,-458\n",
        "-485,-357,347\n",
        "-345,-311,381\n",
        "-661,-816,-575\n",
        "-876,649,763\n",
        "-618,-824,-621\n",
        "553,345,-567\n",
        "474,580,667\n",
        "-447,-329,318\n",
        "-584,868,-557\n",
        "544,-627,-890\n",
        "564,392,-477\n",
        "455,729,728\n",
        "-892,524,684\n",
        "-689,845,-530\n",
        "423,-701,434\n",
        "7,-33,-71\n",
        "630,319,-379\n",
        "443,580,662\n",
        "-789,900,-551\n",
        "459,-707,401\n",
        "\n",
        "--- scanner 1 ---\n",
        "686,422,578\n",
        "605,423,415\n",
        "515,917,-361\n",
        "-336,658,858\n",
        "95,138,22\n",
        "-476,619,847\n",
        "-340,-569,-846\n",
        "567,-361,727\n",
        "-460,603,-452\n",
        "669,-402,600\n",
        "729,430,532\n",
        "-500,-761,534\n",
        "-322,571,750\n",
        "-466,-666,-811\n",
        "-429,-592,574\n",
        "-355,545,-477\n",
        "703,-491,-529\n",
        "-328,-685,520\n",
        "413,935,-424\n",
        "-391,539,-444\n",
        "586,-435,557\n",
        "-364,-763,-893\n",
        "807,-499,-711\n",
        "755,-354,-619\n",
        "553,889,-390\n",
        "\n",
        "--- scanner 2 ---\n",
        "649,640,665\n",
        "682,-795,504\n",
        "-784,533,-524\n",
        "-644,584,-595\n",
        "-588,-843,648\n",
        "-30,6,44\n",
        "-674,560,763\n",
        "500,723,-460\n",
        "609,671,-379\n",
        "-555,-800,653\n",
        "-675,-892,-343\n",
        "697,-426,-610\n",
        "578,704,681\n",
        "493,664,-388\n",
        "-671,-858,530\n",
        "-667,343,800\n",
        "571,-461,-707\n",
        "-138,-166,112\n",
        "-889,563,-600\n",
        "646,-828,498\n",
        "640,759,510\n",
        "-630,509,768\n",
        "-681,-892,-333\n",
        "673,-379,-804\n",
        "-742,-814,-386\n",
        "577,-820,562\n",
        "\n",
        "--- scanner 3 ---\n",
        "-589,542,597\n",
        "605,-692,669\n",
        "-500,565,-823\n",
        "-660,373,557\n",
        "-458,-679,-417\n",
        "-488,449,543\n",
        "-626,468,-788\n",
        "338,-750,-386\n",
        "528,-832,-391\n",
        "562,-778,733\n",
        "-938,-730,414\n",
        "543,643,-506\n",
        "-524,371,-870\n",
        "407,773,750\n",
        "-104,29,83\n",
        "378,-903,-323\n",
        "-778,-728,485\n",
        "426,699,580\n",
        "-438,-605,-362\n",
        "-469,-447,-387\n",
        "509,732,623\n",
        "647,635,-688\n",
        "-868,-804,481\n",
        "614,-800,639\n",
        "595,780,-596\n",
        "\n",
        "--- scanner 4 ---\n",
        "727,592,562\n",
        "-293,-554,779\n",
        "441,611,-461\n",
        "-714,465,-776\n",
        "-743,427,-804\n",
        "-660,-479,-426\n",
        "832,-632,460\n",
        "927,-485,-438\n",
        "408,393,-506\n",
        "466,436,-512\n",
        "110,16,151\n",
        "-258,-428,682\n",
        "-393,719,612\n",
        "-211,-452,876\n",
        "808,-476,-593\n",
        "-575,615,604\n",
        "-485,667,467\n",
        "-680,325,-822\n",
        "-627,-443,-432\n",
        "872,-547,-609\n",
        "833,512,582\n",
        "807,604,487\n",
        "839,-516,451\n",
        "891,-625,532\n",
        "-652,-548,-490\n",
        "30,-46,-14\"\"\""
      ],
      "metadata": {
        "id": "faM7Q83SAfyO"
      },
      "execution_count": 5,
      "outputs": []
    },
    {
      "cell_type": "code",
      "source": [
        "raw_input = requests.get(input_link, cookies=user_cookie).text[:-1]"
      ],
      "metadata": {
        "id": "bWZKEbvH_Wcg"
      },
      "execution_count": 60,
      "outputs": []
    },
    {
      "cell_type": "code",
      "source": [
        "def process_input(input):\n",
        "  processed_input = [[np.array(coordinates.split(','), dtype=np.int) for coordinates in scanner.split('---')[2][1:].split('\\n')] for scanner in input.split('\\n\\n')]\n",
        "  return processed_input"
      ],
      "metadata": {
        "id": "qPzeS_YlVXtQ"
      },
      "execution_count": 56,
      "outputs": []
    },
    {
      "cell_type": "code",
      "source": [
        "test_beacons = process_input(test_input)\n",
        "real_beacons = process_input(raw_input)"
      ],
      "metadata": {
        "id": "bRXNJ3zKVjEU"
      },
      "execution_count": 61,
      "outputs": []
    },
    {
      "cell_type": "markdown",
      "source": [
        "## Part 1"
      ],
      "metadata": {
        "id": "b896TuWAAlyL"
      }
    },
    {
      "cell_type": "code",
      "source": [
        "def check_scanner_overlap(scanner1, scanner2):\n",
        "  overlap=False\n",
        "  same_beacons = []\n",
        "  for i in range(len(scanner1)):\n",
        "    for j in range(len(scanner2)):\n",
        "      overlap_counter=0\n",
        "      scanner1_relative = [beacon-scanner1[i] for beacon in scanner1]\n",
        "      scanner2_relative = [beacon-scanner2[j] for beacon in scanner2]\n",
        "      for beacon in scanner1_relative:\n",
        "        if np.any(np.all(np.sort(np.abs(beacon))==np.sort(np.abs(scanner2_relative)), axis=1)):\n",
        "          overlap_counter+=1 # Relative absolute distance between two beacons is the same for the two scanners\n",
        "      if overlap_counter>11: # If there are 12 or more beacons that are the same relative distance away, then beacons must be the same and scanners overlap\n",
        "        overlap=True\n",
        "        same_beacons.append((i,j))\n",
        "  return overlap, same_beacons"
      ],
      "metadata": {
        "id": "J5I30nvxLhq0"
      },
      "execution_count": 12,
      "outputs": []
    },
    {
      "cell_type": "code",
      "source": [
        "def find_overlapping_scanners(input_data):\n",
        "  overlap_dict = {}\n",
        "  same_beacons_dict = {}\n",
        "  for i, scanner1 in enumerate(input_data):\n",
        "    for j, scanner2 in enumerate(input_data):\n",
        "      if i!=j:\n",
        "        overlap, same_beacons = check_scanner_overlap(scanner1, scanner2)\n",
        "        overlap_dict[(i,j)] = overlap\n",
        "        if overlap:\n",
        "          same_beacons_dict[(i,j)] = same_beacons\n",
        "  return overlap_dict, same_beacons_dict"
      ],
      "metadata": {
        "id": "c0BRG9xgFd-d"
      },
      "execution_count": 72,
      "outputs": []
    },
    {
      "cell_type": "code",
      "source": [
        "def rotations():\n",
        "  for x, y, z in itertools.permutations([0, 1, 2]):\n",
        "    for sx, sy, sz in itertools.product([-1, 1], repeat=3):\n",
        "      rotation_matrix = np.zeros((3, 3))\n",
        "      rotation_matrix[0, x] = sx\n",
        "      rotation_matrix[1, y] = sy\n",
        "      rotation_matrix[2, z] = sz\n",
        "      if np.linalg.det(rotation_matrix) == 1:\n",
        "        yield rotation_matrix"
      ],
      "metadata": {
        "id": "NfO3YlaXGPKU"
      },
      "execution_count": 21,
      "outputs": []
    },
    {
      "cell_type": "code",
      "source": [
        "def calculate_scanner_relative_location(scanner1, scanner2, same_beacons):\n",
        "  scanner2_location = []\n",
        "  scanner2_orientation = []\n",
        "  for beacon in same_beacons:\n",
        "    scanner1_measurement = scanner1[beacon[0]] # Assume scanner 1 is at (0,0,0) with upright orientation\n",
        "    scanner2_measurement = scanner2[beacon[1]]\n",
        "    possible_scanner2_locations = []\n",
        "    possible_scanner2_orientations = []\n",
        "    \n",
        "    for rotation in rotations():\n",
        "      scanner2_permutation = np.matmul(rotation, scanner2_measurement)\n",
        "      possible_scanner2_locations.append(scanner1_measurement-scanner2_permutation) # Get scanner 2 location for all possible orientiations\n",
        "      possible_scanner2_orientations.append(rotation)      \n",
        "\n",
        "      if scanner2_location == []:\n",
        "        scanner2_location = possible_scanner2_locations # Initialise scanner 2 location to all possible locations for first beacon\n",
        "        scanner2_orientation = possible_scanner2_orientations\n",
        "    for i, location in enumerate(scanner2_location):\n",
        "      if not np.any(np.all(location==possible_scanner2_locations, axis=1)):\n",
        "        scanner2_location.pop(i) # For each consistent beacon, only keep possible consistent scanner locations\n",
        "        scanner2_orientation.pop(i)\n",
        "  assert len(scanner2_location)==1 # Should only be one possible position left after considering 12 consistent beacons\n",
        "  return scanner2_location[0], scanner2_orientation[0]"
      ],
      "metadata": {
        "id": "-qhM88znr6ze"
      },
      "execution_count": 94,
      "outputs": []
    },
    {
      "cell_type": "code",
      "source": [
        "def calculate_scanner_absolute_location(scanner1_location, scanner1_orientation, scanner2_relative_location, scanner2_relative_orientation):\n",
        "  scanner2_location = scanner1_location + np.matmul(scanner1_orientation, scanner2_relative_location)\n",
        "  scanner2_rotation = np.matmul(scanner1_orientation, scanner2_relative_orientation)\n",
        "  return scanner2_location, scanner2_rotation"
      ],
      "metadata": {
        "id": "xWBdmg8pJY5-"
      },
      "execution_count": 28,
      "outputs": []
    },
    {
      "cell_type": "code",
      "source": [
        "def get_scanner_locations(input_data, overlap_dict, same_beacons_dict):\n",
        "  scanner_locations = {0:np.array([0,0,0])}\n",
        "  scanner_orientations = {0:np.array([[1.,  0., 0.], [0.,  1., 0.], [0.,  0., 1.]])}\n",
        "\n",
        "  while sorted(list(scanner_locations.keys())) != list(range(len(input_data))):\n",
        "    for scanner_pair, overlap in overlap_dict.items():\n",
        "      if overlap:\n",
        "        (i,j) = scanner_pair\n",
        "        if i in scanner_locations.keys() and j not in scanner_locations.keys():   \n",
        "          same_beacons = same_beacons_dict[scanner_pair]\n",
        "          scanner2_relative_location, scanner2_relative_orientation = calculate_scanner_relative_location(input_data[i], input_data[j], same_beacons)\n",
        "          scanner_locations[j], scanner_orientations[j] = calculate_scanner_absolute_location(scanner_locations[i], scanner_orientations[i], scanner2_relative_location, scanner2_relative_orientation)\n",
        "  return scanner_locations, scanner_orientations"
      ],
      "metadata": {
        "id": "-jd576j_stqU"
      },
      "execution_count": 76,
      "outputs": []
    },
    {
      "cell_type": "code",
      "source": [
        "def calculate_absolute_beacon_coordinates(scanner_location, scanner_orientation, scanner_coordinates):\n",
        "  absolute_coordinates = scanner_location + np.matmul(scanner_coordinates, np.linalg.inv(scanner_orientation))\n",
        "  return absolute_coordinates"
      ],
      "metadata": {
        "id": "vtv-fVfoqamt"
      },
      "execution_count": 41,
      "outputs": []
    },
    {
      "cell_type": "code",
      "source": [
        "def get_unique_beacon_coordinates(data_input, scanner_locations, scanner_orientations):\n",
        "  all_beacon_coordinates = []\n",
        "  for i in range(len(data_input)):\n",
        "    absolute_beacon_coordinates = calculate_absolute_beacon_coordinates(scanner_locations[i], scanner_orientations[i], data_input[i])\n",
        "    all_beacon_coordinates.append(absolute_beacon_coordinates)\n",
        "  all_beacon_coordinates = np.concatenate(all_beacon_coordinates)\n",
        "  unique_beacons = np.unique(all_beacon_coordinates, axis=0)\n",
        "  return unique_beacons"
      ],
      "metadata": {
        "id": "zY3h49yesDvS"
      },
      "execution_count": 47,
      "outputs": []
    },
    {
      "cell_type": "code",
      "source": [
        "def solve_input(data_input):\n",
        "  overlap_dict, same_beacons_dict = find_overlapping_scanners(data_input)\n",
        "  scanner_locations, scanner_orientations = get_scanner_locations(data_input, overlap_dict, same_beacons_dict)\n",
        "  unique_beacons = get_unique_beacon_coordinates(data_input, scanner_locations, scanner_orientations)\n",
        "  return scanner_locations, scanner_orientations, unique_beacons"
      ],
      "metadata": {
        "id": "ujH6o3OdZ5Yt"
      },
      "execution_count": 96,
      "outputs": []
    },
    {
      "cell_type": "code",
      "source": [
        "test_scanner_locations, test_scanner_orientations, test_unique_beacons = solve_input(test_beacons)"
      ],
      "metadata": {
        "id": "xXkJTVBlUv2B"
      },
      "execution_count": 103,
      "outputs": []
    },
    {
      "cell_type": "code",
      "source": [
        "print(f'Number of unique beacons for test data: {test_unique_beacons.shape[0]}')"
      ],
      "metadata": {
        "colab": {
          "base_uri": "https://localhost:8080/"
        },
        "id": "FxOWTtm6UxlP",
        "outputId": "878b78ad-10ab-4972-feb4-865f24cbee80"
      },
      "execution_count": 105,
      "outputs": [
        {
          "output_type": "stream",
          "name": "stdout",
          "text": [
            "Number of unique beacons for test data: 79\n"
          ]
        }
      ]
    },
    {
      "cell_type": "code",
      "source": [
        "scanner_locations, scanner_orientations, unique_beacons = solve_input(real_beacons)"
      ],
      "metadata": {
        "id": "YQla9odqU7CO"
      },
      "execution_count": 101,
      "outputs": []
    },
    {
      "cell_type": "code",
      "source": [
        "print(f'Number of unique beacons for input data: {unique_beacons.shape[0]}')"
      ],
      "metadata": {
        "colab": {
          "base_uri": "https://localhost:8080/"
        },
        "id": "bmN-6PmfWHWg",
        "outputId": "529a779f-7c15-4153-94d2-ffa6fba29610"
      },
      "execution_count": 111,
      "outputs": [
        {
          "output_type": "stream",
          "name": "stdout",
          "text": [
            "Number of unique beacons for input data: 303\n"
          ]
        }
      ]
    },
    {
      "cell_type": "markdown",
      "source": [
        "## Part 2"
      ],
      "metadata": {
        "id": "GBRP6HfNHUkf"
      }
    },
    {
      "cell_type": "code",
      "source": [
        "scanner_separations = {}\n",
        "for scanner1, scanner_location1 in scanner_locations.items():\n",
        "  for scanner2, scanner_location2 in scanner_locations.items():\n",
        "    if scanner1>scanner2:\n",
        "      scanner_separations[(scanner1, scanner2)] = sum(np.abs(scanner_location1-scanner_location2))\n",
        "scanners_max_separation = max(scanner_separations, key=lambda x:scanner_separations[x])\n",
        "max_separation = scanner_separations[scanners_max_separation]\n",
        "print(f'Scanners with largest Manhatten distance {scanners_max_separation} with separation {int(max_separation)}')"
      ],
      "metadata": {
        "colab": {
          "base_uri": "https://localhost:8080/"
        },
        "id": "meSqDXLFBxUK",
        "outputId": "acf09886-c39a-4e6a-bba2-ed421fa6c9fd"
      },
      "execution_count": 121,
      "outputs": [
        {
          "output_type": "stream",
          "name": "stdout",
          "text": [
            "Scanners with largest Manhatten distance (22, 5) with separation 9621\n"
          ]
        }
      ]
    }
  ]
}