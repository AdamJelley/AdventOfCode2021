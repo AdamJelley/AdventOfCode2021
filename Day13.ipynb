{
  "nbformat": 4,
  "nbformat_minor": 0,
  "metadata": {
    "colab": {
      "name": "Day13.ipynb",
      "provenance": [],
      "collapsed_sections": [],
      "authorship_tag": "ABX9TyPUEuKamkcwSP8p8e7xZmHF",
      "include_colab_link": true
    },
    "kernelspec": {
      "name": "python3",
      "display_name": "Python 3"
    },
    "language_info": {
      "name": "python"
    }
  },
  "cells": [
    {
      "cell_type": "markdown",
      "metadata": {
        "id": "view-in-github",
        "colab_type": "text"
      },
      "source": [
        "<a href=\"https://colab.research.google.com/github/AdamJelley/AdventOfCode2021/blob/main/Day13.ipynb\" target=\"_parent\"><img src=\"https://colab.research.google.com/assets/colab-badge.svg\" alt=\"Open In Colab\"/></a>"
      ]
    },
    {
      "cell_type": "markdown",
      "source": [
        "# Day 13"
      ],
      "metadata": {
        "id": "5x_J7tEqkC1H"
      }
    },
    {
      "cell_type": "code",
      "execution_count": 146,
      "metadata": {
        "id": "IA-aL8oC0Q-f"
      },
      "outputs": [],
      "source": [
        "import requests\n",
        "import csv\n",
        "import numpy as np\n",
        "import matplotlib.pyplot as plt"
      ]
    },
    {
      "cell_type": "code",
      "execution_count": 2,
      "metadata": {
        "id": "6uJf_8geTXIs"
      },
      "outputs": [],
      "source": [
        "#Variables to set\n",
        "day = 13\n",
        "cookie = ''"
      ]
    },
    {
      "cell_type": "code",
      "execution_count": 3,
      "metadata": {
        "id": "jrpajyrthNv8"
      },
      "outputs": [],
      "source": [
        "input_link = f'https://adventofcode.com/2021/day/{day}/input'\n",
        "user_cookie = {'session':cookie} # Retrieve session cookie corresponding to user login (by inspecting cookies on data page)"
      ]
    },
    {
      "cell_type": "code",
      "execution_count": 19,
      "metadata": {
        "id": "mDRLEgtgmXod"
      },
      "outputs": [],
      "source": [
        "raw_input = requests.get(input_link, cookies=user_cookie).text[:-1]\n",
        "[raw_coordinates, raw_instructions] = raw_input.split('\\n\\n')\n",
        "coordinates = [[int(x) for x in coordinate.split(',')] for coordinate in raw_coordinates.split('\\n')]\n",
        "instructions = [[instruction.split('=')[0][-1], int(instruction.split('=')[1])] for instruction in raw_instructions.split('\\n')]"
      ]
    },
    {
      "cell_type": "code",
      "source": [
        "x_max = max([coordinate[0] for coordinate in coordinates])\n",
        "y_max = max([coordinate[1] for coordinate in coordinates])\n",
        "print(x_max, y_max)\n",
        "\n",
        "paper_height = instructions[0][1]*2\n",
        "paper_width = instructions[1][1]*2\n",
        "print(paper_height, paper_width)"
      ],
      "metadata": {
        "colab": {
          "base_uri": "https://localhost:8080/"
        },
        "id": "g9hoyUPZmhLP",
        "outputId": "f7f1b32c-b586-477a-95f2-c7c27adfa3e9"
      },
      "execution_count": 131,
      "outputs": [
        {
          "output_type": "stream",
          "name": "stdout",
          "text": [
            "1307 894\n",
            "1310 894\n"
          ]
        }
      ]
    },
    {
      "cell_type": "markdown",
      "source": [
        "Paper must be shaped (1310, 894) to be folded exactly in half by first two folds."
      ],
      "metadata": {
        "id": "LMDLAwyY_Ujv"
      }
    },
    {
      "cell_type": "code",
      "source": [
        "paper = np.zeros((paper_height+1, paper_width+1))\n",
        "for coordinate in coordinates:\n",
        "  paper[tuple(coordinate)]=1\n",
        "\n",
        "assert paper.sum()==len(coordinates) # Coordinates are unique"
      ],
      "metadata": {
        "id": "liHuEixonbHu"
      },
      "execution_count": 132,
      "outputs": []
    },
    {
      "cell_type": "markdown",
      "source": [
        "## Part 1"
      ],
      "metadata": {
        "id": "_sDexYEhmKx9"
      }
    },
    {
      "cell_type": "code",
      "execution_count": 139,
      "metadata": {
        "id": "fXKKj4DUj-KZ"
      },
      "outputs": [],
      "source": [
        "def fold(paper, instruction):\n",
        "  if instruction[0] == 'x':\n",
        "    assert paper[instruction[1],:].sum()==0 # No dots on fold\n",
        "    assert paper.shape[0]==2*instruction[1]+1 # Folding paper in half\n",
        "    top_part = paper[:instruction[1],:]\n",
        "    bottom_part = paper[instruction[1]+1:,:]\n",
        "    bottom_part_folded = bottom_part[::-1,:]\n",
        "    new_paper = np.maximum(top_part, bottom_part_folded)\n",
        "\n",
        "  elif instruction[0] == 'y':\n",
        "    assert paper[:,instruction[1]].sum()==0 # No dots on fold\n",
        "    assert paper.shape[1]==2*instruction[1]+1 # Folding paper in half\n",
        "    left_part = paper[:,:instruction[1]]\n",
        "    right_part = paper[:,instruction[1]+1:]\n",
        "    left_part_folded = left_part[:,::-1]\n",
        "    new_paper = np.maximum(right_part, left_part_folded)\n",
        "\n",
        "  else:\n",
        "    raise TypeError(f\"Fold dimension {instruction[0]} unknown.\")\n",
        "\n",
        "  return new_paper"
      ]
    },
    {
      "cell_type": "code",
      "source": [
        "new_paper = fold(paper, instructions[0])\n",
        "\n",
        "print(f'Number of dots visible after first fold: {int(new_paper.sum())}')"
      ],
      "metadata": {
        "colab": {
          "base_uri": "https://localhost:8080/"
        },
        "id": "v4cm2NSmkEJO",
        "outputId": "d40eb8b7-24ed-454b-df9a-5d66bf5ce390"
      },
      "execution_count": 140,
      "outputs": [
        {
          "output_type": "stream",
          "name": "stdout",
          "text": [
            "Number of dots visible after first fold: 847\n"
          ]
        }
      ]
    },
    {
      "cell_type": "markdown",
      "source": [
        "## Part 2"
      ],
      "metadata": {
        "id": "9JnfMrpA5yyr"
      }
    },
    {
      "cell_type": "code",
      "source": [
        "# Perform folds\n",
        "current_paper = paper.copy()\n",
        "for instruction in instructions:\n",
        "  current_paper = fold(current_paper, instruction)"
      ],
      "metadata": {
        "id": "-HSZqlh65PWT"
      },
      "execution_count": 152,
      "outputs": []
    },
    {
      "cell_type": "code",
      "source": [
        "# Display initial paper as image\n",
        "plt.imshow(paper.T[::-1,:])"
      ],
      "metadata": {
        "colab": {
          "base_uri": "https://localhost:8080/",
          "height": 286
        },
        "id": "q2d0dib2CKrh",
        "outputId": "22d47071-6186-414b-f732-8493ef79d246"
      },
      "execution_count": 153,
      "outputs": [
        {
          "output_type": "execute_result",
          "data": {
            "text/plain": [
              "<matplotlib.image.AxesImage at 0x7fda1f1695d0>"
            ]
          },
          "metadata": {},
          "execution_count": 153
        },
        {
          "output_type": "display_data",
          "data": {
            "image/png": "[encoded data removed]",
            "text/plain": [
              "<Figure size 432x288 with 1 Axes>"
            ]
          },
          "metadata": {
            "needs_background": "light"
          }
        }
      ]
    },
    {
      "cell_type": "code",
      "source": [
        "# Display final paper as image after all folds\n",
        "plt.imshow(current_paper.T[::-1,:])"
      ],
      "metadata": {
        "colab": {
          "base_uri": "https://localhost:8080/",
          "height": 115
        },
        "id": "RcyRCN-68JFA",
        "outputId": "6be624dd-fcb5-4394-e6b6-3c9e5db09715"
      },
      "execution_count": 156,
      "outputs": [
        {
          "output_type": "execute_result",
          "data": {
            "text/plain": [
              "<matplotlib.image.AxesImage at 0x7fda1f0ba790>"
            ]
          },
          "metadata": {},
          "execution_count": 156
        },
        {
          "output_type": "display_data",
          "data": {
            "image/png": "[encoded data removed]",
            "text/plain": [
              "<Figure size 432x288 with 1 Axes>"
            ]
          },
          "metadata": {
            "needs_background": "light"
          }
        }
      ]
    },
    {
      "cell_type": "code",
      "source": [
        ""
      ],
      "metadata": {
        "id": "ifvCSURsCcoY"
      },
      "execution_count": null,
      "outputs": []
    }
  ]
}