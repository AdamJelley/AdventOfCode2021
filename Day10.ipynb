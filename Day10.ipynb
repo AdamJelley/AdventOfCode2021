{
  "nbformat": 4,
  "nbformat_minor": 0,
  "metadata": {
    "colab": {
      "name": "Day10.ipynb",
      "provenance": [],
      "collapsed_sections": [],
      "authorship_tag": "ABX9TyPVPI/qaKKrNPqGQNfkUSu8",
      "include_colab_link": true
    },
    "kernelspec": {
      "name": "python3",
      "display_name": "Python 3"
    },
    "language_info": {
      "name": "python"
    }
  },
  "cells": [
    {
      "cell_type": "markdown",
      "metadata": {
        "id": "view-in-github",
        "colab_type": "text"
      },
      "source": [
        "<a href=\"https://colab.research.google.com/github/AdamJelley/AdventOfCode2021/blob/main/Day10.ipynb\" target=\"_parent\"><img src=\"https://colab.research.google.com/assets/colab-badge.svg\" alt=\"Open In Colab\"/></a>"
      ]
    },
    {
      "cell_type": "markdown",
      "source": [
        "# Day 10"
      ],
      "metadata": {
        "id": "VbERFRFEJ_sd"
      }
    },
    {
      "cell_type": "code",
      "metadata": {
        "id": "IA-aL8oC0Q-f"
      },
      "source": [
        "import requests\n",
        "import csv\n",
        "import numpy as np"
      ],
      "execution_count": 1,
      "outputs": []
    },
    {
      "cell_type": "code",
      "source": [
        "#Variables to set\n",
        "day = 10\n",
        "cookie = ''"
      ],
      "metadata": {
        "id": "6uJf_8geTXIs"
      },
      "execution_count": 2,
      "outputs": []
    },
    {
      "cell_type": "code",
      "metadata": {
        "id": "jrpajyrthNv8"
      },
      "source": [
        "input_link = f'https://adventofcode.com/2021/day/{day}/input'\n",
        "user_cookie = {'session':cookie} # Retrieve session cookie corresponding to user login (by inspecting cookies on data page)"
      ],
      "execution_count": 3,
      "outputs": []
    },
    {
      "cell_type": "code",
      "metadata": {
        "id": "mDRLEgtgmXod"
      },
      "source": [
        "raw_input = requests.get(input_link, cookies=user_cookie).text[:-1]\n",
        "processed_input = raw_input.split('\\n')"
      ],
      "execution_count": 7,
      "outputs": []
    },
    {
      "cell_type": "code",
      "source": [
        "characters = {'(':')','[':']','{':'}','<':'>'}"
      ],
      "metadata": {
        "id": "j6WMlbTuNANe"
      },
      "execution_count": 12,
      "outputs": []
    },
    {
      "cell_type": "markdown",
      "source": [
        "# Part 1"
      ],
      "metadata": {
        "id": "z4WPmQBtQ-mE"
      }
    },
    {
      "cell_type": "code",
      "source": [
        "illegal_characters = []\n",
        "for line_num, line in enumerate(processed_input):\n",
        "  stack = []\n",
        "  for character in line:\n",
        "    if character in characters.keys():\n",
        "      stack.append(character)\n",
        "    elif character==characters[stack[-1]]:\n",
        "      stack.pop(-1)\n",
        "    else:\n",
        "      illegal_characters.append(character)\n",
        "      print(f'For line num {line_num} expected {characters[stack[-1]]} but got {character}')\n",
        "      break\n",
        "  else:\n",
        "    illegal_characters.append('')\n",
        "    print(f'Line num {line_num} has no illegal characters')"
      ],
      "metadata": {
        "id": "lGSzcd9qL8oT"
      },
      "execution_count": 61,
      "outputs": []
    },
    {
      "cell_type": "code",
      "source": [
        "syntax_error_scores = {'':0,')':3,']':57,'}':1197,'>':25137}\n",
        "\n",
        "total_syntax_error_score = sum([syntax_error_scores[illegal_character] for illegal_character in illegal_characters])\n",
        "\n",
        "print(f'Total syntax error score: {total_syntax_error_score}')"
      ],
      "metadata": {
        "colab": {
          "base_uri": "https://localhost:8080/"
        },
        "id": "_RLhCF9iMF2B",
        "outputId": "e46c7dea-1765-4200-ac26-22713f78078c"
      },
      "execution_count": 16,
      "outputs": [
        {
          "output_type": "stream",
          "name": "stdout",
          "text": [
            "Total syntax error score: 462693\n"
          ]
        }
      ]
    },
    {
      "cell_type": "markdown",
      "source": [
        "## Part 2"
      ],
      "metadata": {
        "id": "oDaU8kPiRkAS"
      }
    },
    {
      "cell_type": "code",
      "source": [
        "autocomplete_scores = {'':0,')':1,']':2,'}':3,'>':4}"
      ],
      "metadata": {
        "id": "SN_ygY3BTVt3"
      },
      "execution_count": 25,
      "outputs": []
    },
    {
      "cell_type": "code",
      "source": [
        "incomplete_lines = [processed_input[i] for i, character in enumerate(illegal_characters) if character=='']"
      ],
      "metadata": {
        "id": "laDKVgdJVUCo"
      },
      "execution_count": 52,
      "outputs": []
    },
    {
      "cell_type": "code",
      "source": [
        "total_autocomplete_scores = []\n",
        "\n",
        "for line in incomplete_lines:\n",
        "  stack = []\n",
        "  for character in line:\n",
        "    if character in characters.keys():\n",
        "      stack.append(character)\n",
        "    elif character==characters[stack[-1]]:\n",
        "      stack.pop(-1)\n",
        "  closing_characters_required = [characters[remaining_character] for remaining_character in reversed(stack)]\n",
        "  total_line_score = 0\n",
        "  for required_character in closing_characters_required:\n",
        "    total_line_score*=5\n",
        "    total_line_score+=autocomplete_scores[required_character]\n",
        "  total_autocomplete_scores.append(total_line_score)"
      ],
      "metadata": {
        "id": "kviZW9R9P6KW"
      },
      "execution_count": 59,
      "outputs": []
    },
    {
      "cell_type": "code",
      "source": [
        "median_autocomplete_score = sorted(total_autocomplete_scores)[(len(total_autocomplete_scores))//2]\n",
        "\n",
        "print(f'Median autocomplete score: {median_autocomplete_score}')"
      ],
      "metadata": {
        "colab": {
          "base_uri": "https://localhost:8080/"
        },
        "id": "eQmSZtDXSWBz",
        "outputId": "2dbafdd5-42e0-4efe-fce6-2edf60aaaa4e"
      },
      "execution_count": 60,
      "outputs": [
        {
          "output_type": "stream",
          "name": "stdout",
          "text": [
            "Median autocomplete score: 3094671161\n"
          ]
        }
      ]
    }
  ]
}