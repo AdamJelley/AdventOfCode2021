{
  "nbformat": 4,
  "nbformat_minor": 0,
  "metadata": {
    "colab": {
      "name": "Day15.ipynb",
      "provenance": [],
      "collapsed_sections": [],
      "authorship_tag": "ABX9TyNlj5qm0FpBGi2PLTxsGOoX",
      "include_colab_link": true
    },
    "kernelspec": {
      "name": "python3",
      "display_name": "Python 3"
    },
    "language_info": {
      "name": "python"
    }
  },
  "cells": [
    {
      "cell_type": "markdown",
      "metadata": {
        "id": "view-in-github",
        "colab_type": "text"
      },
      "source": [
        "<a href=\"https://colab.research.google.com/github/AdamJelley/AdventOfCode2021/blob/main/Day15.ipynb\" target=\"_parent\"><img src=\"https://colab.research.google.com/assets/colab-badge.svg\" alt=\"Open In Colab\"/></a>"
      ]
    },
    {
      "cell_type": "markdown",
      "source": [
        "# Day 15"
      ],
      "metadata": {
        "id": "5x_J7tEqkC1H"
      }
    },
    {
      "cell_type": "code",
      "execution_count": 3,
      "metadata": {
        "id": "IA-aL8oC0Q-f"
      },
      "outputs": [],
      "source": [
        "import requests\n",
        "import numpy as np"
      ]
    },
    {
      "cell_type": "code",
      "execution_count": 4,
      "metadata": {
        "id": "6uJf_8geTXIs"
      },
      "outputs": [],
      "source": [
        "#Variables to set\n",
        "day = 15\n",
        "cookie = ''"
      ]
    },
    {
      "cell_type": "code",
      "execution_count": 5,
      "metadata": {
        "id": "jrpajyrthNv8"
      },
      "outputs": [],
      "source": [
        "input_link = f'https://adventofcode.com/2021/day/{day}/input'\n",
        "user_cookie = {'session':cookie} # Retrieve session cookie corresponding to user login (by inspecting cookies on data page)"
      ]
    },
    {
      "cell_type": "code",
      "execution_count": 9,
      "metadata": {
        "id": "mDRLEgtgmXod"
      },
      "outputs": [],
      "source": [
        "raw_input = requests.get(input_link, cookies=user_cookie).text[:-1]\n",
        "cave = np.array([[int(c) for c in row] for row in raw_input.split('\\n')])"
      ]
    },
    {
      "cell_type": "markdown",
      "source": [
        "## Part 1"
      ],
      "metadata": {
        "id": "1DgxA9OP-nvS"
      }
    },
    {
      "cell_type": "markdown",
      "source": [
        "Take a dynamic programming approach and work out the value of each state. Could alternatively have used Dijkstra's algorithm or A* search."
      ],
      "metadata": {
        "id": "SqgJE7-YjVGO"
      }
    },
    {
      "cell_type": "code",
      "source": [
        "def calculate_values(cave):\n",
        "\n",
        "  V = np.full(cave.shape, np.inf)\n",
        "  height = cave.shape[0]\n",
        "  width = cave.shape[1]\n",
        "  V[height-1, width-1]=0\n",
        "\n",
        "  done = False\n",
        "  while not done:\n",
        "    old_V = V.copy()\n",
        "    for i in range(height):\n",
        "      for j in range(width):\n",
        "        if (i!=0 or j!=0):\n",
        "          up_value = cave[height-1-i-1,width-1-j]+V[height-1-i-1,width-1-j] if i!=height-1 else np.inf\n",
        "          down_value = cave[height-1-i+1,width-1-j]+V[height-1-i+1,width-1-j] if i!=0 else np.inf\n",
        "          left_value = cave[height-1-i,width-1-j-1]+V[height-1-i,width-1-j-1] if j!=width-1 else np.inf\n",
        "          right_value = cave[height-1-i,width-1-j+1]+V[height-1-i,width-1-j+1] if j!=0 else np.inf\n",
        "          V[height-1-i,width-1-j]=min(up_value, down_value, right_value, left_value)\n",
        "    if np.all(V == old_V):\n",
        "      done = True\n",
        "\n",
        "  return V"
      ],
      "metadata": {
        "id": "UWqdNcyKIUr6"
      },
      "execution_count": 57,
      "outputs": []
    },
    {
      "cell_type": "code",
      "source": [
        "V = calculate_values(cave)"
      ],
      "metadata": {
        "id": "ii4jTn0mkaks"
      },
      "execution_count": 58,
      "outputs": []
    },
    {
      "cell_type": "code",
      "source": [
        "print(f'Lowest total risk from top left to bottom right = {int(V[0,0])}')"
      ],
      "metadata": {
        "colab": {
          "base_uri": "https://localhost:8080/"
        },
        "id": "eRTHp--JR8rP",
        "outputId": "9d05a7ac-4fe7-47b8-bcc5-18dc5352cf4e"
      },
      "execution_count": 116,
      "outputs": [
        {
          "output_type": "stream",
          "name": "stdout",
          "text": [
            "Lowest total risk from top left to bottom right = 462\n"
          ]
        }
      ]
    },
    {
      "cell_type": "markdown",
      "source": [
        "## Part 2"
      ],
      "metadata": {
        "id": "f0GjIO6tjkBo"
      }
    },
    {
      "cell_type": "code",
      "source": [
        "full_cave = np.block([[((cave+i+j)-1)%9+1 for i in range(5)] for j in range(5)])\n",
        "\n",
        "assert ((full_cave[0][0]+4-1)%9+1) == full_cave[height*4, 0]\n",
        "assert ((full_cave[0][0]+4-1)%9+1) == full_cave[height*2, width*2]"
      ],
      "metadata": {
        "id": "i05TbQUwS_qX"
      },
      "execution_count": 113,
      "outputs": []
    },
    {
      "cell_type": "code",
      "source": [
        "V_full = calculate_values(full_cave)"
      ],
      "metadata": {
        "id": "1hMrONROln0u"
      },
      "execution_count": 114,
      "outputs": []
    },
    {
      "cell_type": "code",
      "source": [
        "print(f'New lowest total risk from top left to bottom right = {int(V_full[0,0])}')"
      ],
      "metadata": {
        "colab": {
          "base_uri": "https://localhost:8080/"
        },
        "id": "WEz6d31amTvn",
        "outputId": "60696ee1-8069-4fda-bf45-4f8d993b7249"
      },
      "execution_count": 117,
      "outputs": [
        {
          "output_type": "stream",
          "name": "stdout",
          "text": [
            "New lowest total risk from top left to bottom right = 2846\n"
          ]
        }
      ]
    }
  ]
}