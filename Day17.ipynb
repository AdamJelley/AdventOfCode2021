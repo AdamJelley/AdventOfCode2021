{
  "nbformat": 4,
  "nbformat_minor": 0,
  "metadata": {
    "colab": {
      "name": "Day17.ipynb",
      "provenance": [],
      "collapsed_sections": [],
      "authorship_tag": "ABX9TyPU9bbCM8htCW7UDg9mXFa4",
      "include_colab_link": true
    },
    "kernelspec": {
      "name": "python3",
      "display_name": "Python 3"
    },
    "language_info": {
      "name": "python"
    }
  },
  "cells": [
    {
      "cell_type": "markdown",
      "metadata": {
        "id": "view-in-github",
        "colab_type": "text"
      },
      "source": [
        "<a href=\"https://colab.research.google.com/github/AdamJelley/AdventOfCode2021/blob/main/Day17.ipynb\" target=\"_parent\"><img src=\"https://colab.research.google.com/assets/colab-badge.svg\" alt=\"Open In Colab\"/></a>"
      ]
    },
    {
      "cell_type": "markdown",
      "source": [
        "# Day 17"
      ],
      "metadata": {
        "id": "5x_J7tEqkC1H"
      }
    },
    {
      "cell_type": "code",
      "execution_count": 1,
      "metadata": {
        "id": "IA-aL8oC0Q-f"
      },
      "outputs": [],
      "source": [
        "import requests\n",
        "import numpy as np"
      ]
    },
    {
      "cell_type": "code",
      "execution_count": 2,
      "metadata": {
        "id": "6uJf_8geTXIs"
      },
      "outputs": [],
      "source": [
        "#Variables to set\n",
        "day = 17\n",
        "cookie = ''"
      ]
    },
    {
      "cell_type": "code",
      "execution_count": 3,
      "metadata": {
        "id": "jrpajyrthNv8"
      },
      "outputs": [],
      "source": [
        "input_link = f'https://adventofcode.com/2021/day/{day}/input'\n",
        "user_cookie = {'session':cookie} # Retrieve session cookie corresponding to user login (by inspecting cookies on data page)"
      ]
    },
    {
      "cell_type": "code",
      "source": [
        "raw_input = requests.get(input_link, cookies=user_cookie).text[:-1]\n",
        "print(raw_input)"
      ],
      "metadata": {
        "colab": {
          "base_uri": "https://localhost:8080/"
        },
        "id": "bWZKEbvH_Wcg",
        "outputId": "d0c371d4-1994-4bc7-febd-25e94d5b6020"
      },
      "execution_count": 114,
      "outputs": [
        {
          "output_type": "stream",
          "name": "stdout",
          "text": [
            "target area: x=94..151, y=-156..-103\n"
          ]
        }
      ]
    },
    {
      "cell_type": "code",
      "source": [
        "x_min = 94\n",
        "x_max = 151\n",
        "y_min = -156\n",
        "y_max = -103"
      ],
      "metadata": {
        "id": "-uTFudvJ_Z3Q"
      },
      "execution_count": 115,
      "outputs": []
    },
    {
      "cell_type": "markdown",
      "source": [
        "## Part 1"
      ],
      "metadata": {
        "id": "HrWZEjzt_ecD"
      }
    },
    {
      "cell_type": "code",
      "source": [
        "def simulate_trajectory(initial_x_velocity, inital_y_velocity, print_trajectory=False):\n",
        "  initial_position = [0,0]\n",
        "  initial_velocity = [initial_x_velocity,inital_y_velocity]\n",
        "  position = initial_position.copy()\n",
        "  velocity = initial_velocity.copy()\n",
        "  heights = []\n",
        "\n",
        "  while position[1]>y_min:\n",
        "    position[0]+=velocity[0]\n",
        "    position[1]+=velocity[1]\n",
        "    if print_trajectory:\n",
        "      print(position)\n",
        "    heights.append(position[1])\n",
        "    velocity[0] = velocity[0]-1 if velocity[0]>0 else velocity[0]\n",
        "    velocity[1]-=1\n",
        "    if x_min<=position[0]<=x_max and y_min<=position[1]<=y_max:\n",
        "      successful_trajectory = True\n",
        "      max_height = max(heights)\n",
        "      return successful_trajectory, max_height\n",
        "\n",
        "  successful_trajectory = False\n",
        "  max_height = max(heights)\n",
        "  return successful_trajectory, max_height"
      ],
      "metadata": {
        "id": "s3FkUcwS_a1G"
      },
      "execution_count": 85,
      "outputs": []
    },
    {
      "cell_type": "code",
      "source": [
        "max_heights = dict()\n",
        "for initial_x_velocity in range(0,x_max+2): # Overshoot after 1 step\n",
        "  for initial_y_velocity in range(y_min-1, 2*(-y_max+1)): # Overshoot after 2 steps\n",
        "    successful, height = simulate_trajectory(initial_x_velocity, initial_y_velocity)\n",
        "    if successful:\n",
        "      max_heights[(initial_x_velocity, initial_y_velocity)] = height\n",
        "\n",
        "max_height = max(max_heights.values())\n",
        "max_height_velocity = max(max_heights.keys(), key = lambda x: max_heights[x])\n",
        "print(f'Max height of {max_height} reached for intial velocity {max_height_velocity}')"
      ],
      "metadata": {
        "colab": {
          "base_uri": "https://localhost:8080/"
        },
        "id": "rBo5w4YMGRo4",
        "outputId": "5288d913-d23a-4c08-f075-ccf5ee02fe36"
      },
      "execution_count": 128,
      "outputs": [
        {
          "output_type": "stream",
          "name": "stdout",
          "text": [
            "Max height of 12090 reached for intial velocity (14, 155)\n"
          ]
        }
      ]
    },
    {
      "cell_type": "markdown",
      "source": [
        "## Part 2"
      ],
      "metadata": {
        "id": "ab5rx5n2P9K0"
      }
    },
    {
      "cell_type": "code",
      "source": [
        "print(f'Number trajectories that reach target area = {len(max_heights.keys())}')"
      ],
      "metadata": {
        "colab": {
          "base_uri": "https://localhost:8080/"
        },
        "id": "_eztoDdGP8l-",
        "outputId": "7d2ac082-c81e-4d65-c4d2-53551ee5b398"
      },
      "execution_count": 135,
      "outputs": [
        {
          "output_type": "stream",
          "name": "stdout",
          "text": [
            "Number trajectories that reach target area = 5059\n"
          ]
        }
      ]
    }
  ]
}