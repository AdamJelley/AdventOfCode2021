{
  "nbformat": 4,
  "nbformat_minor": 0,
  "metadata": {
    "colab": {
      "name": "Day25.ipynb",
      "provenance": [],
      "collapsed_sections": [],
      "authorship_tag": "ABX9TyNAQhlLvdo08KljgnU7mI/a",
      "include_colab_link": true
    },
    "kernelspec": {
      "name": "python3",
      "display_name": "Python 3"
    },
    "language_info": {
      "name": "python"
    }
  },
  "cells": [
    {
      "cell_type": "markdown",
      "metadata": {
        "id": "view-in-github",
        "colab_type": "text"
      },
      "source": [
        "<a href=\"https://colab.research.google.com/github/AdamJelley/AdventOfCode2021/blob/main/Day25.ipynb\" target=\"_parent\"><img src=\"https://colab.research.google.com/assets/colab-badge.svg\" alt=\"Open In Colab\"/></a>"
      ]
    },
    {
      "cell_type": "markdown",
      "source": [
        "## Day 25"
      ],
      "metadata": {
        "id": "51phViP61lc6"
      }
    },
    {
      "cell_type": "code",
      "execution_count": 1,
      "metadata": {
        "id": "IA-aL8oC0Q-f"
      },
      "outputs": [],
      "source": [
        "import requests\n",
        "import numpy as np"
      ]
    },
    {
      "cell_type": "code",
      "execution_count": 2,
      "metadata": {
        "id": "6uJf_8geTXIs"
      },
      "outputs": [],
      "source": [
        "#Variables to set\n",
        "day = 25\n",
        "cookie = ''"
      ]
    },
    {
      "cell_type": "code",
      "execution_count": 14,
      "metadata": {
        "id": "jrpajyrthNv8"
      },
      "outputs": [],
      "source": [
        "input_link = f'https://adventofcode.com/2021/day/{day}/input'\n",
        "user_cookie = {'session':cookie} # Retrieve session cookie corresponding to user login (by inspecting cookies on data page)\n",
        "raw_input = requests.get(input_link, cookies=user_cookie).text[:-1]\n",
        "array = np.array([list(row) for row in raw_input.split('\\n')])"
      ]
    },
    {
      "cell_type": "code",
      "source": [
        "test_raw_input = \"v...>>.vv>\\n.vv>>.vv..\\n>>.>v>...v\\n>>v>>.>.v.\\nv>v.vv.v..\\n>.>>..v...\\n.vv..>.>v.\\nv.v..>>v.v\\n....v..v.>\"\n",
        "test_array = np.array([list(row) for row in test_raw_input.split('\\n')])"
      ],
      "metadata": {
        "id": "GGdrlCfiYTbG"
      },
      "execution_count": 75,
      "outputs": []
    },
    {
      "cell_type": "code",
      "source": [
        "class SimulateCucumbers:\n",
        "  def __init__(self, initial_array):\n",
        "    self.array = initial_array.copy()\n",
        "    (self.height, self.width) = self.array.shape\n",
        "    self.step_num = 0\n",
        "\n",
        "  def move_east(self):\n",
        "    start_array=self.array.copy()\n",
        "    for i in range(self.height):\n",
        "      for j in range(self.width):\n",
        "        if start_array[i,j]=='>':\n",
        "          if start_array[i,(j+1)%(self.width)]=='.':\n",
        "            self.array[i,j]='.'\n",
        "            self.array[i,(j+1)%(self.width)]='>'\n",
        "\n",
        "  def move_south(self):\n",
        "    start_array=self.array.copy()\n",
        "    for i in range(self.height):\n",
        "      for j in range(self.width):\n",
        "        if start_array[i,j]=='v':\n",
        "          if start_array[(i+1)%self.height,j]=='.':\n",
        "            self.array[i,j]='.'\n",
        "            self.array[(i+1)%self.height,j]='v'\n",
        "\n",
        "  def simulate_step(self):\n",
        "    self.move_east()\n",
        "    self.move_south()\n",
        "    \n",
        "  def simulate_steps_until_landing(self):\n",
        "    previous_array = self.array.copy()\n",
        "    movement=True\n",
        "    while movement:\n",
        "      self.simulate_step()\n",
        "      self.step_num+=1\n",
        "      if np.all(self.array==previous_array):\n",
        "        movement=False\n",
        "      previous_array=self.array.copy()\n",
        "    return self.step_num, self.array\n"
      ],
      "metadata": {
        "id": "IPQwhVcddPqb"
      },
      "execution_count": 113,
      "outputs": []
    },
    {
      "cell_type": "code",
      "source": [
        "test_simulator = SimulateCucumbers(test_array)\n",
        "num_steps, final_array = test_simulator.simulate_steps_until_landing()\n",
        "assert num_steps == 58"
      ],
      "metadata": {
        "id": "N5Rk7znXf0tx"
      },
      "execution_count": 114,
      "outputs": []
    },
    {
      "cell_type": "code",
      "source": [
        "simulator = SimulateCucumbers(array)\n",
        "num_steps, final_array = simulator.simulate_steps_until_landing()"
      ],
      "metadata": {
        "id": "3h5ZZUs8f7l5"
      },
      "execution_count": 115,
      "outputs": []
    },
    {
      "cell_type": "code",
      "source": [
        "print(f'Number of steps until the submarine can land: {num_steps}')"
      ],
      "metadata": {
        "colab": {
          "base_uri": "https://localhost:8080/"
        },
        "id": "CsNBH3rMgDz0",
        "outputId": "d356ec5f-6950-40c1-f7c2-333c1e0035b1"
      },
      "execution_count": 117,
      "outputs": [
        {
          "output_type": "stream",
          "name": "stdout",
          "text": [
            "Number of steps until the submarine can land: 571\n"
          ]
        }
      ]
    }
  ]
}