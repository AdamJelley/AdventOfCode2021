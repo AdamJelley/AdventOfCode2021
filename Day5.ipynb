{
  "nbformat": 4,
  "nbformat_minor": 0,
  "metadata": {
    "colab": {
      "name": "Day5.ipynb",
      "provenance": [],
      "collapsed_sections": [],
      "authorship_tag": "ABX9TyPgWVmqQL4hnaDgQlf2ZFfz",
      "include_colab_link": true
    },
    "kernelspec": {
      "name": "python3",
      "display_name": "Python 3"
    },
    "language_info": {
      "name": "python"
    }
  },
  "cells": [
    {
      "cell_type": "markdown",
      "metadata": {
        "id": "view-in-github",
        "colab_type": "text"
      },
      "source": [
        "<a href=\"https://colab.research.google.com/github/AdamJelley/AdventOfCode2021/blob/main/Day5.ipynb\" target=\"_parent\"><img src=\"https://colab.research.google.com/assets/colab-badge.svg\" alt=\"Open In Colab\"/></a>"
      ]
    },
    {
      "cell_type": "markdown",
      "metadata": {
        "id": "lDX5ZnchrIqg"
      },
      "source": [
        "# Day 5"
      ]
    },
    {
      "cell_type": "code",
      "metadata": {
        "id": "IA-aL8oC0Q-f"
      },
      "source": [
        "import requests\n",
        "import csv\n",
        "import numpy as np"
      ],
      "execution_count": 36,
      "outputs": []
    },
    {
      "cell_type": "code",
      "metadata": {
        "id": "jrpajyrthNv8"
      },
      "source": [
        "input_link = 'https://adventofcode.com/2021/day/5/input'\n",
        "user_cookie = {'session':''} # Retrieve session cookie corresponding to user login (by inspecting cookies on data page)"
      ],
      "execution_count": 37,
      "outputs": []
    },
    {
      "cell_type": "code",
      "metadata": {
        "id": "mDRLEgtgmXod"
      },
      "source": [
        "raw_input = requests.get(input_link, cookies=user_cookie).text[:-1]\n",
        "processed_input = np.array([[[int(coordinate) for coordinate in coordinates.split(',')] for coordinates in line.split(' -> ') ] for line in raw_input.split('\\n')])"
      ],
      "execution_count": 38,
      "outputs": []
    },
    {
      "cell_type": "code",
      "metadata": {
        "colab": {
          "base_uri": "https://localhost:8080/"
        },
        "id": "iKLVZwU6vBp2",
        "outputId": "81759548-6845-4f6e-846f-079f31be3e08"
      },
      "source": [
        "#Find domain size\n",
        "x1_max = processed_input[:,0,0].max()\n",
        "y1_max = processed_input[:,0,1].max()\n",
        "x2_max = processed_input[:,1,0].max()\n",
        "y2_max = processed_input[:,1,1].max()\n",
        "print(x1_max, y1_max, x2_max, y2_max)"
      ],
      "execution_count": 39,
      "outputs": [
        {
          "output_type": "stream",
          "name": "stdout",
          "text": [
            "988 989 989 989\n"
          ]
        }
      ]
    },
    {
      "cell_type": "markdown",
      "metadata": {
        "id": "2a9p5lXEDrWy"
      },
      "source": [
        "## Part 1"
      ]
    },
    {
      "cell_type": "code",
      "metadata": {
        "id": "Wv6I6a8ayHM_"
      },
      "source": [
        "initial_domain = np.zeros((1000,1000))\n",
        "\n",
        "def draw_vertical_line(domain, line):\n",
        "  [[x1,y1],[x2,y2]] = line\n",
        "  assert(x1==x2) #Vertical line\n",
        "  y=y1\n",
        "  if y2>y1: #Upwards\n",
        "    while y!=y2+1:\n",
        "      domain[x1, y]+=1\n",
        "      y+=1\n",
        "  else:\n",
        "    while y!=y2-1: #Downwards\n",
        "      domain[x1, y]+=1\n",
        "      y-=1\n",
        "  return domain\n",
        "\n",
        "def draw_horizontal_line(domain, line):\n",
        "  [[x1,y1],[x2,y2]] = line\n",
        "  assert(y1==y2) #Horizontal line\n",
        "  x=x1\n",
        "  if x2>x1: #Rightwards\n",
        "    while x!=x2+1:\n",
        "      domain[x, y1]+=1\n",
        "      x+=1\n",
        "  else:\n",
        "    while x!=x2-1: #Leftwards\n",
        "      domain[x, y1]+=1\n",
        "      x-=1\n",
        "  return domain\n",
        "\n",
        "assert(draw_vertical_line(domain=np.copy(initial_domain), line=[[200,200],[200,800]]).sum()==601)\n",
        "assert(draw_horizontal_line(domain=np.copy(initial_domain), line=[[600,200],[200,200]]).sum()==401)"
      ],
      "execution_count": 59,
      "outputs": []
    },
    {
      "cell_type": "code",
      "metadata": {
        "colab": {
          "base_uri": "https://localhost:8080/"
        },
        "id": "JvN8QTUiDONn",
        "outputId": "041266c3-ca95-4bc2-835f-1faafff405ca"
      },
      "source": [
        "domain = np.copy(initial_domain)\n",
        "for line in processed_input:\n",
        "  [[x1,y1],[x2,y2]] = line\n",
        "  if x1==x2: #Vertical line\n",
        "    draw_vertical_line(domain, line)\n",
        "  if y1==y2: #Horizontal line\n",
        "    draw_horizontal_line(domain, line)\n",
        "\n",
        "num_dangerous_points = (domain>=2).sum() #At least two lines cover point\n",
        "print(f'Number of dangerous points: {num_dangerous_points}')"
      ],
      "execution_count": 60,
      "outputs": [
        {
          "output_type": "stream",
          "name": "stdout",
          "text": [
            "Number of dangerous points: 5197\n"
          ]
        }
      ]
    },
    {
      "cell_type": "markdown",
      "metadata": {
        "id": "v-MTP4YoDtsf"
      },
      "source": [
        "## Part 2"
      ]
    },
    {
      "cell_type": "code",
      "metadata": {
        "id": "fASe_vQK2cKU"
      },
      "source": [
        "def draw_diagonal_line(domain, line):\n",
        "  [[x1,y1],[x2,y2]] = line\n",
        "  assert(abs(x2-x1)==abs(y2-y1)) #Diagonal line\n",
        "  x=x1\n",
        "  y=y1\n",
        "  if y2>y1 and x2>x1: #Up right\n",
        "    while y!=y2+1:\n",
        "      domain[x, y]+=1\n",
        "      x+=1\n",
        "      y+=1\n",
        "  elif y2>y1 and x2<x1: #Up left\n",
        "    while y!=y2+1:\n",
        "      domain[x, y]+=1\n",
        "      x-=1\n",
        "      y+=1\n",
        "  elif y2<y1 and x2>x1: #Down right\n",
        "    while y!=y2-1: \n",
        "      domain[x, y]+=1\n",
        "      x+=1\n",
        "      y-=1\n",
        "  elif y2<y1 and x2<x1: #Down right\n",
        "    while y!=y2-1: \n",
        "      domain[x, y]+=1\n",
        "      x-=1\n",
        "      y-=1\n",
        "  return domain\n",
        "\n",
        "assert(draw_diagonal_line(domain=np.copy(initial_domain), line=[[200,200],[100,100]]).sum()==101)"
      ],
      "execution_count": 62,
      "outputs": []
    },
    {
      "cell_type": "code",
      "metadata": {
        "colab": {
          "base_uri": "https://localhost:8080/"
        },
        "id": "qCEBCcFO_Qy2",
        "outputId": "e6ff279a-8806-4865-e164-21c2a0a6ea55"
      },
      "source": [
        "domain_2 = np.copy(initial_domain)\n",
        "for line in processed_input:\n",
        "  [[x1,y1],[x2,y2]] = line\n",
        "  if x1==x2: #Vertical line\n",
        "    draw_vertical_line(domain_2, line)\n",
        "  elif y1==y2: #Horizontal line\n",
        "    draw_horizontal_line(domain_2, line)\n",
        "  else:\n",
        "    draw_diagonal_line(domain_2, line)\n",
        "\n",
        "num_dangerous_points_2 = (domain_2>=2).sum() #At least two lines cover point\n",
        "print(f'Number of dangerous points: {num_dangerous_points_2}')"
      ],
      "execution_count": 69,
      "outputs": [
        {
          "output_type": "stream",
          "name": "stdout",
          "text": [
            "Number of dangerous points: 18605\n"
          ]
        }
      ]
    }
  ]
}