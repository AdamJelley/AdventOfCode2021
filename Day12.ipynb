{
  "cells": [
    {
      "cell_type": "markdown",
      "metadata": {
        "id": "view-in-github",
        "colab_type": "text"
      },
      "source": [
        "<a href=\"https://colab.research.google.com/github/AdamJelley/AdventOfCode2021/blob/main/Day12.ipynb\" target=\"_parent\"><img src=\"https://colab.research.google.com/assets/colab-badge.svg\" alt=\"Open In Colab\"/></a>"
      ]
    },
    {
      "cell_type": "markdown",
      "metadata": {
        "id": "VbERFRFEJ_sd"
      },
      "source": [
        "# Day 12"
      ]
    },
    {
      "cell_type": "code",
      "execution_count": 3,
      "metadata": {
        "id": "IA-aL8oC0Q-f"
      },
      "outputs": [],
      "source": [
        "import requests\n",
        "import csv\n",
        "import numpy as np\n",
        "import sys\n",
        "sys.setrecursionlimit(20000)"
      ]
    },
    {
      "cell_type": "code",
      "execution_count": 4,
      "metadata": {
        "id": "6uJf_8geTXIs"
      },
      "outputs": [],
      "source": [
        "#Variables to set\n",
        "day = 12\n",
        "cookie = ''"
      ]
    },
    {
      "cell_type": "code",
      "execution_count": 5,
      "metadata": {
        "id": "jrpajyrthNv8"
      },
      "outputs": [],
      "source": [
        "input_link = f'https://adventofcode.com/2021/day/{day}/input'\n",
        "user_cookie = {'session':cookie} # Retrieve session cookie corresponding to user login (by inspecting cookies on data page)"
      ]
    },
    {
      "cell_type": "code",
      "execution_count": 6,
      "metadata": {
        "id": "mDRLEgtgmXod"
      },
      "outputs": [],
      "source": [
        "raw_input = requests.get(input_link, cookies=user_cookie).text[:-1]\n",
        "processed_input = [connection.split('-') for connection in raw_input.split('\\n')]"
      ]
    },
    {
      "cell_type": "code",
      "execution_count": 39,
      "metadata": {
        "colab": {
          "base_uri": "https://localhost:8080/"
        },
        "id": "wSWUN8LJvn51",
        "outputId": "b9f3137f-85f7-4f99-82ee-02ec826bfe77"
      },
      "outputs": [
        {
          "output_type": "execute_result",
          "data": {
            "text/plain": [
              "{'FN': ['nx', 'zl', 'em', 'jx', 'sv', 'hi'],\n",
              " 'UL': ['nx'],\n",
              " 'VJ': ['nx', 'end', 'em', 'hi', 'start'],\n",
              " 'em': ['VJ', 'sv', 'zl', 'FN'],\n",
              " 'end': ['VJ', 'zl', 'nx'],\n",
              " 'hi': ['sv', 'start', 'VJ', 'FN'],\n",
              " 'jx': ['FN'],\n",
              " 'nx': ['VJ', 'UL', 'FN', 'end'],\n",
              " 'start': ['sv', 'hi', 'VJ'],\n",
              " 'sv': ['start', 'hi', 'em', 'zl', 'FN'],\n",
              " 'zl': ['FN', 'end', 'em', 'sv']}"
            ]
          },
          "metadata": {},
          "execution_count": 39
        }
      ],
      "source": [
        "#Create connections dict\n",
        "connections = {}\n",
        "for connection in processed_input:\n",
        "  if connection[0] in connections.keys():\n",
        "    connections[connection[0]].append(connection[1])\n",
        "  else:\n",
        "    connections[connection[0]] = [connection[1]]\n",
        "  if connection[1] in connections.keys():\n",
        "    connections[connection[1]].append(connection[0])\n",
        "  else:\n",
        "    connections[connection[1]] = [connection[0]]\n",
        "connections"
      ]
    },
    {
      "cell_type": "markdown",
      "source": [
        "## Part 1"
      ],
      "metadata": {
        "id": "tntjRMBGGgqj"
      }
    },
    {
      "cell_type": "code",
      "source": [
        "# Recursive depth-first search\n",
        "def find_all_paths(current_position, connections, path, all_paths):\n",
        "  if str.upper(current_position)==current_position or (str.lower(current_position)==current_position and current_position not in path):\n",
        "    path.append(current_position)\n",
        "    if current_position == 'end':\n",
        "        all_paths.append(path)\n",
        "        return\n",
        "    for position in connections[current_position]:\n",
        "      current_position = position\n",
        "      find_all_paths(current_position, connections, list(path), all_paths) "
      ],
      "metadata": {
        "id": "4L2pWZKhDzOc"
      },
      "execution_count": 40,
      "outputs": []
    },
    {
      "cell_type": "markdown",
      "source": [
        "**Note on recursion:**\n",
        "Need to pass `path` by value here, so that recursion takes the list *as it was at the time*, whereas `all_paths` is passed by reference, so that it is persisted through the recursion! `Current_position` is also passed by value so that it returns to previous value on recursion.\n",
        "Note Python's default behaviour is for immutable objects to be passed by value, and mutable objects to be passed by reference."
      ],
      "metadata": {
        "id": "5N8ln0xiGeFz"
      }
    },
    {
      "cell_type": "code",
      "execution_count": 41,
      "metadata": {
        "id": "ZQyVh91415o8",
        "colab": {
          "base_uri": "https://localhost:8080/"
        },
        "outputId": "8bb9a3a0-a927-42fe-e3ac-4545e1c54198"
      },
      "outputs": [
        {
          "output_type": "stream",
          "name": "stdout",
          "text": [
            "Number of paths through the cave system that visit small caves at most once: 5254\n"
          ]
        }
      ],
      "source": [
        "current_position = 'start'\n",
        "path = []\n",
        "all_paths = []\n",
        "\n",
        "find_all_paths(current_position, connections, path, all_paths)\n",
        "\n",
        "print(f'Number of paths through the cave system that visit small caves at most once: {len(all_paths)}')"
      ]
    },
    {
      "cell_type": "markdown",
      "source": [
        "## Part 2"
      ],
      "metadata": {
        "id": "FE031eyyRL2H"
      }
    },
    {
      "cell_type": "code",
      "source": [
        "# Recursive depth-first search\n",
        "def find_all_paths_double_visit(current_position, connections, path, all_paths_double, small_double_visit):\n",
        "  if (not small_double_visit and current_position != 'start' and current_position != 'end') or (str.upper(current_position)==current_position or (str.lower(current_position)==current_position and current_position not in path)):\n",
        "    if (str.lower(current_position)==current_position and current_position in path):\n",
        "      small_double_visit=True\n",
        "    path.append(current_position)\n",
        "    if current_position == 'end':\n",
        "        all_paths_double.append(path)\n",
        "        return\n",
        "    for position in connections[current_position]:\n",
        "      current_position = position\n",
        "      find_all_paths_double_visit(current_position, connections, list(path), all_paths_double, small_double_visit) "
      ],
      "metadata": {
        "id": "4pj7s_3VyMdc"
      },
      "execution_count": 48,
      "outputs": []
    },
    {
      "cell_type": "markdown",
      "source": [
        "Note that `small_double_visit` must be passed by value here (as is the default since bool is an immutable data type)."
      ],
      "metadata": {
        "id": "Uc3xO9sHUUdA"
      }
    },
    {
      "cell_type": "code",
      "source": [
        "current_position = 'start'\n",
        "path = []\n",
        "all_paths_double = []\n",
        "small_double_visit = False\n",
        "\n",
        "find_all_paths_double_visit(current_position, connections, path, all_paths_double, small_double_visit)\n",
        "\n",
        "print(f'Number of paths through the cave system that visit small caves at most twice: {len(all_paths_double)}')"
      ],
      "metadata": {
        "colab": {
          "base_uri": "https://localhost:8080/"
        },
        "id": "cBQWOuAuUNbk",
        "outputId": "6925c7df-dfcc-4b01-be7d-8294eab5cb97"
      },
      "execution_count": 49,
      "outputs": [
        {
          "output_type": "stream",
          "name": "stdout",
          "text": [
            "Number of paths through the cave system that visit small caves at most twice: 149385\n"
          ]
        }
      ]
    }
  ],
  "metadata": {
    "colab": {
      "name": "Day12.ipynb",
      "provenance": [],
      "collapsed_sections": [],
      "authorship_tag": "ABX9TyNHLAt6x/G8oWRGj48ntuWp",
      "include_colab_link": true
    },
    "kernelspec": {
      "display_name": "Python 3",
      "name": "python3"
    },
    "language_info": {
      "name": "python"
    }
  },
  "nbformat": 4,
  "nbformat_minor": 0
}