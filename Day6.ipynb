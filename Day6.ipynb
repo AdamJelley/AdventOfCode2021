{
  "nbformat": 4,
  "nbformat_minor": 0,
  "metadata": {
    "colab": {
      "name": "Day6.ipynb",
      "provenance": [],
      "collapsed_sections": [],
      "authorship_tag": "ABX9TyO7/V2G6X7G8zoQjM1Yjw1t",
      "include_colab_link": true
    },
    "kernelspec": {
      "name": "python3",
      "display_name": "Python 3"
    },
    "language_info": {
      "name": "python"
    }
  },
  "cells": [
    {
      "cell_type": "markdown",
      "metadata": {
        "id": "view-in-github",
        "colab_type": "text"
      },
      "source": [
        "<a href=\"https://colab.research.google.com/github/AdamJelley/AdventOfCode2021/blob/main/Day6.ipynb\" target=\"_parent\"><img src=\"https://colab.research.google.com/assets/colab-badge.svg\" alt=\"Open In Colab\"/></a>"
      ]
    },
    {
      "cell_type": "markdown",
      "metadata": {
        "id": "lDX5ZnchrIqg"
      },
      "source": [
        "# Day 6"
      ]
    },
    {
      "cell_type": "code",
      "metadata": {
        "id": "IA-aL8oC0Q-f"
      },
      "source": [
        "import requests\n",
        "import csv\n",
        "import numpy as np"
      ],
      "execution_count": 2,
      "outputs": []
    },
    {
      "cell_type": "code",
      "metadata": {
        "id": "jrpajyrthNv8"
      },
      "source": [
        "input_link = 'https://adventofcode.com/2021/day/6/input'\n",
        "user_cookie = {'session':''} # Retrieve session cookie corresponding to user login (by inspecting cookies on data page)"
      ],
      "execution_count": 3,
      "outputs": []
    },
    {
      "cell_type": "code",
      "metadata": {
        "id": "mDRLEgtgmXod"
      },
      "source": [
        "raw_input = requests.get(input_link, cookies=user_cookie).text[:-1]\n",
        "processed_input = [int(x) for x in raw_input.split(',')]"
      ],
      "execution_count": 4,
      "outputs": []
    },
    {
      "cell_type": "markdown",
      "metadata": {
        "id": "fHhhpBTgIM1q"
      },
      "source": [
        "## Part 1"
      ]
    },
    {
      "cell_type": "code",
      "metadata": {
        "colab": {
          "base_uri": "https://localhost:8080/"
        },
        "id": "Ef0SarHiHod4",
        "outputId": "b2082e9d-52d8-470a-d19f-ade926dd74e1"
      },
      "source": [
        "current_fish = processed_input\n",
        "fish_rate = 6\n",
        "new_fish_rate = 8\n",
        "days = 80\n",
        "\n",
        "for day in range(days):\n",
        "  for i in range(len(current_fish)):\n",
        "    current_fish[i]-=1\n",
        "    if current_fish[i]==-1:\n",
        "      current_fish[i]=fish_rate\n",
        "      current_fish.append(new_fish_rate)\n",
        "print(f'Num fish after {days} days = {len(current_fish)}')"
      ],
      "execution_count": 5,
      "outputs": [
        {
          "output_type": "stream",
          "name": "stdout",
          "text": [
            "Num fish after 80 days = 373378\n"
          ]
        }
      ]
    },
    {
      "cell_type": "markdown",
      "metadata": {
        "id": "e-DjL_fuJ5k4"
      },
      "source": [
        "## Part 2"
      ]
    },
    {
      "cell_type": "code",
      "metadata": {
        "colab": {
          "base_uri": "https://localhost:8080/",
          "height": 232
        },
        "id": "auYSZ6qSJ0gU",
        "outputId": "90b47756-868f-4a37-adde-ee43e39026be"
      },
      "source": [
        "current_fish = processed_input\n",
        "fish_rate = 6\n",
        "new_fish_rate = 8\n",
        "days = 256\n",
        "\n",
        "for day in range(days):\n",
        "  for i in range(len(current_fish)):\n",
        "    current_fish[i]-=1\n",
        "    if current_fish[i]==-1:\n",
        "      current_fish[i]=6\n",
        "      current_fish.append(8)\n",
        "print(f'Num fish after {days} days = {len(current_fish)}')"
      ],
      "execution_count": 14,
      "outputs": [
        {
          "output_type": "error",
          "ename": "KeyboardInterrupt",
          "evalue": "ignored",
          "traceback": [
            "\u001b[0;31m---------------------------------------------------------------------------\u001b[0m",
            "\u001b[0;31mKeyboardInterrupt\u001b[0m                         Traceback (most recent call last)",
            "\u001b[0;32m<ipython-input-14-b107059201ed>\u001b[0m in \u001b[0;36m<module>\u001b[0;34m()\u001b[0m\n\u001b[1;32m      7\u001b[0m   \u001b[0;32mfor\u001b[0m \u001b[0mi\u001b[0m \u001b[0;32min\u001b[0m \u001b[0mrange\u001b[0m\u001b[0;34m(\u001b[0m\u001b[0mlen\u001b[0m\u001b[0;34m(\u001b[0m\u001b[0mcurrent_fish\u001b[0m\u001b[0;34m)\u001b[0m\u001b[0;34m)\u001b[0m\u001b[0;34m:\u001b[0m\u001b[0;34m\u001b[0m\u001b[0;34m\u001b[0m\u001b[0m\n\u001b[1;32m      8\u001b[0m     \u001b[0mcurrent_fish\u001b[0m\u001b[0;34m[\u001b[0m\u001b[0mi\u001b[0m\u001b[0;34m]\u001b[0m\u001b[0;34m-=\u001b[0m\u001b[0;36m1\u001b[0m\u001b[0;34m\u001b[0m\u001b[0;34m\u001b[0m\u001b[0m\n\u001b[0;32m----> 9\u001b[0;31m     \u001b[0;32mif\u001b[0m \u001b[0mcurrent_fish\u001b[0m\u001b[0;34m[\u001b[0m\u001b[0mi\u001b[0m\u001b[0;34m]\u001b[0m\u001b[0;34m==\u001b[0m\u001b[0;34m-\u001b[0m\u001b[0;36m1\u001b[0m\u001b[0;34m:\u001b[0m\u001b[0;34m\u001b[0m\u001b[0;34m\u001b[0m\u001b[0m\n\u001b[0m\u001b[1;32m     10\u001b[0m       \u001b[0mcurrent_fish\u001b[0m\u001b[0;34m[\u001b[0m\u001b[0mi\u001b[0m\u001b[0;34m]\u001b[0m\u001b[0;34m=\u001b[0m\u001b[0;36m6\u001b[0m\u001b[0;34m\u001b[0m\u001b[0;34m\u001b[0m\u001b[0m\n\u001b[1;32m     11\u001b[0m       \u001b[0mcurrent_fish\u001b[0m\u001b[0;34m.\u001b[0m\u001b[0mappend\u001b[0m\u001b[0;34m(\u001b[0m\u001b[0;36m8\u001b[0m\u001b[0;34m)\u001b[0m\u001b[0;34m\u001b[0m\u001b[0;34m\u001b[0m\u001b[0m\n",
            "\u001b[0;31mKeyboardInterrupt\u001b[0m: "
          ]
        }
      ]
    },
    {
      "cell_type": "markdown",
      "metadata": {
        "id": "kY7qTsTwNEUi"
      },
      "source": [
        "Intial implementation with nested for loop too slow for 256 days! Also lists use too much memory as the number of fish grows large. Instead note that order of fish is not important, so refactor to use dictionaries rather than lists:"
      ]
    },
    {
      "cell_type": "code",
      "metadata": {
        "colab": {
          "base_uri": "https://localhost:8080/"
        },
        "id": "pW8mRGBrSKrC",
        "outputId": "f6e806fb-3aef-4ac8-bb44-3f8d78df6da3"
      },
      "source": [
        "fish_rate = 6\n",
        "new_fish_rate = 8\n",
        "days = 256\n",
        "\n",
        "current_fish = dict.fromkeys(list(range(new_fish_rate+1)),0)\n",
        "for fish in processed_input:\n",
        "  current_fish[fish]+=1\n",
        "\n",
        "for day in range(days):\n",
        "  num_new_fish = current_fish[0]\n",
        "  for key in current_fish.keys():\n",
        "    if key!=0:\n",
        "      current_fish[key-1]=current_fish[key]\n",
        "  current_fish[fish_rate]+=num_new_fish\n",
        "  current_fish[new_fish_rate]=num_new_fish\n",
        "\n",
        "print(f'Num fish after {days} days = {sum(current_fish.values())}')"
      ],
      "execution_count": 26,
      "outputs": [
        {
          "output_type": "stream",
          "name": "stdout",
          "text": [
            "Num fish after 256 days = 1682576647495\n"
          ]
        }
      ]
    }
  ]
}