{
  "nbformat": 4,
  "nbformat_minor": 0,
  "metadata": {
    "colab": {
      "name": "Day1.ipynb",
      "provenance": [],
      "collapsed_sections": [],
      "authorship_tag": "ABX9TyN7TQ4Pqan86pJHnzMbD288",
      "include_colab_link": true
    },
    "kernelspec": {
      "name": "python3",
      "display_name": "Python 3"
    },
    "language_info": {
      "name": "python"
    }
  },
  "cells": [
    {
      "cell_type": "markdown",
      "metadata": {
        "id": "view-in-github",
        "colab_type": "text"
      },
      "source": [
        "<a href=\"https://colab.research.google.com/github/AdamJelley/AdventOfCode2021/blob/main/Day1.ipynb\" target=\"_parent\"><img src=\"https://colab.research.google.com/assets/colab-badge.svg\" alt=\"Open In Colab\"/></a>"
      ]
    },
    {
      "cell_type": "markdown",
      "metadata": {
        "id": "lDX5ZnchrIqg"
      },
      "source": [
        "# Day 1"
      ]
    },
    {
      "cell_type": "code",
      "metadata": {
        "id": "IA-aL8oC0Q-f"
      },
      "source": [
        "import requests\n",
        "import csv"
      ],
      "execution_count": 5,
      "outputs": []
    },
    {
      "cell_type": "code",
      "metadata": {
        "id": "jrpajyrthNv8"
      },
      "source": [
        "input_link = 'https://adventofcode.com/2021/day/1/input'\n",
        "user_cookie = {'session':'{ENTER YOUR SESSION COOKIE HERE}'} # Retrieve session cookie corresponding to user login (by inspecting cookies on data page)"
      ],
      "execution_count": 16,
      "outputs": []
    },
    {
      "cell_type": "code",
      "metadata": {
        "id": "mDRLEgtgmXod"
      },
      "source": [
        "raw_input = requests.get(input_link, cookies=user_cookie).text\n",
        "processed_input = [int(x) for x in raw_input.splitlines()]"
      ],
      "execution_count": 44,
      "outputs": []
    },
    {
      "cell_type": "markdown",
      "metadata": {
        "id": "3QlMJubTrCd2"
      },
      "source": [
        "## Part 1"
      ]
    },
    {
      "cell_type": "code",
      "metadata": {
        "colab": {
          "base_uri": "https://localhost:8080/"
        },
        "id": "cz8yQ9LEoJ-x",
        "outputId": "5f74a5f8-afb4-4d9f-b691-763baccc3390"
      },
      "source": [
        "previous_depth = float(\"inf\")\n",
        "depth_increase_ctr = 0\n",
        "\n",
        "for depth in processed_input:\n",
        "  if depth>previous_depth:\n",
        "    depth_increase_ctr+=1\n",
        "  previous_depth = depth\n",
        "\n",
        "print(f'Numer of depth increases: {depth_increase_ctr}')"
      ],
      "execution_count": 45,
      "outputs": [
        {
          "output_type": "stream",
          "name": "stdout",
          "text": [
            "Numer of depth increases: 1342\n"
          ]
        }
      ]
    },
    {
      "cell_type": "markdown",
      "metadata": {
        "id": "UJ22L3c1rFRp"
      },
      "source": [
        "## Part 2"
      ]
    },
    {
      "cell_type": "code",
      "metadata": {
        "id": "14r6KHHbi_cz"
      },
      "source": [
        "sliding_windows = []\n",
        "\n",
        "for i in range(len(processed_input)-2):\n",
        "  sliding_window_i = sum(processed_input[i:i+3])\n",
        "  sliding_windows.append(sliding_window_i)\n",
        "\n",
        "assert(sliding_windows[0])==processed_input[0]+processed_input[1]+processed_input[2]\n",
        "assert(sliding_windows[-1])==processed_input[-1]+processed_input[-2]+processed_input[-3]"
      ],
      "execution_count": 56,
      "outputs": []
    },
    {
      "cell_type": "code",
      "metadata": {
        "colab": {
          "base_uri": "https://localhost:8080/"
        },
        "id": "M7LlCmbWtvQb",
        "outputId": "7e60b2c3-3bc8-4a39-cb15-5d778a68b1fb"
      },
      "source": [
        "previous_sum_depth = float(\"inf\")\n",
        "sum_depth_increase_ctr = 0\n",
        "\n",
        "for sum_depth in sliding_windows:\n",
        "  if sum_depth > previous_sum_depth:\n",
        "    sum_depth_increase_ctr += 1\n",
        "  previous_sum_depth = sum_depth\n",
        "\n",
        "print(f'Numer of sliding window depth increases: {sum_depth_increase_ctr}')"
      ],
      "execution_count": 57,
      "outputs": [
        {
          "output_type": "stream",
          "name": "stdout",
          "text": [
            "Numer of sliding window depth increases: 1378\n"
          ]
        }
      ]
    },
    {
      "cell_type": "code",
      "metadata": {
        "id": "YZBaDEeZveTm"
      },
      "source": [
        ""
      ],
      "execution_count": null,
      "outputs": []
    }
  ]
}