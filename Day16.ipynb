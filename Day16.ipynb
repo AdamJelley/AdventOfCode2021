{
  "nbformat": 4,
  "nbformat_minor": 0,
  "metadata": {
    "colab": {
      "name": "Day16.ipynb",
      "provenance": [],
      "collapsed_sections": [],
      "authorship_tag": "ABX9TyPHfyllfABkhRZOfBXay2IH",
      "include_colab_link": true
    },
    "kernelspec": {
      "name": "python3",
      "display_name": "Python 3"
    },
    "language_info": {
      "name": "python"
    }
  },
  "cells": [
    {
      "cell_type": "markdown",
      "metadata": {
        "id": "view-in-github",
        "colab_type": "text"
      },
      "source": [
        "<a href=\"https://colab.research.google.com/github/AdamJelley/AdventOfCode2021/blob/main/Day16.ipynb\" target=\"_parent\"><img src=\"https://colab.research.google.com/assets/colab-badge.svg\" alt=\"Open In Colab\"/></a>"
      ]
    },
    {
      "cell_type": "markdown",
      "source": [
        "# Day 16"
      ],
      "metadata": {
        "id": "5x_J7tEqkC1H"
      }
    },
    {
      "cell_type": "code",
      "execution_count": 51,
      "metadata": {
        "id": "IA-aL8oC0Q-f"
      },
      "outputs": [],
      "source": [
        "import requests\n",
        "import numpy as np"
      ]
    },
    {
      "cell_type": "code",
      "execution_count": 2,
      "metadata": {
        "id": "6uJf_8geTXIs"
      },
      "outputs": [],
      "source": [
        "#Variables to set\n",
        "day = 16\n",
        "cookie = ''"
      ]
    },
    {
      "cell_type": "code",
      "execution_count": 3,
      "metadata": {
        "id": "jrpajyrthNv8"
      },
      "outputs": [],
      "source": [
        "input_link = f'https://adventofcode.com/2021/day/{day}/input'\n",
        "user_cookie = {'session':cookie} # Retrieve session cookie corresponding to user login (by inspecting cookies on data page)"
      ]
    },
    {
      "cell_type": "code",
      "source": [
        "def convert_hex_to_binary(input):\n",
        "  binary_input = bin(int(input, 16))[2:] # Convert to binary and ignore leading 0b\n",
        "\n",
        "  if len(binary_input) != len(input)*4: #Check for any missing leading zeros\n",
        "    num_leading_zeros_required = len(input)*4 - len(binary_input)\n",
        "    binary_input = '0'*num_leading_zeros_required + binary_input\n",
        "\n",
        "  assert len(binary_input) == len(input)*4\n",
        "  return binary_input"
      ],
      "metadata": {
        "id": "-_T7aA4P_Ptp"
      },
      "execution_count": 4,
      "outputs": []
    },
    {
      "cell_type": "code",
      "execution_count": 5,
      "metadata": {
        "id": "mDRLEgtgmXod",
        "colab": {
          "base_uri": "https://localhost:8080/",
          "height": 106
        },
        "outputId": "432bee34-9057-4b7e-db89-e58e1e510061"
      },
      "outputs": [
        {
          "output_type": "execute_result",
          "data": {
            "application/vnd.google.colaboratory.intrinsic+json": {
              "type": "string"
            },
            "text/plain": [
              "'1110000001010010010111011001100000000010111110100000000010111000000000000010000110110001001111100010110101000010011000000000000001000011001000011101110001100100100011010111001010011101110101100111101100100100000100100000000010011001011001101101011101101100000000010101100111101101001001110100111101101001001000010100000000101110100111111101010010101100000110110000111101100101001011001101001100111001110101111011100000100010010000000000100000111100100110100101010011101000000110011000000000101011001101101001110111000000000010000010110011111001000011001111100100101000000000001000000101110010011111011010111101000001111001101010010111000001101110011011100011100100000110100100111100110001101001001110111101100111111000100000000010011000001101000000000101011001100001101111100110101011111001000001111001111101011000001000000000100001001110010011000111001011000000000100001001110000110111100101110111010100110000000001000011100000000011010101000001000000000110111000101001110000100011100011111110000000000000100001111100001011111000001010010000111101100111100100011000000000000001111110011000101010110011101110011111111001111110110100010010010001101111000010001001100000000010010000101001010111001110101000011101101011000110111100010011010110011110011011101001111010011001000010010000000001010000110100100100110111110010010001000111001101100110000100100100010000010010010000110011001111110000100111110011000111111011100110100001100000000010011100111111000101011111101100000000010100100111001110111111100100110100010011010110100000110000100000000011000000111101000000000100101001100010111100111100100110010100110111011111110111100111000010011110011111010101000000001001111001101011001100111001011010100000100000110010110000010001001011011000100010100110010010100100011100000000011001100000000010010101000000000110101010000000000000001000011101000110000010001010111100010111000001000000000111011000111010010001101001100011111011001101010000111001100001100001001100000000001010100110000010000000100000000011111010111100000000001001000100100110011000111101100111110101011001100110011000111101100111110101011010100100111110110010110000110101101110000000010110010011010111000010011010010001111111010110101110101101100110000100101101000110110001101011000111100010001000010001100000000010000111100000000010010100100101010101010000100101111111010100011111001001100011101000011100101000000000110001001101000010010100011010111001001001100110100111101110010001110011000101010000011000000000100000010010000001101100100101100010000010001011000010110010011000010000111001111011001110001001011100110111111100111110001000000000011011010110011011000001101000011101010010101011111011000011111000010000000000111010001110110000100000000101110100110011011111000010111101001111101001011100110110000011110011100111110110100110011110100011000001001110100110111110111011110011001011011100111011110000100010100100000000000000001000001011000110010110011111111100001001100110000000001000010010111100011101111011101011000011111110000100011110110000000001001110011011001010001001101100101000010100000000001001010100000000001110010000000010111010101000110000000000100001010000000000100001110000000000111101010000000000100000000000001000101110100011000000000010000111000000000011100101000000000011100001000000000010110101000000000011110001000000000011100011000000000011010001000000000010000110000000001110001111010000000000101101100001000000000010001010010101000000000010001001100110100110011111111010111001111110011011000010011000000000100001101000000000100000000000000000100001010100000111011000100111110000110010000100000000011011100010010011000101011110000100101100010110000011000000000101001010000000000101010010100110010011100110010010111011010101000101100111011110100000100001100000000011001100100100000010010011101011101011001100100101010001100000000010110100101111110111010111000101000011010000000001000110010101100010111101110010101100010111100100110000000001000110011001111011011011100111100011101111110000000001001110011111110101010011010001110011001101000000100100100011001011010111011101000010111001000000001010000101000010000000001111110001111110100011000101000011110100000000000001000010001000100110110001001010100010111000000000000000100001001100010100101000111111010001010100100111111010011000110101011110101101000101110001100000000000111111111001111111011111111100101110100000000000001010000111100110000000001111110001011010100000110001000111110000100000000001000010011000001111110000101110100000100010010000000000100001111100011011011000011100110001000110001000000001010000001110110000000001000000010000000001110110001011011100010011001000011100100000000000001000011001000001111010001001111100001000011001100010010110011010111101000110000011000000000101011101000000000101011001001111011100011110110100101001001101011001100100111010010100111001110000001111100110101010011010110000011110000110000000001000110110000000001000110011010100010100010110010100111101000011110011011101001100011111010110000101000000000101101000100101110000110100001100000000010001110100000000010001100101001110101001100100100111101000011111100000110010101000000000011101001100100000110100101001011100011100100101011100101010100011100000000011100100111010111100010011000111111001010011111001111000000100100110011010011101110101010001100000'"
            ]
          },
          "metadata": {},
          "execution_count": 5
        }
      ],
      "source": [
        "# Get hexadecimal input and convert to binary\n",
        "raw_input = requests.get(input_link, cookies=user_cookie).text[:-1]\n",
        "binary_input = convert_hex_to_binary(raw_input)\n",
        "binary_input"
      ]
    },
    {
      "cell_type": "markdown",
      "source": [
        "## Part 1"
      ],
      "metadata": {
        "id": "nUZMsJW-Db7x"
      }
    },
    {
      "cell_type": "code",
      "source": [
        "class Decoder:\n",
        "  def __init__(self):\n",
        "    self.version_sum=0\n",
        "    self.operators = {0: lambda x: sum(x),\n",
        "             1: lambda x: np.prod(x),\n",
        "             2: lambda x: min(x),\n",
        "             3: lambda x: max(x),\n",
        "             5: lambda x: 1 if x[0]>x[1] else 0,\n",
        "             6: lambda x: 1 if x[0]<x[1] else 0,\n",
        "             7: lambda x: 1 if x[0]==x[1] else 0}\n",
        "\n",
        "  def decode_packet_metadata(self, input):\n",
        "    packet_version = int(input[:3],2)\n",
        "    packet_type = int(input[3:6], 2)\n",
        "    #print(f'Version: {packet_version}, Type: {packet_type}')\n",
        "    self.version_sum+=packet_version\n",
        "    remainder = input[6:]\n",
        "    return packet_version, packet_type, remainder\n",
        "\n",
        "  def decode_literal(self, input):\n",
        "    binary_literal = ''\n",
        "    for i in range(0, len(input), 5):\n",
        "      if input[i]=='1':\n",
        "        binary_literal+=input[i+1:i+5]\n",
        "      elif input[i]=='0':\n",
        "        binary_literal+=input[i+1:i+5]\n",
        "        remainder = input[i+5:]\n",
        "        break\n",
        "    literal = int(binary_literal, 2)\n",
        "    #print(f'Literal: {literal}')\n",
        "    return literal, remainder\n",
        "\n",
        "  def decode_operator(self, operator_packet_type, input):\n",
        "\n",
        "    length_type = input[0]\n",
        "    if length_type == '0':\n",
        "      length_subpackets = int(input[1:16], 2)\n",
        "      subpackets = input[16:16+length_subpackets]\n",
        "      remainder = input[16+length_subpackets:]\n",
        "      values = []\n",
        "      while len(subpackets)>10:\n",
        "        packet_version, packet_type, subpackets = self.decode_packet_metadata(subpackets)\n",
        "        if packet_type==4:\n",
        "          literal, subpackets = self.decode_literal(subpackets)\n",
        "          values.append(literal)\n",
        "        else:\n",
        "          result, subpackets = self.decode_operator(packet_type, subpackets)\n",
        "          values.append(result)\n",
        "      final_result = operators[operator_packet_type](values)\n",
        "\n",
        "    elif length_type == '1':\n",
        "      num_subpackets = int(input[1:1+11], 2)\n",
        "      remainder = input[12:]\n",
        "      values = []\n",
        "      j=0\n",
        "      while j<num_subpackets:\n",
        "        packet_version, packet_type, remainder = self.decode_packet_metadata(remainder)\n",
        "        j+=1\n",
        "        if packet_type==4:\n",
        "          literal, remainder = self.decode_literal(remainder)\n",
        "          values.append(literal)\n",
        "        else:\n",
        "          result, remainder = self.decode_operator(packet_type, remainder)\n",
        "          values.append(result)\n",
        "      final_result = operators[operator_packet_type](values)\n",
        "\n",
        "    return final_result, remainder\n",
        "\n",
        "  def decode_packet(self, input):\n",
        "    self.version_sum=0\n",
        "    packet_version, packet_type, remainder = self.decode_packet_metadata(input)\n",
        "    if packet_type==4:\n",
        "      final_result, remainder = self.decode_literal(remainder)\n",
        "    else:\n",
        "      final_result, remainder = self.decode_operator(packet_type, remainder)\n",
        "\n",
        "    return final_result, remainder"
      ],
      "metadata": {
        "id": "LYga7iNyvXoF"
      },
      "execution_count": 116,
      "outputs": []
    },
    {
      "cell_type": "code",
      "source": [
        "decoder = Decoder()\n",
        "\n",
        "for hex_test in ['8A004A801A8002F478', '620080001611562C8802118E34', 'C0015000016115A2E0802F182340', 'A0016C880162017C3686B18A3D4780']:\n",
        "  binary_test = convert_hex_to_binary(hex_test)\n",
        "  decoder.decode_packet(binary_test)\n",
        "  print(f'Test case version sum = {decoder.version_sum}')\n"
      ],
      "metadata": {
        "colab": {
          "base_uri": "https://localhost:8080/"
        },
        "id": "HhevKKWGkk7M",
        "outputId": "38340007-01ad-41fb-d1d7-b0bbe29b14aa"
      },
      "execution_count": 119,
      "outputs": [
        {
          "output_type": "stream",
          "name": "stdout",
          "text": [
            "Test case version sum = 16\n",
            "Test case version sum = 12\n",
            "Test case version sum = 23\n",
            "Test case version sum = 31\n"
          ]
        }
      ]
    },
    {
      "cell_type": "code",
      "source": [
        "decoder.decode_packet(binary_input)\n",
        "print(f'Input packet version sum = {decoder.version_sum}')"
      ],
      "metadata": {
        "colab": {
          "base_uri": "https://localhost:8080/"
        },
        "id": "UNtixsS3G-J4",
        "outputId": "2bda1737-7b93-46d5-9bd1-9bbb92f28638"
      },
      "execution_count": 121,
      "outputs": [
        {
          "output_type": "stream",
          "name": "stdout",
          "text": [
            "Input packet version sum = 940\n"
          ]
        }
      ]
    },
    {
      "cell_type": "markdown",
      "source": [
        "## Part 2"
      ],
      "metadata": {
        "id": "zezr4Ui6tIxe"
      }
    },
    {
      "cell_type": "code",
      "source": [
        "decoder = Decoder()"
      ],
      "metadata": {
        "id": "ZhvlUKW8Sns-"
      },
      "execution_count": 103,
      "outputs": []
    },
    {
      "cell_type": "code",
      "source": [
        "test_cases = [('C200B40A82',3),('04005AC33890',54),('880086C3E88112',7),('CE00C43D881120',9),('D8005AC2A8F0',1),('F600BC2D8F',0),('9C005AC2F8F0',0),('9C0141080250320F1802104A08',1)]\n",
        "\n",
        "for test_case in test_cases:\n",
        "  binary_test_case = convert_hex_to_binary(test_case[0])\n",
        "  result, remainder = decoder.decode_packet(binary_test_case)\n",
        "  print(f'Test case result = {result}, expected {test_case[1]}')\n",
        "  assert result==test_case[1]"
      ],
      "metadata": {
        "colab": {
          "base_uri": "https://localhost:8080/"
        },
        "id": "zSA1gCkXxr8A",
        "outputId": "6c8de0f9-ef80-4fe4-d79a-28ad9fcc70b6"
      },
      "execution_count": 123,
      "outputs": [
        {
          "output_type": "stream",
          "name": "stdout",
          "text": [
            "Test case result = 3, expected 3\n",
            "Test case result = 54, expected 54\n",
            "Test case result = 7, expected 7\n",
            "Test case result = 9, expected 9\n",
            "Test case result = 1, expected 1\n",
            "Test case result = 0, expected 0\n",
            "Test case result = 0, expected 0\n",
            "Test case result = 1, expected 1\n"
          ]
        }
      ]
    },
    {
      "cell_type": "code",
      "source": [
        "final_result, remainder = decoder.decode_packet(binary_input)\n",
        "print(f'Final result from decoding input packet = {final_result}')"
      ],
      "metadata": {
        "colab": {
          "base_uri": "https://localhost:8080/"
        },
        "id": "7Rn_HWGrhVJS",
        "outputId": "a1ada721-d0c7-4365-84ad-b387afd2f349"
      },
      "execution_count": 124,
      "outputs": [
        {
          "output_type": "stream",
          "name": "stdout",
          "text": [
            "Final result from decoding input packet = 13476220616073\n"
          ]
        }
      ]
    }
  ]
}