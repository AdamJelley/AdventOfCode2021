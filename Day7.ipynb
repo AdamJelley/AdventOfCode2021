{
  "nbformat": 4,
  "nbformat_minor": 0,
  "metadata": {
    "colab": {
      "name": "Day7.ipynb",
      "provenance": [],
      "collapsed_sections": [],
      "authorship_tag": "ABX9TyPLjCVNvKIoq7FSY3bK7hXQ",
      "include_colab_link": true
    },
    "kernelspec": {
      "name": "python3",
      "display_name": "Python 3"
    },
    "language_info": {
      "name": "python"
    }
  },
  "cells": [
    {
      "cell_type": "markdown",
      "metadata": {
        "id": "view-in-github",
        "colab_type": "text"
      },
      "source": [
        "<a href=\"https://colab.research.google.com/github/AdamJelley/AdventOfCode2021/blob/main/Day7.ipynb\" target=\"_parent\"><img src=\"https://colab.research.google.com/assets/colab-badge.svg\" alt=\"Open In Colab\"/></a>"
      ]
    },
    {
      "cell_type": "markdown",
      "metadata": {
        "id": "lDX5ZnchrIqg"
      },
      "source": [
        "# Day 7"
      ]
    },
    {
      "cell_type": "code",
      "metadata": {
        "id": "IA-aL8oC0Q-f"
      },
      "source": [
        "import requests\n",
        "import csv\n",
        "import numpy as np"
      ],
      "execution_count": 1,
      "outputs": []
    },
    {
      "cell_type": "code",
      "metadata": {
        "id": "jrpajyrthNv8"
      },
      "source": [
        "input_link = 'https://adventofcode.com/2021/day/7/input'\n",
        "user_cookie = {'session':''} # Retrieve session cookie corresponding to user login (by inspecting cookies on data page)"
      ],
      "execution_count": 2,
      "outputs": []
    },
    {
      "cell_type": "code",
      "metadata": {
        "id": "mDRLEgtgmXod"
      },
      "source": [
        "raw_input = requests.get(input_link, cookies=user_cookie).text[:-1]\n",
        "processed_input = [int(x) for x in raw_input.split(',')]"
      ],
      "execution_count": 7,
      "outputs": []
    },
    {
      "cell_type": "markdown",
      "metadata": {
        "id": "oXkMbBwcfL5i"
      },
      "source": [
        "## Part 1"
      ]
    },
    {
      "cell_type": "markdown",
      "metadata": {
        "id": "tduPfiedeS5L"
      },
      "source": [
        "Let aligned horizontal positon be $x'$. Fuel cost:\n",
        "$$\n",
        "C=\\sum_x |x-x'|\n",
        "$$\n",
        "Derivative can be calculated wrt $x'$ and set to 0 but difficult to solve for x' (needs to be solved numerically) so just solve numerically directly."
      ]
    },
    {
      "cell_type": "code",
      "metadata": {
        "colab": {
          "base_uri": "https://localhost:8080/"
        },
        "id": "9nyK9rcFcJds",
        "outputId": "6d2b6c5b-ed2e-4203-91cb-0d2e4a5f4749"
      },
      "source": [
        "costs = [sum([abs(x-horizontal) for x in processed_input]) for horizontal in range(1,max(processed_input)+1)]\n",
        "min_cost = min(costs)\n",
        "horizontal_min = costs.index(min_cost)\n",
        "print(f'Min cost is {min_cost} at horizontal position {horizontal_min}')"
      ],
      "execution_count": 31,
      "outputs": [
        {
          "output_type": "stream",
          "name": "stdout",
          "text": [
            "Min cost is 344735 at horizontal position 335\n"
          ]
        }
      ]
    },
    {
      "cell_type": "markdown",
      "metadata": {
        "id": "mPnnfTLYlopv"
      },
      "source": [
        "## Part 2"
      ]
    },
    {
      "cell_type": "markdown",
      "metadata": {
        "id": "j-v-Fo_loSly"
      },
      "source": [
        "Similarly, just brute force. "
      ]
    },
    {
      "cell_type": "code",
      "metadata": {
        "colab": {
          "base_uri": "https://localhost:8080/"
        },
        "id": "Xzj-mWtrcKOy",
        "outputId": "73859fee-ec33-468d-d86c-79f2aa598685"
      },
      "source": [
        "costs = [sum([sum(range(1,abs(x-horizontal)+1)) for x in processed_input]) for horizontal in range(1,max(processed_input)+1)]\n",
        "min_cost = min(costs)\n",
        "horizontal_min = costs.index(min_cost)\n",
        "print(f'Min cost is {min_cost} at horizontal position {horizontal_min}')"
      ],
      "execution_count": 33,
      "outputs": [
        {
          "output_type": "stream",
          "name": "stdout",
          "text": [
            "Min cost is 96798233 at horizontal position 473\n"
          ]
        }
      ]
    },
    {
      "cell_type": "code",
      "metadata": {
        "id": "zY0kvGjDh4DD"
      },
      "source": [
        ""
      ],
      "execution_count": null,
      "outputs": []
    }
  ]
}