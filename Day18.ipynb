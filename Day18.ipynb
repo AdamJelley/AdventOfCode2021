{
  "nbformat": 4,
  "nbformat_minor": 0,
  "metadata": {
    "colab": {
      "name": "Day18.ipynb",
      "provenance": [],
      "collapsed_sections": [],
      "authorship_tag": "ABX9TyOvYnHSVMFP5N1k4ahZNmLa",
      "include_colab_link": true
    },
    "kernelspec": {
      "name": "python3",
      "display_name": "Python 3"
    },
    "language_info": {
      "name": "python"
    }
  },
  "cells": [
    {
      "cell_type": "markdown",
      "metadata": {
        "id": "view-in-github",
        "colab_type": "text"
      },
      "source": [
        "<a href=\"https://colab.research.google.com/github/AdamJelley/AdventOfCode2021/blob/main/Day18.ipynb\" target=\"_parent\"><img src=\"https://colab.research.google.com/assets/colab-badge.svg\" alt=\"Open In Colab\"/></a>"
      ]
    },
    {
      "cell_type": "markdown",
      "source": [
        "# Day 18"
      ],
      "metadata": {
        "id": "5x_J7tEqkC1H"
      }
    },
    {
      "cell_type": "code",
      "execution_count": 2,
      "metadata": {
        "id": "IA-aL8oC0Q-f"
      },
      "outputs": [],
      "source": [
        "import requests\n",
        "import numpy as np"
      ]
    },
    {
      "cell_type": "code",
      "execution_count": 3,
      "metadata": {
        "id": "6uJf_8geTXIs"
      },
      "outputs": [],
      "source": [
        "#Variables to set\n",
        "day = 18\n",
        "cookie = ''"
      ]
    },
    {
      "cell_type": "code",
      "execution_count": 4,
      "metadata": {
        "id": "jrpajyrthNv8"
      },
      "outputs": [],
      "source": [
        "input_link = f'https://adventofcode.com/2021/day/{day}/input'\n",
        "user_cookie = {'session':cookie} # Retrieve session cookie corresponding to user login (by inspecting cookies on data page)"
      ]
    },
    {
      "cell_type": "code",
      "source": [
        "raw_input = requests.get(input_link, cookies=user_cookie).text[:-1]\n",
        "list_input = raw_input.split('\\n')\n",
        "processed_input = [eval(snum) for snum in list_input]"
      ],
      "metadata": {
        "id": "bWZKEbvH_Wcg"
      },
      "execution_count": 5,
      "outputs": []
    },
    {
      "cell_type": "code",
      "source": [
        "def parse_snum(snum):\n",
        "  snum_char_list = list(str(snum))\n",
        "  for i, char in enumerate(snum_char_list):\n",
        "    if char.isnumeric() and snum_char_list[i+1].isnumeric():\n",
        "      snum_char_list[i:i+2] = [''.join(snum_char_list[i:i+2])]\n",
        "  snum_list = [int(e) if e.isnumeric() else e for e in snum_char_list]\n",
        "  return snum_list"
      ],
      "metadata": {
        "id": "ljD2w_l7nFNh"
      },
      "execution_count": 6,
      "outputs": []
    },
    {
      "cell_type": "code",
      "source": [
        "def unparse_snum(snum):\n",
        "  snum_str = ''.join([str(e) for e in snum])\n",
        "  return snum_str"
      ],
      "metadata": {
        "id": "6kGQ9wGjP59F"
      },
      "execution_count": 7,
      "outputs": []
    },
    {
      "cell_type": "markdown",
      "source": [
        "## Part 1"
      ],
      "metadata": {
        "id": "CzV8ie37ODuO"
      }
    },
    {
      "cell_type": "code",
      "source": [
        "def snum_add(snum1, snum2):\n",
        "  snum_sum = f'[{snum1}, {snum2}]'\n",
        "  return snum_sum"
      ],
      "metadata": {
        "id": "DcQCnPZh61gS"
      },
      "execution_count": 8,
      "outputs": []
    },
    {
      "cell_type": "code",
      "source": [
        "def explode_pair(snum):\n",
        "  explode = False\n",
        "  depth=0\n",
        "  for i, char in enumerate(snum):\n",
        "    depth=depth+1 if char=='[' else depth\n",
        "    depth=depth-1 if char==']' else depth\n",
        "    \n",
        "    if depth==5:\n",
        "      explode=True\n",
        "      for j in range(i,0,-1):\n",
        "        if type(snum[j])==int:\n",
        "          snum[j]+=snum[i+1]\n",
        "          break\n",
        "      for k in range(i+5, len(snum)):\n",
        "        if type(snum[k])==int:\n",
        "          snum[k]+=snum[i+4]\n",
        "          break\n",
        "      \n",
        "      del snum[i:i+6]\n",
        "      snum.insert(i, 0)\n",
        "      break\n",
        "    \n",
        "    \n",
        "  #print(''.join([str(e) for e in snum]))\n",
        "  return snum, explode"
      ],
      "metadata": {
        "id": "ZCJir0mo7dPm"
      },
      "execution_count": 9,
      "outputs": []
    },
    {
      "cell_type": "code",
      "source": [
        "def split_num(snum):\n",
        "  split=False\n",
        "  for i, char in enumerate(snum):\n",
        "    if type(char)==int:\n",
        "      if char>9:\n",
        "        split=True\n",
        "        first = char//2\n",
        "        second = char//2 if char%2==0 else char//2+1\n",
        "        del snum[i]\n",
        "        snum[i:i] = f'[ ,  ]'\n",
        "        snum[i+1]=first\n",
        "        snum[i+4]=second\n",
        "        break\n",
        "  return snum, split"
      ],
      "metadata": {
        "id": "wksUS2Bx8FFu"
      },
      "execution_count": 10,
      "outputs": []
    },
    {
      "cell_type": "code",
      "source": [
        "def reduce_snums(snum1, snum2):\n",
        "  snum_sum = snum_add(snum1, snum2)\n",
        "  snum_sum = parse_snum(snum_sum)\n",
        "  explode = True\n",
        "  split=True\n",
        "  while explode==True or split==True:\n",
        "    explode=True\n",
        "    while explode==True:\n",
        "      snum_sum, explode = explode_pair(snum_sum)\n",
        "    snum_sum, split = split_num(snum_sum)\n",
        "  snum_sum_str = unparse_snum(snum_sum)\n",
        "  return snum_sum_str"
      ],
      "metadata": {
        "id": "JVjqRpTuTdJe"
      },
      "execution_count": 11,
      "outputs": []
    },
    {
      "cell_type": "code",
      "source": [
        "def add_reduce_snums(snums):\n",
        "  result = snums[0]\n",
        "  for snum in snums[1:]:\n",
        "    result = reduce_snums(result, snum)\n",
        "  return result"
      ],
      "metadata": {
        "id": "uQUuEHn_rQ0L"
      },
      "execution_count": 12,
      "outputs": []
    },
    {
      "cell_type": "code",
      "source": [
        "def calculate_magnitude(snum):\n",
        "  parsed_snum=parse_snum(snum)\n",
        "  while '[' in parsed_snum:\n",
        "    old_parsed_snum = parsed_snum.copy()\n",
        "    for i, char in enumerate(old_parsed_snum[:-3]):\n",
        "      if type(char)==int:\n",
        "        if type(parsed_snum[i+3])==int: \n",
        "          magnitude=3*int(char)+2*int(parsed_snum[i+3])\n",
        "          del parsed_snum[i:i+5]\n",
        "          parsed_snum[i-1]=magnitude\n",
        "          break\n",
        "\n",
        "  return parsed_snum[0]"
      ],
      "metadata": {
        "id": "m4NvD4HcsYRF"
      },
      "execution_count": 27,
      "outputs": []
    },
    {
      "cell_type": "code",
      "source": [
        "test_input = \"\"\"[[[0,[4,5]],[0,0]],[[[4,5],[2,6]],[9,5]]]\n",
        "[7,[[[3,7],[4,3]],[[6,3],[8,8]]]]\n",
        "[[2,[[0,8],[3,4]]],[[[6,7],1],[7,[1,6]]]]\n",
        "[[[[2,4],7],[6,[0,5]]],[[[6,8],[2,8]],[[2,1],[4,5]]]]\n",
        "[7,[5,[[3,8],[1,4]]]]\n",
        "[[2,[2,2]],[8,[8,1]]]\n",
        "[2,9]\n",
        "[1,[[[9,3],9],[[9,0],[0,7]]]]\n",
        "[[[5,[7,4]],7],1]\n",
        "[[[[4,2],2],6],[8,7]]\"\"\""
      ],
      "metadata": {
        "id": "NLtemiiljxAt"
      },
      "execution_count": 28,
      "outputs": []
    },
    {
      "cell_type": "code",
      "source": [
        "processed_test_input = [eval(snum) for snum in test_input.split('\\n')]"
      ],
      "metadata": {
        "id": "ogghbgFjq75Q"
      },
      "execution_count": 29,
      "outputs": []
    },
    {
      "cell_type": "code",
      "source": [
        "add_reduce_snums(processed_test_input)==str([[[[8,7],[7,7]],[[8,6],[7,7]]],[[[0,7],[6,6]],[8,7]]])"
      ],
      "metadata": {
        "colab": {
          "base_uri": "https://localhost:8080/"
        },
        "id": "KHMABGxLsU80",
        "outputId": "807466a9-ca8d-4296-80b4-8fff318a0691"
      },
      "execution_count": 30,
      "outputs": [
        {
          "output_type": "execute_result",
          "data": {
            "text/plain": [
              "True"
            ]
          },
          "metadata": {},
          "execution_count": 30
        }
      ]
    },
    {
      "cell_type": "code",
      "source": [
        "test_result = add_reduce_snums(processed_test_input)\n",
        "test_magnitude = calculate_magnitude(test_result)\n",
        "print(test_magnitude)"
      ],
      "metadata": {
        "colab": {
          "base_uri": "https://localhost:8080/"
        },
        "id": "ei8O2N16vG95",
        "outputId": "a16167c4-06eb-4702-ae99-0704b3f984ce"
      },
      "execution_count": 31,
      "outputs": [
        {
          "output_type": "stream",
          "name": "stdout",
          "text": [
            "3488\n"
          ]
        }
      ]
    },
    {
      "cell_type": "code",
      "source": [
        "result = add_reduce_snums(processed_input)\n",
        "magnitude = calculate_magnitude(result)\n",
        "print(f'Resulting snum from snum addition of input: {result}\\nWith magnitude: {magnitude}')"
      ],
      "metadata": {
        "colab": {
          "base_uri": "https://localhost:8080/"
        },
        "id": "yDUre0HV_JvO",
        "outputId": "76fc7b05-4b35-47d0-ac6a-db54e0d57c30"
      },
      "execution_count": 32,
      "outputs": [
        {
          "output_type": "stream",
          "name": "stdout",
          "text": [
            "Resulting snum from snum addition of input: [[[[9, 8], [6, 0]], [[7, 6], 8]], [[[3, 2], 5], 8]]\n",
            "With magnitude: 2501\n"
          ]
        }
      ]
    },
    {
      "cell_type": "markdown",
      "source": [
        "## Part 2"
      ],
      "metadata": {
        "id": "wFPYWyDJolHW"
      }
    },
    {
      "cell_type": "code",
      "source": [
        "snum_sums = {}\n",
        "for snum1 in processed_input:\n",
        "  for snum2 in processed_input:\n",
        "    result = reduce_snums(snum1, snum2)\n",
        "    magnitude = calculate_magnitude(result)\n",
        "    snum_sums[(str(snum1), str(snum2))] = magnitude"
      ],
      "metadata": {
        "id": "xj0DOzIqnkqv"
      },
      "execution_count": 33,
      "outputs": []
    },
    {
      "cell_type": "code",
      "source": [
        "snums, magnitude = max(snum_sums.items(), key=lambda x:x[1])\n",
        "print(f'Max magnitude = {magnitude}\\nFrom snums: {snums}')"
      ],
      "metadata": {
        "colab": {
          "base_uri": "https://localhost:8080/"
        },
        "id": "QAyKn5xxpVhi",
        "outputId": "b235c282-46e2-44ea-f649-024e4fd4ab39"
      },
      "execution_count": 35,
      "outputs": [
        {
          "output_type": "stream",
          "name": "stdout",
          "text": [
            "Max magnitude = 4935\n",
            "From snums: ('[[[9, [6, 6]], [[4, 8], [1, 3]]], [[[4, 7], 8], [[5, 2], [3, 8]]]]', '[[9, [[9, 3], [3, 7]]], [[[6, 9], 1], [[2, 3], [4, 4]]]]')\n"
          ]
        }
      ]
    }
  ]
}