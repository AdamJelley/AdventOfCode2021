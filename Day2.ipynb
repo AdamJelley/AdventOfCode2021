{
  "nbformat": 4,
  "nbformat_minor": 0,
  "metadata": {
    "colab": {
      "name": "Day2.ipynb",
      "provenance": [],
      "collapsed_sections": [],
      "authorship_tag": "ABX9TyMO2do3revFilnIMRBtAULt",
      "include_colab_link": true
    },
    "kernelspec": {
      "name": "python3",
      "display_name": "Python 3"
    },
    "language_info": {
      "name": "python"
    }
  },
  "cells": [
    {
      "cell_type": "markdown",
      "metadata": {
        "id": "view-in-github",
        "colab_type": "text"
      },
      "source": [
        "<a href=\"https://colab.research.google.com/github/AdamJelley/AdventOfCode2021/blob/main/Day2.ipynb\" target=\"_parent\"><img src=\"https://colab.research.google.com/assets/colab-badge.svg\" alt=\"Open In Colab\"/></a>"
      ]
    },
    {
      "cell_type": "markdown",
      "metadata": {
        "id": "lDX5ZnchrIqg"
      },
      "source": [
        "# Day 1"
      ]
    },
    {
      "cell_type": "code",
      "metadata": {
        "id": "IA-aL8oC0Q-f"
      },
      "source": [
        "import requests\n",
        "import csv"
      ],
      "execution_count": 1,
      "outputs": []
    },
    {
      "cell_type": "code",
      "metadata": {
        "id": "jrpajyrthNv8"
      },
      "source": [
        "input_link = 'https://adventofcode.com/2021/day/2/input'\n",
        "user_cookie = {'session':'{ENTER YOUR SESSION COOKIE HERE}'} # Retrieve session cookie corresponding to user login (by inspecting cookies on data page)"
      ],
      "execution_count": 2,
      "outputs": []
    },
    {
      "cell_type": "code",
      "metadata": {
        "id": "mDRLEgtgmXod",
        "colab": {
          "base_uri": "https://localhost:8080/"
        },
        "outputId": "07131614-5e4b-4f53-c585-69038c1e78b2"
      },
      "source": [
        "raw_input = requests.get(input_link, cookies=user_cookie).text\n",
        "processed_input = [(x.split()[0],int(x.split()[1])) for x in raw_input.splitlines()]\n",
        "processed_input[:5]"
      ],
      "execution_count": 48,
      "outputs": [
        {
          "output_type": "execute_result",
          "data": {
            "text/plain": [
              "[('forward', 1), ('forward', 5), ('forward', 8), ('down', 9), ('down', 7)]"
            ]
          },
          "metadata": {},
          "execution_count": 48
        }
      ]
    },
    {
      "cell_type": "markdown",
      "metadata": {
        "id": "z0gg9kqOz8AA"
      },
      "source": [
        ""
      ]
    },
    {
      "cell_type": "markdown",
      "metadata": {
        "id": "3QlMJubTrCd2"
      },
      "source": [
        "## Part 1"
      ]
    },
    {
      "cell_type": "code",
      "metadata": {
        "colab": {
          "base_uri": "https://localhost:8080/"
        },
        "id": "mTaMXY91xNgn",
        "outputId": "f5980129-9a1c-48d1-ed2b-b6b51f8556b1"
      },
      "source": [
        "commands = {}\n",
        "\n",
        "for command in processed_input:\n",
        "  if command[0] not in commands.keys():\n",
        "    commands[command[0]]=command[1]\n",
        "  else:\n",
        "    commands[command[0]]+=command[1]\n",
        "\n",
        "horizontal = commands['forward']\n",
        "depth = commands['down']-commands['up']\n",
        "\n",
        "print(f'Final position (horizontal, depth): ({horizontal}, {depth})')\n",
        "print('\\n')\n",
        "print(f'Horizontal*depth = {horizontal*depth}')"
      ],
      "execution_count": 59,
      "outputs": [
        {
          "output_type": "stream",
          "name": "stdout",
          "text": [
            "Final position (horizontal, depth): (1927, 1091)\n",
            "\n",
            "\n",
            "Horizontal*depth = 2102357\n"
          ]
        }
      ]
    },
    {
      "cell_type": "markdown",
      "metadata": {
        "id": "XliIvLcU4AFW"
      },
      "source": [
        "## Part 2"
      ]
    },
    {
      "cell_type": "code",
      "metadata": {
        "colab": {
          "base_uri": "https://localhost:8080/"
        },
        "id": "AoRmrSFVyQSs",
        "outputId": "7b37f067-ecb2-479f-f7e0-26b5215cca54"
      },
      "source": [
        "aim=0\n",
        "horizontal=0\n",
        "depth=0\n",
        "\n",
        "for command in processed_input:\n",
        "  if command[0]=='up':\n",
        "    aim-=command[1]\n",
        "  if command[0]=='down':\n",
        "    aim+=command[1]\n",
        "  if command[0]=='forward':\n",
        "    horizontal+=command[1]\n",
        "    depth+=aim*command[1]\n",
        "\n",
        "print(f'Final position (horizontal, depth): ({horizontal}, {depth})')\n",
        "print('\\n')\n",
        "print(f'Horizontal*depth = {horizontal*depth}')"
      ],
      "execution_count": 61,
      "outputs": [
        {
          "output_type": "stream",
          "name": "stdout",
          "text": [
            "Final position (horizontal, depth): (1927, 1090312)\n",
            "\n",
            "\n",
            "Horizontal*depth = 2101031224\n"
          ]
        }
      ]
    },
    {
      "cell_type": "code",
      "metadata": {
        "id": "GRj_sdWc5VJF"
      },
      "source": [
        ""
      ],
      "execution_count": null,
      "outputs": []
    }
  ]
}